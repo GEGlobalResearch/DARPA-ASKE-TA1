{
 "cells": [
  {
   "cell_type": "code",
   "execution_count": 1,
   "metadata": {},
   "outputs": [],
   "source": [
    "import json\n",
    "import requests"
   ]
  },
  {
   "cell_type": "markdown",
   "metadata": {},
   "source": [
    "\n",
    "This cell will be used as an example."
   ]
  },
  {
   "cell_type": "code",
   "execution_count": 2,
   "metadata": {},
   "outputs": [
    {
     "data": {
      "text/plain": [
       "{'numConceptsExtracted': 30, 'numEquationsExtracted': 2}"
      ]
     },
     "execution_count": 2,
     "metadata": {},
     "output_type": "execute_result"
    }
   ],
   "source": [
    "text_to_triples_service_url = 'http://localhost:4200/darpa/aske/text2triples'\n",
    "\n",
    "# file_path = '/no_backup/de469473/aske-ta1/dataset/tmp-test/climb-rate.txt'\n",
    "file_path = 'data/speed-of-sound.txt'\n",
    "\n",
    "text = 'The force is defined as mass into acceleration'\n",
    "with open(file_path) as f:\n",
    "    text = f.read()\n",
    "\n",
    "locality = 'http://speed-of-sound'\n",
    "\n",
    "input_info = {'localityURI': locality, 'text': text}\n",
    "headers = {'Content-Type': 'application/json'}\n",
    "\n",
    "input_info_json = (json.dumps(input_info))\n",
    "\n",
    "r = requests.post(text_to_triples_service_url, input_info_json, headers=headers)\n",
    "r.json()"
   ]
  },
  {
   "cell_type": "code",
   "execution_count": null,
   "metadata": {},
   "outputs": [],
   "source": []
  }
 ],
 "metadata": {
  "kernelspec": {
   "display_name": "Python 3",
   "language": "python",
   "name": "python3"
  },
  "language_info": {
   "codemirror_mode": {
    "name": "ipython",
    "version": 3
   },
   "file_extension": ".py",
   "mimetype": "text/x-python",
   "name": "python",
   "nbconvert_exporter": "python",
   "pygments_lexer": "ipython3",
   "version": "3.7.3"
  }
 },
 "nbformat": 4,
 "nbformat_minor": 2
}
