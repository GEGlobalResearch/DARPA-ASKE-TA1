{
 "cells": [
  {
   "cell_type": "raw",
   "metadata": {},
   "source": [
    "\n",
    "********************************************************************** \n",
    " * Note: This license has also been called the \"New BSD License\" or \n",
    " * \"Modified BSD License\". See also the 2-clause BSD License.\n",
    "*\n",
    "* Copyright © 2018-2019 - General Electric Company, All Rights Reserved\n",
    "* \n",
    " * Project: ANSWER, developed with the support of the Defense Advanced \n",
    " * Research Projects Agency (DARPA) under Agreement  No.  HR00111990006. \n",
    " *\n",
    "* Redistribution and use in source and binary forms, with or without \n",
    " * modification, are permitted provided that the following conditions are met:\n",
    "* 1. Redistributions of source code must retain the above copyright notice, \n",
    " *    this list of conditions and the following disclaimer.\n",
    "*\n",
    "* 2. Redistributions in binary form must reproduce the above copyright notice, \n",
    " *    this list of conditions and the following disclaimer in the documentation \n",
    " *    and/or other materials provided with the distribution.\n",
    "*\n",
    "* 3. Neither the name of the copyright holder nor the names of its \n",
    " *    contributors may be used to endorse or promote products derived \n",
    " *    from this software without specific prior written permission.\n",
    "*\n",
    "* THIS SOFTWARE IS PROVIDED BY THE COPYRIGHT HOLDERS AND CONTRIBUTORS \"AS IS\" \n",
    " * AND ANY EXPRESS OR IMPLIED WARRANTIES, INCLUDING, BUT NOT LIMITED TO, THE \n",
    " * IMPLIED WARRANTIES OF MERCHANTABILITY AND FITNESS FOR A PARTICULAR PURPOSE \n",
    " * ARE DISCLAIMED. IN NO EVENT SHALL THE COPYRIGHT HOLDER OR CONTRIBUTORS BE \n",
    " * LIABLE FOR ANY DIRECT, INDIRECT, INCIDENTAL, SPECIAL, EXEMPLARY, OR \n",
    " * CONSEQUENTIAL DAMAGES (INCLUDING, BUT NOT LIMITED TO, PROCUREMENT OF \n",
    " * SUBSTITUTE GOODS OR SERVICES; LOSS OF USE, DATA, OR PROFITS; OR BUSINESS \n",
    " * INTERRUPTION) HOWEVER CAUSED AND ON ANY THEORY OF LIABILITY, WHETHER IN \n",
    " * CONTRACT, STRICT LIABILITY, OR TORT (INCLUDING NEGLIGENCE OR OTHERWISE) \n",
    " * ARISING IN ANY WAY OUT OF THE USE OF THIS SOFTWARE, EVEN IF ADVISED OF \n",
    " * THE POSSIBILITY OF SUCH DAMAGE.\n",
    "*\n",
    "***********************************************************************\n"
   ]
  },
  {
   "cell_type": "code",
   "execution_count": 1,
   "metadata": {},
   "outputs": [],
   "source": [
    "import json\n",
    "import requests\n",
    "import pprint"
   ]
  },
  {
   "cell_type": "markdown",
   "metadata": {},
   "source": [
    "### Upload Domain Ontology\n",
    "\n",
    "User's optionally can upload a domain ontology which includes a list of domain concepts that the Text to Triples service can leverage during the extraction process. The domain ontology has to be uploaded to the same \"local\" semantic graph where text extraction results will be stored. The local graph is defined via the 'localityURI' property.\n",
    "\n",
    "Request URL: http://localhost:4200/darpa/aske/uploadDomainOntology\n",
    "\n",
    "\n",
    "Request Payload: { 'baseURI': 'http://aske.ge.com/text2triples#', 'localityURI': 'http://speed-of-sound', 'ontologyAsString': 'ontology_string' }\n",
    "\n",
    "\n",
    "This service can be tested via its Swagger Documentation as well: http://localhost:4200/darpa/aske/ui/#!/text2triples/app_text_to_triples_upload_domain_ontology"
   ]
  },
  {
   "cell_type": "code",
   "execution_count": 2,
   "metadata": {},
   "outputs": [],
   "source": [
    "upload_domain_ontology_url = 'http://localhost:4200/darpa/aske/uploadDomainOntology'\n",
    "\n",
    "owl_line = ''\n",
    "owl_file_path = 'data/sample.owl' \n",
    "file = open(owl_file_path, 'r')\n",
    "\n",
    "for line in enumerate(file):\n",
    "    line_str =  (line[1].replace('\"', '\\\"'))\n",
    "    owl_line = owl_line + ' ' + line_str\n",
    "\n",
    "input_info = { 'baseURI': 'http://aske.ge.com/text2triples#', 'localityURI': 'http://speed-of-sound', \n",
    "              'ontologyAsString': owl_line.strip() }\n",
    "\n",
    "headers = {'Content-Type': 'application/json'}\n",
    "\n",
    "input_info_json = (json.dumps(input_info))\n",
    "\n",
    "r = requests.post(upload_domain_ontology_url, input_info_json, headers=headers)\n",
    "# pprint.pprint(r.json())"
   ]
  },
  {
   "cell_type": "markdown",
   "metadata": {},
   "source": [
    "### Text to Triples Main Service\n",
    "\n",
    "The following code cell demonstrates how to interact with the main Text to Triples (_t2t_) service. _t2t_ parses a blob of text, extracts relevant scientific concepts and equations and adds them to a \"local\" semantic graph whose [URI](https://en.wikipedia.org/wiki/Uniform_Resource_Identifier) is provided by the user. The service response includes information about the number of scientific concept and equation it was able to extract from user-specified text. \n",
    "\n",
    "Request URL: http://localhost:4200/darpa/aske/text2triples\n",
    "\n",
    "Request Payload: { 'text': 'The force is defined as mass into acceleration', 'localityURI': 'http://speed-of-sound' }\n",
    "\n",
    "This service can be tested via its Swagger Documentation as well: http://localhost:4200/darpa/aske/ui/#!/text2triples/app_text_to_triples_text_to_triples"
   ]
  },
  {
   "cell_type": "code",
   "execution_count": 3,
   "metadata": {},
   "outputs": [],
   "source": [
    "text_to_triples_service_url = 'http://localhost:4200/darpa/aske/text2triples'\n",
    "\n",
    "file_path = 'data/speed-of-sound.txt'\n",
    "\n",
    "text = ''\n",
    "with open(file_path) as f:\n",
    "    text = f.read()\n",
    "\n",
    "locality = 'http://speed-of-sound'\n",
    "\n",
    "input_info = {'localityURI': locality, 'text': text}\n",
    "headers = {'Content-Type': 'application/json'}\n",
    "\n",
    "input_info_json = (json.dumps(input_info))\n",
    "\n",
    "r = requests.post(text_to_triples_service_url, input_info_json, headers=headers)\n",
    "# pprint.pprint(r.json())"
   ]
  },
  {
   "cell_type": "markdown",
   "metadata": {},
   "source": [
    "### Locality Search\n",
    "\n",
    "One of the main objectives of _t2t_ is to augment scientific models that are extracted from code. This can be accomplished by identifying scientific models that appear in text only or by identifying information about scientific models from text that can help extract better models from code. Locality Search assists in the latter (see the following code block for example usage of locality search). \n",
    "\n",
    "The beta release of locality search allows to search using variable names that appear in code. For instance, an ambiguous variable \"a\" appears in the code and one wishes to get more context about. Assuming the availability of text associated with code (and it's extraction into a local graph using _t2t_), with the help of locality search API, users can look up which scientific models (aka equations) does \"a\" appear in.\n",
    "\n",
    "The response from locality search includes the equation in which the variable appears and wherever possible, the scientific concept assciated with the variable as well as scientific concept's augmented semantic type.\n",
    "\n",
    "Request URL: http://localhost:4200/darpa/aske/equationVariableContext\n",
    "\n",
    "Request Payload: { 'variableName': 'a', 'localityURI': 'http://speed-of-sound' }\n",
    "\n",
    "This service can be tested via its Swagger Documentation as well: http://localhost:4200/darpa/aske/ui/#!/text2triples/app_text_to_triples_get_equation_var_context\n"
   ]
  },
  {
   "cell_type": "code",
   "execution_count": 4,
   "metadata": {},
   "outputs": [],
   "source": [
    "# The following code block assumes contents of \"speed of sound\" have been processed and extracted \n",
    "# into \"http://speed-of-sound\"\n",
    "\n",
    "locality_search_service_url = 'http://localhost:4200/darpa/aske/equationVariableContext'\n",
    "\n",
    "input_info = {'localityURI': 'http://speed-of-sound', 'variableName': 'R'}\n",
    "headers = {'Content-Type': 'application/json'}\n",
    "\n",
    "input_info_json = (json.dumps(input_info))\n",
    "\n",
    "r = requests.post(locality_search_service_url, input_info_json, headers=headers)\n",
    "\n",
    "# pprint.pprint(r.json())\n"
   ]
  },
  {
   "cell_type": "markdown",
   "metadata": {},
   "source": [
    "### Units-based Locality Search\n",
    "\n",
    "Additional context about the scientific model represented in the code can be obtained by parsing the surrounding comments. These comments often include refrences to the unit associated with the variable in question. Units-based locality search, allows the user to use code comments that potentially contain references to units to identify related concepts and equations from the associated local graph.\n",
    "\n",
    "While this feature is being made available as part of the beta release, we expect the reponse of this service to evovle. The current response inlcudes the extracted units and it's associated concept, along with a list of equations (equation URIs) in which the concept appears and the variable name associated with the concept.\n",
    "\n",
    "Request URL: http://localhost:4200/darpa/aske/unitextraction\n",
    "\n",
    "Request Payload: { 'text': 'variable measurement degree Celsius', 'localityURI': 'http://speed-of-sound' }\n",
    "\n",
    "This service can be tested via its Swagger Documentation as well: http://localhost:4200/darpa/aske/ui/#!/text2triples/app_text_to_triples_get_units_info"
   ]
  },
  {
   "cell_type": "code",
   "execution_count": 5,
   "metadata": {},
   "outputs": [],
   "source": [
    "# The following code block assumes contents of \"speed of sound\" have been processed and extracted \n",
    "# into \"http://speed-of-sound\"\n",
    "\n",
    "units_search_service_url = 'http://localhost:4200/darpa/aske/unitextraction'\n",
    "\n",
    "input_info = { 'text': 'variable measurement degree Celsius', 'localityURI': 'http://speed-of-sound' }\n",
    "headers = {'Content-Type': 'application/json'}\n",
    "\n",
    "input_info_json = (json.dumps(input_info))\n",
    "\n",
    "r = requests.post(units_search_service_url, input_info_json, headers=headers)\n",
    "\n",
    "# pprint.pprint(r.json())"
   ]
  },
  {
   "cell_type": "markdown",
   "metadata": {},
   "source": [
    "### Save Graph\n",
    "\n",
    "The local semantic graph generated by _t2t_ can be exported using this API. The save graph API returns the local graph as a seralized string in the [N3](https://en.wikipedia.org/wiki/Notation3) format.\n",
    "\n",
    "Request URL: http://localhost:4200/darpa/aske/saveGraph\n",
    "\n",
    "Request Payload: { 'localityURI': 'http://speed-of-sound' }\n",
    "\n",
    "This service can be tested via its Swagger Documentation as well: http://localhost:4200/darpa/aske/ui/#!/text2triples/app_text_to_triples_save_graph\n"
   ]
  },
  {
   "cell_type": "code",
   "execution_count": 6,
   "metadata": {},
   "outputs": [],
   "source": [
    "# The following code block assumes contents of \"speed of sound\" have been processed and extracted \n",
    "# into \"http://speed-of-sound\"\n",
    "\n",
    "save_graph_service_url = 'http://localhost:4200/darpa/aske/saveGraph'\n",
    "\n",
    "input_info = { 'localityURI': 'http://speed-of-sound' }\n",
    "headers = {'Content-Type': 'application/json'}\n",
    "\n",
    "input_info_json = (json.dumps(input_info))\n",
    "\n",
    "r = requests.post(save_graph_service_url, input_info_json, headers=headers)\n",
    "\n",
    "# pprint.pprint(r.json())\n"
   ]
  },
  {
   "cell_type": "markdown",
   "metadata": {},
   "source": [
    "### Clear Graph\n",
    "\n",
    "The local semantic graph generated by _t2t_ can be cleared/discarded using this API.\n",
    "\n",
    "Request URL: http://localhost:4200/darpa/aske/clearGraph\n",
    "\n",
    "Request Payload: { 'localityURI': 'http://speed-of-sound' }\n",
    "\n",
    "This service can be tested via its Swagger Documentation as well: http://localhost:4200/darpa/aske/ui/#!/text2triples/app_text_to_triples_clear_graph"
   ]
  },
  {
   "cell_type": "code",
   "execution_count": 7,
   "metadata": {},
   "outputs": [],
   "source": [
    "clear_graph_service_url = 'http://localhost:4200/darpa/aske/clearGraph'\n",
    "\n",
    "input_info = { 'localityURI': 'http://speed-of-sound' }\n",
    "headers = {'Content-Type': 'application/json'}\n",
    "\n",
    "input_info_json = (json.dumps(input_info))\n",
    "\n",
    "r = requests.post(clear_graph_service_url, input_info_json, headers=headers)\n",
    "\n",
    "# pprint.pprint(r.json())"
   ]
  },
  {
   "cell_type": "markdown",
   "metadata": {},
   "source": [
    "### Text to Ontology\n",
    "\n",
    "This API allows users to automatically extract an ontology form unstructured text. This API provides a skeleton domain ontology that users can edit and build upon. \n",
    "\n",
    "Request URL: http://localhost:4200/darpa/aske/textToOntology\n",
    "\n",
    "Request Payload: { 'baseURI': 'string', 'serialization': 'string', 'text': 'string' }\n",
    "\n",
    "This service can be tested via its Swagger Documentation as well: http://localhost:4200/darpa/aske/ui/#!/text2triples/app_text_to_triples_text_to_ontology"
   ]
  },
  {
   "cell_type": "code",
   "execution_count": 8,
   "metadata": {},
   "outputs": [],
   "source": [
    "text_to_ontology_service_url = 'http://localhost:4200/darpa/aske/textToOntology'\n",
    "\n",
    "file_path = 'data/wind-turbine.txt'\n",
    "text = ''\n",
    "with open(file_path) as f:\n",
    "    text = f.read()\n",
    "\n",
    "input_info = { 'baseURI': 'http://aske.ge.com/text2ontology#', 'serialization': 'n3', 'text': text }\n",
    "headers = {'Content-Type': 'application/json'}\n",
    "\n",
    "input_info_json = (json.dumps(input_info))\n",
    "\n",
    "r = requests.post(text_to_ontology_service_url, input_info_json, headers=headers)\n",
    "\n",
    "# pprint.pprint(r.json())"
   ]
  },
  {
   "cell_type": "code",
   "execution_count": null,
   "metadata": {},
   "outputs": [],
   "source": []
  }
 ],
 "metadata": {
  "kernelspec": {
   "display_name": "Python 3",
   "language": "python",
   "name": "python3"
  },
  "language_info": {
   "codemirror_mode": {
    "name": "ipython",
    "version": 3
   },
   "file_extension": ".py",
   "mimetype": "text/x-python",
   "name": "python",
   "nbconvert_exporter": "python",
   "pygments_lexer": "ipython3",
   "version": "3.7.3"
  }
 },
 "nbformat": 4,
 "nbformat_minor": 2
}
