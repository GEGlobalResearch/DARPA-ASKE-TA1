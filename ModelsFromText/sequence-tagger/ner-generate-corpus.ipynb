{
 "cells": [
  {
   "cell_type": "markdown",
   "metadata": {},
   "source": [
    "Note: This license has also been called the \"New BSD License\" or \n",
    "\"Modified BSD License\". See also the 2-clause BSD License.\n",
    "\n",
    "Copyright © 2018-2019 - General Electric Company, All Rights Reserved\n",
    " \n",
    "Project: ANSWER, developed with the support of the Defense Advanced \n",
    "Research Projects Agency (DARPA) under Agreement  No.  HR00111990006. \n",
    " \n",
    "Redistribution and use in source and binary forms, with or without \n",
    "modification, are permitted provided that the following conditions are met:\n",
    "\n",
    " 1. Redistributions of source code must retain the above copyright notice, \n",
    "     this list of conditions and the following disclaimer.\n",
    "\n",
    " 2. Redistributions in binary form must reproduce the above copyright notice, \n",
    "     this list of conditions and the following disclaimer in the documentation \n",
    "     and/or other materials provided with the distribution.\n",
    "\n",
    " 3. Neither the name of the copyright holder nor the names of its \n",
    "    contributors may be used to endorse or promote products derived \n",
    "     from this software without specific prior written permission.\n",
    "\n",
    " THIS SOFTWARE IS PROVIDED BY THE COPYRIGHT HOLDERS AND CONTRIBUTORS \"AS IS\" \n",
    " AND ANY EXPRESS OR IMPLIED WARRANTIES, INCLUDING, BUT NOT LIMITED TO, THE \n",
    " IMPLIED WARRANTIES OF MERCHANTABILITY AND FITNESS FOR A PARTICULAR PURPOSE \n",
    " ARE DISCLAIMED. IN NO EVENT SHALL THE COPYRIGHT HOLDER OR CONTRIBUTORS BE \n",
    " LIABLE FOR ANY DIRECT, INDIRECT, INCIDENTAL, SPECIAL, EXEMPLARY, OR \n",
    " CONSEQUENTIAL DAMAGES (INCLUDING, BUT NOT LIMITED TO, PROCUREMENT OF \n",
    " SUBSTITUTE GOODS OR SERVICES; LOSS OF USE, DATA, OR PROFITS; OR BUSINESS \n",
    " INTERRUPTION) HOWEVER CAUSED AND ON ANY THEORY OF LIABILITY, WHETHER IN \n",
    " CONTRACT, STRICT LIABILITY, OR TORT (INCLUDING NEGLIGENCE OR OTHERWISE) \n",
    " ARISING IN ANY WAY OUT OF THE USE OF THIS SOFTWARE, EVEN IF ADVISED OF \n",
    " THE POSSIBILITY OF SUCH DAMAGE."
   ]
  },
  {
   "cell_type": "code",
   "execution_count": 1,
   "metadata": {},
   "outputs": [],
   "source": [
    "#The following code parses the UIMA Concept Mapper annotations and converts them into IOB annotations\n",
    "\n",
    "from flair.data import Sentence\n",
    "from flair.models import SequenceTagger"
   ]
  },
  {
   "cell_type": "code",
   "execution_count": 4,
   "metadata": {},
   "outputs": [],
   "source": [
    "#Logic\n",
    "#read the text file\n",
    "#tokenize the content\n",
    "#if token starts B_ or I_, replace it with \"\" and move it to right\n",
    "#if token doesn't start with B_ or I_, add O to the right\n",
    "\n",
    "def generateNERAnnotations(file_path, out_file_path):\n",
    "    file = open(file_path, 'r')\n",
    "    sentences = []\n",
    "    sentences = file.readlines()\n",
    "    \n",
    "    out_file = open(out_file_path, 'w')\n",
    "    \n",
    "    for sent in sentences:\n",
    "        s = Sentence(sent.strip()) #use_tokenizer=True\n",
    "        for token in s:\n",
    "            token_text = token.text\n",
    "            if token_text.startswith('B-CONCEPT'):\n",
    "                token_text = token_text.replace('B-CONCEPT_', '')\n",
    "                token_text = token_text + ' B-CONCEPT' \n",
    "            elif token_text.startswith('I-CONCEPT'):\n",
    "                token_text = token_text.replace('I-CONCEPT_', '')\n",
    "                token_text = token_text + ' I-CONCEPT' \n",
    "            else:\n",
    "                token_text = token_text + ' O'\n",
    "            out_file.write(token_text + '\\n')\n",
    "        out_file.write('\\n\\n')\n",
    "    \n",
    "    file.close()\n",
    "    out_file.close()"
   ]
  },
  {
   "cell_type": "code",
   "execution_count": 6,
   "metadata": {},
   "outputs": [],
   "source": [
    "\n",
    "#main data folder - nasa-website\n",
    "base_path = 'dataset/nasa-website/annotations/'\n",
    "\n",
    "train_file_path = base_path + 'trainAnnotations.txt'\n",
    "train_out_file_path = base_path + 'data/train.txt'\n",
    "test_file_path = base_path + 'testAnnotations.txt'\n",
    "test_out_file_path = base_path + 'data/test.txt'\n",
    "\n",
    "generateNERAnnotations(train_file_path, train_out_file_path)\n",
    "generateNERAnnotations(test_file_path, test_out_file_path)\n"
   ]
  },
  {
   "cell_type": "code",
   "execution_count": null,
   "metadata": {},
   "outputs": [],
   "source": []
  }
 ],
 "metadata": {
  "kernelspec": {
   "display_name": "Python 3",
   "language": "python",
   "name": "python3"
  },
  "language_info": {
   "codemirror_mode": {
    "name": "ipython",
    "version": 3
   },
   "file_extension": ".py",
   "mimetype": "text/x-python",
   "name": "python",
   "nbconvert_exporter": "python",
   "pygments_lexer": "ipython3",
   "version": "3.7.1"
  }
 },
 "nbformat": 4,
 "nbformat_minor": 2
}
