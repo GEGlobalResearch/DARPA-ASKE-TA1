{
 "cells": [
  {
   "cell_type": "code",
   "execution_count": 1,
   "metadata": {},
   "outputs": [],
   "source": [
    "#The following code parses the UIMA Concept Mapper annotations and converts them into IOB annotations\n",
    "\n",
    "from flair.data import Sentence\n",
    "from flair.models import SequenceTagger"
   ]
  },
  {
   "cell_type": "code",
   "execution_count": 2,
   "metadata": {},
   "outputs": [],
   "source": [
    "import os\n",
    "os.environ['http_proxy'] = \"http://proxy.research.ge.com:8080\" \n",
    "os.environ['https_proxy'] = \"http://proxy.research.ge.com:8080\""
   ]
  },
  {
   "cell_type": "code",
   "execution_count": 4,
   "metadata": {},
   "outputs": [],
   "source": [
    "#Logic\n",
    "#read the text file\n",
    "#tokenize the content\n",
    "#if token starts B_ or I_, replace it with \"\" and move it to right\n",
    "#if token doesn't start with B_ or I_, add O to the right\n",
    "\n",
    "def generateNERAnnotations(file_path, out_file_path):\n",
    "    file = open(file_path, 'r')\n",
    "    sentences = []\n",
    "    sentences = file.readlines()\n",
    "    \n",
    "    out_file = open(out_file_path, 'w')\n",
    "    \n",
    "    for sent in sentences:\n",
    "        s = Sentence(sent.strip()) #use_tokenizer=True\n",
    "        for token in s:\n",
    "            token_text = token.text\n",
    "            if token_text.startswith('B-CONCEPT'):\n",
    "                token_text = token_text.replace('B-CONCEPT_', '')\n",
    "                token_text = token_text + ' B-CONCEPT' \n",
    "            elif token_text.startswith('I-CONCEPT'):\n",
    "                token_text = token_text.replace('I-CONCEPT_', '')\n",
    "                token_text = token_text + ' I-CONCEPT' \n",
    "            else:\n",
    "                token_text = token_text + ' O'\n",
    "            out_file.write(token_text + '\\n')\n",
    "        out_file.write('\\n\\n')\n",
    "    \n",
    "    file.close()\n",
    "    out_file.close()"
   ]
  },
  {
   "cell_type": "code",
   "execution_count": 6,
   "metadata": {},
   "outputs": [],
   "source": [
    "\n",
    "#main data folder - nasa-website\n",
    "base_path = 'dataset/nasa-website/annotations/'\n",
    "\n",
    "train_file_path = base_path + 'trainAnnotations.txt'\n",
    "train_out_file_path = base_path + 'data/train.txt'\n",
    "test_file_path = base_path + 'testAnnotations.txt'\n",
    "test_out_file_path = base_path + 'data/test.txt'\n",
    "\n",
    "generateNERAnnotations(train_file_path, train_out_file_path)\n",
    "generateNERAnnotations(test_file_path, test_out_file_path)\n"
   ]
  },
  {
   "cell_type": "code",
   "execution_count": null,
   "metadata": {},
   "outputs": [],
   "source": []
  }
 ],
 "metadata": {
  "kernelspec": {
   "display_name": "Python 3",
   "language": "python",
   "name": "python3"
  },
  "language_info": {
   "codemirror_mode": {
    "name": "ipython",
    "version": 3
   },
   "file_extension": ".py",
   "mimetype": "text/x-python",
   "name": "python",
   "nbconvert_exporter": "python",
   "pygments_lexer": "ipython3",
   "version": "3.7.1"
  }
 },
 "nbformat": 4,
 "nbformat_minor": 2
}
