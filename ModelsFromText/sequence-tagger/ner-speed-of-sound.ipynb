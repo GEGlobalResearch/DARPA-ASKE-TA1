{
 "cells": [
  {
   "cell_type": "code",
   "execution_count": 2,
   "metadata": {},
   "outputs": [
    {
     "name": "stdout",
     "output_type": "stream",
     "text": [
      "Air is a gas, and a very important property of any gas is the speed <B-CONCEPT> of <I-CONCEPT> sound <I-CONCEPT> through the gas. Why are we interested in the speed <B-CONCEPT> of <I-CONCEPT> sound? <I-CONCEPT> The speed <B-CONCEPT> of <I-CONCEPT> \"sound\" <I-CONCEPT> is actually the speed <B-CONCEPT> of <I-CONCEPT> transmission of a small disturbance through a medium. Sound itself is a sensation created in the human brain in response to sensory inputs from the inner ear. (We won't comment on the old \"tree falling in a forest\" discussion!)\n",
      "\n",
      "\n",
      "\n",
      "Disturbances are transmitted through a gas as a result of collisions between the randomly moving molecules in the gas. The transmission of a small disturbance through a gas is an isentropic process. The conditions in the gas are the same before and after the disturbance passes through. Because the speed <B-CONCEPT> of <I-CONCEPT> transmission depends on molecular collisions, the speed <B-CONCEPT> of <I-CONCEPT> sound <I-CONCEPT> depends on the state of the gas. The speed <B-CONCEPT> of <I-CONCEPT> sound <I-CONCEPT> is a constant within a given gas and the value of the constant depends on the type of gas (air, pure oxygen, carbon dioxide, etc.) and the temperature <B-CONCEPT> of the gas. For hypersonic flows, the high temperature <B-CONCEPT> of <I-CONCEPT> the gas generates real gas effects that can alter the speed <B-CONCEPT> of <I-CONCEPT> sound. <I-CONCEPT> An analysis based on conservation of mass <B-CONCEPT> and momentum <B-CONCEPT> shows that the square of the speed <B-CONCEPT> of <I-CONCEPT> sound <I-CONCEPT> a^2 is equal to the the gas constant R times the temperature <B-CONCEPT> T times the ratio of. specific heats gamma\n",
      "\n",
      "\n",
      "\n",
      "a^2 <B-EQUATION> = <I-EQUATION> R <I-EQUATION> * <I-EQUATION> T <I-EQUATION> * <I-EQUATION> gamma\n",
      " <I-EQUATION>\n",
      "\n",
      "\n",
      "Notice that the temperature <B-CONCEPT> must be specified on an absolute scale (Kelvin or Rankine). The dependence on the type of gas is included in the gas constant R. which equals the universal gas constant divided by the molecular weight of the gas, and on the ratio of specific heats.\n",
      "\n",
      "\n",
      "\n",
      "If the specific heat capacity of a gas is a constant value, the gas is said to be calorically perfect and if the specific heat <B-CONCEPT> capacity <I-CONCEPT> changes, the gas is said to be calorically imperfect. At subsonic and low supersonic Mach numbers, air is calorically perfect. But under low hypersonic conditions, air is calorically imperfect. Derived flow variables, like the speed <B-CONCEPT> of <I-CONCEPT> sound <I-CONCEPT> and the isentropic flow relations are slightly different for a calorically imperfect gas than the conditions predicted for a calorically perfect gas because some of the energy of the flow excites the vibrational modes of <I-CONCEPT> the diatomic molecules of nitrogen and oxygen in the air. The equation given above was derived for a calorically perfect gas. If we include the effects of caloric imperfection, some additional terms are added to the equation.\n",
      "\n",
      "\n",
      "\n",
      "For the calorically imperfect case, mathematical models based on a simple harmonic vibrator have been developed. The details of the analysis were given by Eggars in NACA Report 959. A synopsis of the report is included in NACA Report 1135. To a first order approximation, the equation for the speed <B-CONCEPT> of <I-CONCEPT> sound <I-CONCEPT> for a calorically imperfect gas is given by:\n",
      "\n",
      "\n",
      "\n",
      "a^2 <B-EQUATION> = <I-EQUATION> R <I-EQUATION> * <I-EQUATION> T <I-EQUATION> * <I-EQUATION> {1 <I-EQUATION> + <I-EQUATION> (gamma <I-EQUATION> - <I-EQUATION> 1) <I-EQUATION> / <I-EQUATION> ( <I-EQUATION> 1 <I-EQUATION> + <I-EQUATION> (gamma-1) <I-EQUATION> * <I-EQUATION> [(theta/T)^2 <I-EQUATION> * <I-EQUATION> e^(theta/T) <I-EQUATION> /(e^(theta/T) <I-EQUATION> -1)^2]) <I-EQUATION> }\n",
      " <I-EQUATION>\n",
      "where theta is a thermal constant equal to 3056 degrees Kelvin, gamma is the calorically perfect value of the ratio of specific heats, and T is the static temperature.\n",
      " <B-CONCEPT>\n",
      "\n",
      "\n",
      "The speed <B-CONCEPT> of <I-CONCEPT> sound <I-CONCEPT> in air depends on the type of gas and the temperature <B-CONCEPT> of <I-CONCEPT> the gas. On Earth, the atmosphere is composed of mostly diatomic nitrogen and oxygen, and the temperature <B-CONCEPT> depends on the altitude in a rather complex way. Scientists and engineers have created a mathematical model of the atmosphere to help them account for the changing effects of temperature <B-CONCEPT> with altitude. We have created an atmospheric calculator to let you study the variation of sound speed <B-CONCEPT> with altitude.\n",
      "\n",
      "\n",
      "\n",
      "Here's another Java program to calculate speed <B-CONCEPT> of <I-CONCEPT> sound <I-CONCEPT> and Mach number for different altitudes and speed. <B-CONCEPT> You can use this calculator to determine the Mach number of an aircraft at a given speed <B-CONCEPT> and altitude.\n",
      "\n",
      "\n",
      "\n",
      "\n",
      "\n",
      "To change input values, click on the input box (black on white), backspace over the input value, type in your new value. Then hit the red COMPUTE button to send your new value to the program. You will see the output boxes (yellow on black) change value. You can use either English or Metric units and you can input either the Mach number or the speed <B-CONCEPT> by using the menu buttons. Just click on the menu button and click on your selection. There is a sleek version of this program for experienced users who do not need these instructions.\n",
      "\n",
      "\n",
      "\n",
      "You can also download your own copy of this program to run off-line by clicking on this button:\n"
     ]
    }
   ],
   "source": [
    "#The following code runs the sequence tagger model on the \"Speed of Sound\" webpage <https://www.grc.nasa.gov/WWW/BGH/sound.html>\n",
    "\n",
    "#1. read the speed of sound file\n",
    "#2. load the model\n",
    "#3. predict concepts and equations\n",
    "\n",
    "from flair.data import Sentence\n",
    "from flair.models import SequenceTagger\n",
    "\n",
    "file_path = 'dataset/nasa-website/speed-of-sound/Speed of Sound Interactive.txt'\n",
    "file = open(file_path, 'r')\n",
    "\n",
    "content = []\n",
    "content = file.readlines()\n",
    "\n",
    "#model folder - ner-equations-01-23-2019\n",
    "model_file_path = 'resources/taggers/ner-equations-01-23-2019/final-model.pt'\n",
    "model = SequenceTagger.load_from_file(model_file_path)\n",
    "\n",
    "for sent in content :\n",
    "    sentence = Sentence(sent)\n",
    "    model.predict(sentence)\n",
    "    print(sentence.to_tagged_string())"
   ]
  },
  {
   "cell_type": "code",
   "execution_count": null,
   "metadata": {},
   "outputs": [],
   "source": []
  }
 ],
 "metadata": {
  "kernelspec": {
   "display_name": "Python 3",
   "language": "python",
   "name": "python3"
  },
  "language_info": {
   "codemirror_mode": {
    "name": "ipython",
    "version": 3
   },
   "file_extension": ".py",
   "mimetype": "text/x-python",
   "name": "python",
   "nbconvert_exporter": "python",
   "pygments_lexer": "ipython3",
   "version": "3.7.1"
  }
 },
 "nbformat": 4,
 "nbformat_minor": 2
}
