{
 "cells": [
  {
   "cell_type": "markdown",
   "metadata": {},
   "source": [
    "\n",
    "********************************************************************** \n",
    "  Note: This license has also been called the \"New BSD License\" or \n",
    "  \"Modified BSD License\". See also the 2-clause BSD License.\n",
    " \n",
    "  Copyright © 2018-2019 - General Electric Company, All Rights Reserved\n",
    "  \n",
    "  Project: ANSWER, developed with the support of the Defense Advanced \n",
    "  Research Projects Agency (DARPA) under Agreement  No.  HR00111990006. \n",
    " \n",
    "  Redistribution and use in source and binary forms, with or without \n",
    "  modification, are permitted provided that the following conditions are met:\n",
    "  1. Redistributions of source code must retain the above copyright notice, \n",
    "     this list of conditions and the following disclaimer.\n",
    " \n",
    "  2. Redistributions in binary form must reproduce the above copyright notice, \n",
    "     this list of conditions and the following disclaimer in the documentation \n",
    "     and/or other materials provided with the distribution.\n",
    " \n",
    "  3. Neither the name of the copyright holder nor the names of its \n",
    "     contributors may be used to endorse or promote products derived \n",
    "     from this software without specific prior written permission.\n",
    " \n",
    "  THIS SOFTWARE IS PROVIDED BY THE COPYRIGHT HOLDERS AND CONTRIBUTORS \"AS IS\" \n",
    "  AND ANY EXPRESS OR IMPLIED WARRANTIES, INCLUDING, BUT NOT LIMITED TO, THE \n",
    "  IMPLIED WARRANTIES OF MERCHANTABILITY AND FITNESS FOR A PARTICULAR PURPOSE \n",
    "  ARE DISCLAIMED. IN NO EVENT SHALL THE COPYRIGHT HOLDER OR CONTRIBUTORS BE \n",
    "  LIABLE FOR ANY DIRECT, INDIRECT, INCIDENTAL, SPECIAL, EXEMPLARY, OR \n",
    "  CONSEQUENTIAL DAMAGES (INCLUDING, BUT NOT LIMITED TO, PROCUREMENT OF \n",
    "  SUBSTITUTE GOODS OR SERVICES; LOSS OF USE, DATA, OR PROFITS; OR BUSINESS \n",
    "  INTERRUPTION) HOWEVER CAUSED AND ON ANY THEORY OF LIABILITY, WHETHER IN \n",
    "  CONTRACT, STRICT LIABILITY, OR TORT (INCLUDING NEGLIGENCE OR OTHERWISE) \n",
    "  ARISING IN ANY WAY OUT OF THE USE OF THIS SOFTWARE, EVEN IF ADVISED OF \n",
    "  THE POSSIBILITY OF SUCH DAMAGE.\n",
    "\n",
    " ***********************************************************************\n"
   ]
  },
  {
   "cell_type": "markdown",
   "metadata": {},
   "source": [
    "# Demonstration of K-CHAIN Services\n",
    "\n",
    "This notebook demonstrates the different functionality and capabilities of the Knowledege-consistent hybrid AI networks (K-CHAIN). Specifically, the demonstration will cover the following aspects:\n",
    "\n",
    "-  Setup of K-CHAIN\n",
    "-  Building models:\n",
    "    -  with physics models with simple equations provided as strings\n",
    "    -  with physics models captured in TF-compatible python code, where the code itself was derived from extracted text\n",
    "    -  with experimental data\n",
    "    -  with default values of certain inputs \n",
    "-  Evaluating models during inference:\n",
    "    -  agnostic to whether model was built as data-driven or physics-based\n",
    "    -  with ability to use default values (if not provided at inference time) and inform user about all default values used in the computation \n",
    "    -  with ability to inform user that key variables are missing to conduct inference\n",
    "\n"
   ]
  },
  {
   "cell_type": "markdown",
   "metadata": {},
   "source": [
    "## Setup of Services"
   ]
  },
  {
   "cell_type": "code",
   "execution_count": 1,
   "metadata": {},
   "outputs": [],
   "source": [
    "#imports needed for demostration\n",
    "\n",
    "#for communicating with services\n",
    "import requests"
   ]
  },
  {
   "cell_type": "markdown",
   "metadata": {},
   "source": [
    "This code demonstrates the use of K-CHAIN service. Please use \"Launch K-CHAIN Service\" Notebook for launching this service before proceeding to the following demonstrations. The code below assumes that service has been launched. \n",
    "\n",
    "The \"Launch K-CHAIN Service\" Notebook is available [here](Launch%20K-CHAIN%20Service.ipynb)."
   ]
  },
  {
   "cell_type": "code",
   "execution_count": 2,
   "metadata": {},
   "outputs": [],
   "source": [
    "#URL to interact with build\n",
    "url_build = 'http://localhost:12345/darpa/aske/kchain/build'\n",
    "\n",
    "#URL to interact with evaluate service\n",
    "url_evaluate = 'http://localhost:12345/darpa/aske/kchain/evaluate'"
   ]
  },
  {
   "cell_type": "markdown",
   "metadata": {},
   "source": [
    "## Model build demonstrations\n",
    "\n",
    "### Build physics models with simple equations provided as strings:"
   ]
  },
  {
   "cell_type": "code",
   "execution_count": 3,
   "metadata": {},
   "outputs": [
    {
     "data": {
      "text/plain": [
       "{'metagraphLocation': '../models/Newtons2LawModel',\n",
       " 'modelType': 'Physics',\n",
       " 'trainedState': 0}"
      ]
     },
     "execution_count": 3,
     "metadata": {},
     "output_type": "execute_result"
    }
   ],
   "source": [
    "#inputPacket like this one is programmatically constructed by the ANSWER agent\n",
    "inputPacket = {\n",
    "                  \"inputVariables\": [\n",
    "                    {\n",
    "                      \"name\": \"Mass\",\n",
    "                      \"type\": \"double\"\n",
    "                    },\n",
    "                    {\n",
    "                      \"name\": \"Acceleration\",\n",
    "                      \"type\": \"double\"\n",
    "                    }\n",
    "                  ],\n",
    "                  \"outputVariables\": [\n",
    "                    {\n",
    "                      \"name\": \"Force\",\n",
    "                      \"type\": \"double\"\n",
    "                    }\n",
    "                  ],\n",
    "                   \"equationModel\" : \"Force = Mass * Acceleration\",\n",
    "                   \"modelName\" : \"Newtons2LawModel\"\n",
    "                 }\n",
    "\n",
    "#send request to build model\n",
    "r = requests.post(url_build, json=inputPacket)\n",
    "\n",
    "#see the response\n",
    "r.json()"
   ]
  },
  {
   "cell_type": "markdown",
   "metadata": {},
   "source": [
    "__Explanation of ideal outcome:__ \n",
    "\n",
    "```\n",
    "{'metagraphLocation': '../models/Newtons2LawModel',\n",
    " 'modelType': 'Physics',\n",
    " 'trainedState': 0}\n",
    "```\n",
    "\n",
    "TensorFlow models are locally stored as a MetaGraph which includes the computational graph object, model parameters, and data associated with training that model (see [TensorFlow documentation](https://www.tensorflow.org/guide/saved_model#save_and_restore_models)). This model is saved in a folder called \"models\". In this case, the model was of type physics. Demo 3 below shows a case with data-driven model. This model has not been trained as there are no parameters. This service does not yet support physics model with trainable parameters, it will be available in a future release.  \n",
    "\n",
    "The computational graph capturing this _Newtons2LawModel_ can be seen in __TensorBoard__. The model is as follows:\n",
    "    <img src=\"figures for notebook/n2l_tensorboard_pic.PNG\" style=\"width: 80%\">"
   ]
  },
  {
   "cell_type": "markdown",
   "metadata": {},
   "source": [
    "Note:\n",
    "One can open TensorBoard by typing the following in cmd prompt from _kchain_ folder:\n",
    "```\n",
    "tensorboard --logdir=\"log/example\"\n",
    "```\n",
    "The resulting computational graph is available under Graph tab of TensorBoard or by going to http://localhost:6006/#graphs in your browser after running TensorBoard."
   ]
  },
  {
   "cell_type": "markdown",
   "metadata": {},
   "source": [
    "### Build physics models captured in TF-compatible python code, where the code itself was derived from extracted text :\n",
    "\n",
    "The text2triples service extracts concepts and equations from text/HTML documents, such as this [Speed of Sound page](https://www.grc.nasa.gov/WWW/BGH/sound.html) (from NASA Hypersonics Index). The extracted equations are sent to text2code service to convert the equation to equivalent python native and TensorFlow eager-compatible code. For example:\n",
    "\n",
    "The equation extracted from text is as follows:\n",
    "\n",
    "> a^2 = R * T * {1 + (gamma - 1) / ( 1 + (gamma-1) * [(theta/T)^2 * e^(theta/T) /(e^(theta/T) -1)^2]) }.\n",
    "\n",
    "The response from text2code service for this text equation is as follows:\n",
    "\n",
    "```css\n",
    "a = tf.math.pow( R * T * (1 + (gamma-1)/(1 + (gamma-1) * ((theta/T) ** 2 * tf.math.exp(theta/T) / (tf.math.exp(theta/T) - 1) ** 2))), 1/2)\n",
    "```\n",
    "\n",
    "K-CHAIN service builds a computational graph from this python Tensorflow-compatible code and then it is saved as a MetaGraph for further edits and inference later. The computational graph construction uses AutoGraph ([documentation](https://www.tensorflow.org/guide/autograph) and [research article](https://arxiv.org/abs/1810.08061)), which allows for codes that include conditional statements and loops too. In this demo, the response from text2code service is used to create a computational graph. \n",
    "\n",
    "Note that the service allows to provide _default values_ for certain input variables, so that they can be used during inference vene if they are not assigned by the user. Examples include value for gas constant of air _R = 286.0_ (in SI units).\n"
   ]
  },
  {
   "cell_type": "code",
   "execution_count": 4,
   "metadata": {},
   "outputs": [
    {
     "data": {
      "text/plain": [
       "{'metagraphLocation': '../models/SpeedOfSound',\n",
       " 'modelType': 'Physics',\n",
       " 'trainedState': 0}"
      ]
     },
     "execution_count": 4,
     "metadata": {},
     "output_type": "execute_result"
    }
   ],
   "source": [
    "inputPacket = {\n",
    "                  \"inputVariables\": [\n",
    "                    {\n",
    "                        \"name\": \"gamma\",\n",
    "                        \"type\": \"double\",\n",
    "                        \"value\": \"1.4\"\n",
    "                    },\n",
    "                    {\n",
    "                        \"name\": \"R\",\n",
    "                        \"type\": \"double\",\n",
    "                        \"value\": \"286.0\"\n",
    "                    },\n",
    "                    {\n",
    "                        \"name\": \"theta\",\n",
    "                        \"type\": \"double\",\n",
    "                        \"value\": \"3056.0\"\n",
    "                    },\n",
    "                    {\n",
    "                      \"name\": \"T\",\n",
    "                      \"type\": \"double\"\n",
    "                    }\n",
    "                  ],\n",
    "                  \"outputVariables\": [\n",
    "                    {\n",
    "                      \"name\": \"a\",\n",
    "                      \"type\": \"double\"\n",
    "                    }\n",
    "                  ],\n",
    "                   \"equationModel\" : \"a = tf.math.pow( R * T *  (  1 + ( gamma-1 ) / ( 1 + ( gamma-1 ) *  (  ( theta/T ) ** 2 *  tf.math.exp( theta/T ) / (  tf.math.exp( theta/T ) - 1 ) ** 2 )  ) ) , 1/2)\",\n",
    "                   \"modelName\" : \"SpeedOfSound\"\n",
    "                 }\n",
    "r = requests.post(url_build, json=inputPacket)\n",
    "r.json()"
   ]
  },
  {
   "cell_type": "markdown",
   "metadata": {},
   "source": [
    "The computational graph capturing this _SpeedOfSound_ model can be seen in __TensorBoard__. The model is as follows:\n",
    "    <img src=\"figures for notebook/sos_tensorboard_pic.PNG\" style=\"width: 80%\">"
   ]
  },
  {
   "cell_type": "markdown",
   "metadata": {},
   "source": [
    "### Building models with experimental data \n",
    "\n",
    "If a dataset has the values recorded for input and output variables for a model, then even if a relationship of those variables has not yet been extracted by the ANSWER agent, a data-driven model can be created to capture the relationship and perform inference. In this demo, a neural network model relating the inputs to output is constructed and trained with the dataset. Internally, \\__createNNModel()_ and _fitModel()_ methods are being used. Note that _fitModel()_ can also be used to update an existing model as more data becomes available for training.      "
   ]
  },
  {
   "cell_type": "code",
   "execution_count": 5,
   "metadata": {},
   "outputs": [
    {
     "data": {
      "text/plain": [
       "{'metagraphLocation': '../models/ForceModel',\n",
       " 'modelType': 'NN',\n",
       " 'trainedState': 1}"
      ]
     },
     "execution_count": 5,
     "metadata": {},
     "output_type": "execute_result"
    }
   ],
   "source": [
    "#inputPacket like this one are programmatically constructed by the ANSWER agent\n",
    "inputPacket = {\n",
    "                \"dataLocation\": \"../Datasets/Force_dataset.csv\",\n",
    "                \"inputVariables\": [\n",
    "                    {\n",
    "                      \"name\": \"Mass\",\n",
    "                      \"type\": \"double\"\n",
    "                    },\n",
    "                    {\n",
    "                      \"name\": \"Acceleration\",\n",
    "                      \"type\": \"double\"\n",
    "                    }\n",
    "                ],\n",
    "                \"modelName\": \"ForceModel\",\n",
    "                \"outputVariables\": [\n",
    "                {\n",
    "                  \"name\": \"Force\",\n",
    "                  \"type\": \"double\"\n",
    "                }\n",
    "              ]\n",
    "            }\n",
    "\n",
    "#send request to build model\n",
    "r = requests.post(url_build, json=inputPacket)\n",
    "\n",
    "#see the response\n",
    "r.json()"
   ]
  },
  {
   "cell_type": "markdown",
   "metadata": {},
   "source": [
    "__Explaining ideal output:__\n",
    "\n",
    "```\n",
    "{'metagraphLocation': '../models/ForceModel',\n",
    "'modelType': 'NN',\n",
    "'trainedState': 1}\n",
    "```\n",
    "\n",
    "The MetaGraph of TensorFlow computational graph is stored in _models_ folder with name _ForceModel_. The model is of type Neural Network, so eventually ANSWER agent can look for information sources to convert to more exact form of knowledge with physics equations and then data is used for validation. The trainedState is 1 as data-driven model has been fitted to the training dataset. \n",
    "\n",
    "The computational graph capturing this _ForceModel_ can be seen in __TensorBoard__. The model is as follows:\n",
    "    <img src=\"figures for notebook/forcenn_tensorboard_pic.PNG\" style=\"width: 80%\">\n",
    "\n",
    "The depicted graph is a hierarchical model, where _NN_ can be expanded to show the computations as follows:\n",
    "    <img src=\"figures for notebook/forcenn2_tensorboard_pic.PNG\" style=\"width: 80%\">\n",
    "\n"
   ]
  },
  {
   "cell_type": "markdown",
   "metadata": {},
   "source": [
    "## Model evaluate demonstrations\n",
    "\n",
    "### Evaluate a physics model where all relevant inputs are provided"
   ]
  },
  {
   "cell_type": "code",
   "execution_count": 6,
   "metadata": {},
   "outputs": [
    {
     "data": {
      "text/plain": [
       "{'outputVariables': [{'name': 'a',\n",
       "   'type': 'double',\n",
       "   'value': '[346.50601552]'}]}"
      ]
     },
     "execution_count": 6,
     "metadata": {},
     "output_type": "execute_result"
    }
   ],
   "source": [
    "evalPacket = {\n",
    "  \"inputVariables\": [\n",
    "    {\n",
    "      \"name\": \"T\",\n",
    "      \"type\": \"double\",\n",
    "      \"value\": \"300.0\"\n",
    "    },\n",
    "    {\n",
    "      \"name\": \"R\",\n",
    "      \"type\": \"double\",\n",
    "      \"value\": \"286.0\"\n",
    "    },\n",
    "    {\n",
    "      \"name\": \"gamma\",\n",
    "      \"type\": \"double\",\n",
    "      \"value\": \"1.4\"\n",
    "    },\n",
    "    {\n",
    "      \"name\": \"theta\",\n",
    "      \"type\": \"double\",\n",
    "      \"value\": \"3056.0\"\n",
    "    }\n",
    "  ],\n",
    "  \"modelName\": \"SpeedOfSound\",\n",
    "  \"outputVariables\": [\n",
    "    {\n",
    "      \"name\": \"a\",\n",
    "      \"type\": \"double\"\n",
    "    }\n",
    "  ]\n",
    "}\n",
    "r = requests.post(url_evaluate, json=evalPacket)\n",
    "r.json()"
   ]
  },
  {
   "cell_type": "markdown",
   "metadata": {},
   "source": [
    "__Explaining ideal output:__\n",
    "\n",
    "```\n",
    "{'outputVariables': [{'name': 'a',\n",
    "   'type': 'double',\n",
    "   'value': '[346.50601552]'}]}\n",
    "```\n",
    "The provided input values were used with speedOfSound model built above to compute the output. "
   ]
  },
  {
   "cell_type": "markdown",
   "metadata": {},
   "source": [
    "### Evaluate a physics model with multiple input values for a variable, but where values for all inputs are not provided \n",
    "\n",
    "In order to provide multiple values for an input in the value field as a string, one can use array notation, such as \"[300.00, 273.00]\", or just separate multiple values by a comma as \"300.00, 273.00\"."
   ]
  },
  {
   "cell_type": "code",
   "execution_count": 7,
   "metadata": {},
   "outputs": [
    {
     "data": {
      "text/plain": [
       "{'defaultsUsed': [{'name': 'R', 'value': '286.0'},\n",
       "  {'name': 'gamma', 'value': '1.4'},\n",
       "  {'name': 'theta', 'value': '3056.0'}],\n",
       " 'outputVariables': [{'name': 'a',\n",
       "   'type': 'double',\n",
       "   'value': '[346.50601552,330.58687602]'}]}"
      ]
     },
     "execution_count": 7,
     "metadata": {},
     "output_type": "execute_result"
    }
   ],
   "source": [
    "evalPacket = {\n",
    "  \"inputVariables\": [\n",
    "    {\n",
    "      \"name\": \"T\",\n",
    "      \"type\": \"double\",\n",
    "      \"value\": \"[300.00, 273.00]\"\n",
    "    }\n",
    "  ],\n",
    "  \"modelName\": \"SpeedOfSound\",\n",
    "  \"outputVariables\": [\n",
    "    {\n",
    "      \"name\": \"a\",\n",
    "      \"type\": \"double\"\n",
    "    }\n",
    "  ]\n",
    "}\n",
    "r = requests.post(url_evaluate, json=evalPacket)\n",
    "r.json()"
   ]
  },
  {
   "cell_type": "markdown",
   "metadata": {},
   "source": [
    "__Explaining ideal output:__\n",
    "```\n",
    "{'defaultsUsed': [{'name': 'R', 'value': '286.0'},\n",
    "  {'name': 'theta', 'value': '3056.0'},\n",
    "  {'name': 'gamma', 'value': '1.4'}],\n",
    " 'outputVariables': [{'name': 'a',\n",
    "   'type': 'double',\n",
    "   'value': '[346.50601552,330.58687602]'}]}\n",
    "```\n",
    "Since computation of speed of sound needs the value of _R_, _gamma_, and _theta_ and those values were not provided during the query, it uses default values if they were provided during model build. If default values are used, then it informs the CurationManager and hence the user, so that assumption that default values are applicable in this computation are made explicit to the user.    \n"
   ]
  },
  {
   "cell_type": "markdown",
   "metadata": {},
   "source": [
    "### Validating Input Packets for Correctness\n",
    "\n",
    "While some inputs are validated within the codes in the service, the input packet is validated by Swagger at the REST endpoint before calling method from the package. If _value_ or _name_ field of an input variable is missing or if the field _inputVariables_, _outputVariables_, or _modelName_ is missing, then it leads to ambiguity and key information to conduct inference is missing. Thus, a validationError is caught by the packet validation, which checks for all required entries.   "
   ]
  },
  {
   "cell_type": "code",
   "execution_count": 8,
   "metadata": {},
   "outputs": [
    {
     "data": {
      "text/plain": [
       "{'detail': \"'value' is a required property\",\n",
       " 'status': 400,\n",
       " 'title': 'Bad Request',\n",
       " 'type': 'about:blank'}"
      ]
     },
     "execution_count": 8,
     "metadata": {},
     "output_type": "execute_result"
    }
   ],
   "source": [
    "evalPacket = {\n",
    "  \"inputVariables\": [\n",
    "    {\n",
    "      \"name\": \"T\",\n",
    "      \"type\": \"double\",\n",
    "      \"value\": \"300.00\"\n",
    "    },\n",
    "    {\n",
    "      \"name\": \"R\",\n",
    "      \"type\": \"double\"\n",
    "    }\n",
    "  ],\n",
    "  \"modelName\": \"SpeedOfSound\",\n",
    "  \"outputVariables\": [\n",
    "    {\n",
    "      \"name\": \"a\",\n",
    "      \"type\": \"double\"\n",
    "    }\n",
    "  ]\n",
    "}\n",
    "r = requests.post(url_evaluate, json=evalPacket)\n",
    "r.json()"
   ]
  },
  {
   "cell_type": "markdown",
   "metadata": {},
   "source": [
    "Try replacing current entry of:\n",
    "```\n",
    "    {\n",
    "      \"name\": \"R\",\n",
    "      \"type\": \"double\"\n",
    "    }\n",
    "```\n",
    "with additional field of _value_: \n",
    "```\n",
    "    {\n",
    "      \"name\": \"R\",\n",
    "      \"type\": \"double\",\n",
    "      \"value\": 276.0\n",
    "    }\n",
    "```\n",
    "However, then we should get following response as _value_ is expected to be a string:\n",
    "```\n",
    "{'detail': \"276.0 is not of type 'string'\",\n",
    " 'status': 400,\n",
    " 'title': 'Bad Request',\n",
    " 'type': 'about:blank'}\n",
    "```\n",
    "\n",
    "Finally, if you replace the entry with:\n",
    "```\n",
    "    {\n",
    "      \"name\": \"R\",\n",
    "      \"type\": \"double\",\n",
    "      \"value\": \"276.0\"\n",
    "    }\n",
    "```\n",
    "We should get the desired response:\n",
    "```\n",
    "{'defaultsUsed': [{'name': 'gamma', 'value': '1.4'},\n",
    "  {'name': 'theta', 'value': '3056.0'}],\n",
    " 'outputVariables': [{'name': 'a',\n",
    "   'type': 'double',\n",
    "   'value': '[340.39431879]'}]}\n",
    "```\n",
    "where, default values of _gamma_ and _theta_ were used in the computation with the provided value of _R_ (276.0) in lieu of the default value 286.0"
   ]
  },
  {
   "cell_type": "markdown",
   "metadata": {},
   "source": [
    "### Try to evaluate a physics model with no input values provided"
   ]
  },
  {
   "cell_type": "code",
   "execution_count": 9,
   "metadata": {},
   "outputs": [
    {
     "data": {
      "text/plain": [
       "{'defaultsUsed': [{'name': 'R', 'value': '286.0'}],\n",
       " 'missingVar': 'T',\n",
       " 'outputVariables': [{'name': 'a', 'type': 'double', 'value': None}]}"
      ]
     },
     "execution_count": 9,
     "metadata": {},
     "output_type": "execute_result"
    }
   ],
   "source": [
    "evalPacket = {\n",
    "  \"inputVariables\": [\n",
    "  ],\n",
    "  \"modelName\": \"SpeedOfSound\",\n",
    "  \"outputVariables\": [\n",
    "    {\n",
    "      \"name\": \"a\",\n",
    "      \"type\": \"double\"\n",
    "    }\n",
    "  ]\n",
    "}\n",
    "r = requests.post(url_evaluate, json=evalPacket)\n",
    "r.json()"
   ]
  },
  {
   "cell_type": "markdown",
   "metadata": {},
   "source": [
    "__Explanation for ideal output:__\n",
    "```\n",
    "{'missingVar': 'T',\n",
    " 'outputVariables': [{'name': 'a', 'type': 'double', 'value': None}]}\n",
    " ```\n",
    " \n",
    " Here the computation for output _a_ (speed of sound) cannot proceed without the value of _T_ (temperature of gas) as a default value has not been provided for this input. Thus, the service returns that variable _T_ is missing and output of current computation is None."
   ]
  },
  {
   "cell_type": "markdown",
   "metadata": {},
   "source": [
    "### Evaluate with a data-driven model where all relevant inputs are provided"
   ]
  },
  {
   "cell_type": "code",
   "execution_count": 10,
   "metadata": {},
   "outputs": [
    {
     "data": {
      "text/plain": [
       "{'outputVariables': [{'name': 'Force',\n",
       "   'type': 'double',\n",
       "   'value': '[0.2649181]'}]}"
      ]
     },
     "execution_count": 10,
     "metadata": {},
     "output_type": "execute_result"
    }
   ],
   "source": [
    "evalPacket = {\n",
    "  \"inputVariables\": [\n",
    "    {\n",
    "      \"name\": \"Mass\",\n",
    "      \"type\": \"double\",\n",
    "      \"value\": \"[2.0]\"\n",
    "    },\n",
    "    {\n",
    "      \"name\": \"Acceleration\",\n",
    "      \"type\": \"double\",\n",
    "      \"value\": \"[0.1]\"\n",
    "    }\n",
    "  ],\n",
    "  \"modelName\": \"ForceModel\",\n",
    "  \"outputVariables\": [\n",
    "    {\n",
    "      \"name\": \"Force\",\n",
    "      \"type\": \"double\"\n",
    "    }\n",
    "  ]\n",
    "}\n",
    "r = requests.post(url_evaluate, json=evalPacket)\n",
    "r.json()"
   ]
  },
  {
   "cell_type": "markdown",
   "metadata": {},
   "source": [
    "For _Mass = 2.0_ and _Acceleration = 0.1_, a simple data-driven model trained with 100 examples when evaluated with the model-agnostic evaluate service gives the following output:\n",
    "```\n",
    "{'outputVariables': [{'name': 'Force',\n",
    "   'type': 'double',\n",
    "   'value': '[0.26843786]'}]}\n",
    "```\n",
    "Here, the output Force of type double is estimated to be 0.268. The estimate that you see might be slightly different based on model training.\n",
    "\n",
    "However, if _inputVariables_ are assigned values away from the training set, such as, _Mass = 0.5_ and _Acceleration = 0.1_, then the output is incorrect by an order of magnitude. For example:\n",
    "```\n",
    "{'outputVariables': [{'name': 'Force',\n",
    "   'type': 'double',\n",
    "   'value': '[0.6278448]'}]}\n",
    "```\n",
    "The estimate that you see might be different based on model training.\n",
    "\n",
    "Thus, in future for each data-driven model fitted to a training dataset, we will also characterize the region of trust of that model and alert the user if a query tries to exercise the model beyond its region of competence based on training data, model structure, and output uncertainty (after we implement models with TensorFlow Probability). "
   ]
  },
  {
   "cell_type": "code",
   "execution_count": null,
   "metadata": {},
   "outputs": [],
   "source": []
  }
 ],
 "metadata": {
  "kernelspec": {
   "display_name": "Python 3",
   "language": "python",
   "name": "python3"
  },
  "language_info": {
   "codemirror_mode": {
    "name": "ipython",
    "version": 3
   },
   "file_extension": ".py",
   "mimetype": "text/x-python",
   "name": "python",
   "nbconvert_exporter": "python",
   "pygments_lexer": "ipython3",
   "version": "3.6.4"
  }
 },
 "nbformat": 4,
 "nbformat_minor": 2
}
