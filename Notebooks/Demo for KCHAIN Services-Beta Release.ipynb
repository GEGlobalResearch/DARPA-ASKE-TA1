{
 "cells": [
  {
   "cell_type": "markdown",
   "metadata": {},
   "source": [
    "\n",
    "********************************************************************** \n",
    "  Note: This license has also been called the \"New BSD License\" or \n",
    "  \"Modified BSD License\". See also the 2-clause BSD License.\n",
    " \n",
    "  Copyright © 2018-2019 - General Electric Company, All Rights Reserved\n",
    "  \n",
    "  Project: ANSWER, developed with the support of the Defense Advanced \n",
    "  Research Projects Agency (DARPA) under Agreement  No.  HR00111990006. \n",
    " \n",
    "  Redistribution and use in source and binary forms, with or without \n",
    "  modification, are permitted provided that the following conditions are met:\n",
    "  1. Redistributions of source code must retain the above copyright notice, \n",
    "     this list of conditions and the following disclaimer.\n",
    " \n",
    "  2. Redistributions in binary form must reproduce the above copyright notice, \n",
    "     this list of conditions and the following disclaimer in the documentation \n",
    "     and/or other materials provided with the distribution.\n",
    " \n",
    "  3. Neither the name of the copyright holder nor the names of its \n",
    "     contributors may be used to endorse or promote products derived \n",
    "     from this software without specific prior written permission.\n",
    " \n",
    "  THIS SOFTWARE IS PROVIDED BY THE COPYRIGHT HOLDERS AND CONTRIBUTORS \"AS IS\" \n",
    "  AND ANY EXPRESS OR IMPLIED WARRANTIES, INCLUDING, BUT NOT LIMITED TO, THE \n",
    "  IMPLIED WARRANTIES OF MERCHANTABILITY AND FITNESS FOR A PARTICULAR PURPOSE \n",
    "  ARE DISCLAIMED. IN NO EVENT SHALL THE COPYRIGHT HOLDER OR CONTRIBUTORS BE \n",
    "  LIABLE FOR ANY DIRECT, INDIRECT, INCIDENTAL, SPECIAL, EXEMPLARY, OR \n",
    "  CONSEQUENTIAL DAMAGES (INCLUDING, BUT NOT LIMITED TO, PROCUREMENT OF \n",
    "  SUBSTITUTE GOODS OR SERVICES; LOSS OF USE, DATA, OR PROFITS; OR BUSINESS \n",
    "  INTERRUPTION) HOWEVER CAUSED AND ON ANY THEORY OF LIABILITY, WHETHER IN \n",
    "  CONTRACT, STRICT LIABILITY, OR TORT (INCLUDING NEGLIGENCE OR OTHERWISE) \n",
    "  ARISING IN ANY WAY OUT OF THE USE OF THIS SOFTWARE, EVEN IF ADVISED OF \n",
    "  THE POSSIBILITY OF SUCH DAMAGE.\n",
    "\n",
    " ***********************************************************************\n"
   ]
  },
  {
   "cell_type": "markdown",
   "metadata": {},
   "source": [
    "# Demonstration and Usage Documentation of K-CHAIN Services\n",
    "\n",
    "This notebook demonstrates the different functionality and capabilities of the Knowledege-consistent hybrid AI networks (K-CHAIN). Specifically, the demonstration will cover the following aspects:\n",
    "\n",
    "-  Setup of K-CHAIN\n",
    "-  Building models:\n",
    "    -  with physics models with simple equations provided as strings\n",
    "    -  with physics models captured in TF-compatible python code, where the code itself was derived from extracted text\n",
    "    -  with default values of certain inputs \n",
    "-  Evaluating models during inference:\n",
    "    -  agnostic to whether model was built as data-driven or physics-based\n",
    "    -  with ability to use default values (if not provided at inference time) and inform user about all default values used in the computation \n",
    "    -  with ability to inform user that key variables are missing to conduct inference\n",
    "- Appending existing models with new model fragments, where:\n",
    "    -  new model fragment uses outputs from existing model\n",
    "    -  new model fragment is input into existing model\n",
    "    -  new model fragment needs gradient information of nodes in existing model\n"
   ]
  },
  {
   "cell_type": "markdown",
   "metadata": {},
   "source": [
    "# Setup of Services"
   ]
  },
  {
   "cell_type": "code",
   "execution_count": 2,
   "metadata": {},
   "outputs": [],
   "source": [
    "#imports needed for demonstration\n",
    "\n",
    "#for communicating with services\n",
    "import requests"
   ]
  },
  {
   "cell_type": "markdown",
   "metadata": {},
   "source": [
    "This code demonstrates the use of K-CHAIN service. Please use \"Launch K-CHAIN Service\" Notebook for launching this service before proceeding to the following demonstrations. The code below assumes that service has been launched. \n",
    "\n",
    "The \"Launch K-CHAIN Service\" Notebook is available [here](Launch%20K-CHAIN%20Service.ipynb)."
   ]
  },
  {
   "cell_type": "code",
   "execution_count": 3,
   "metadata": {},
   "outputs": [],
   "source": [
    "#URL to interact with build\n",
    "url_build = 'http://localhost:12345/darpa/aske/kchain/build'\n",
    "\n",
    "#URL to interact with evaluate service\n",
    "url_append = 'http://localhost:12345/darpa/aske/kchain/append'\n",
    "\n",
    "#URL to interact with evaluate service\n",
    "url_evaluate = 'http://localhost:12345/darpa/aske/kchain/evaluate'"
   ]
  },
  {
   "cell_type": "markdown",
   "metadata": {},
   "source": [
    "## Model build demonstrations\n",
    "\n",
    "### Build physics models with simple equations provided as strings:"
   ]
  },
  {
   "cell_type": "code",
   "execution_count": 3,
   "metadata": {},
   "outputs": [
    {
     "data": {
      "text/plain": [
       "{'metagraphLocation': '../models/Newtons2LawModel',\n",
       " 'modelType': 'Physics',\n",
       " 'trainedState': 0}"
      ]
     },
     "execution_count": 3,
     "metadata": {},
     "output_type": "execute_result"
    }
   ],
   "source": [
    "#inputPacket like this one is programmatically constructed by the ANSWER agent\n",
    "inputPacket = {\n",
    "                  \"inputVariables\": [\n",
    "                    {\n",
    "                      \"name\": \"Mass\",\n",
    "                      \"type\": \"double\"\n",
    "                    },\n",
    "                    {\n",
    "                      \"name\": \"Acceleration\",\n",
    "                      \"type\": \"double\"\n",
    "                    }\n",
    "                  ],\n",
    "                  \"outputVariables\": [\n",
    "                    {\n",
    "                      \"name\": \"Force\",\n",
    "                      \"type\": \"double\"\n",
    "                    }\n",
    "                  ],\n",
    "                   \"equationModel\" : \"Force = Mass * Acceleration\",\n",
    "                   \"modelName\" : \"Newtons2LawModel\"\n",
    "                 }\n",
    "\n",
    "#send request to build model\n",
    "r = requests.post(url_build, json=inputPacket)\n",
    "\n",
    "#see the response\n",
    "r.json()"
   ]
  },
  {
   "cell_type": "markdown",
   "metadata": {},
   "source": [
    "__Explanation of ideal outcome:__ \n",
    "\n",
    "```\n",
    "{'metagraphLocation': '../models/Newtons2LawModel',\n",
    " 'modelType': 'Physics',\n",
    " 'trainedState': 0}\n",
    "```\n",
    "\n",
    "TensorFlow models are locally stored as a MetaGraph which includes the computational graph object, model parameters, and data associated with training that model (see [TensorFlow documentation](https://www.tensorflow.org/guide/saved_model#save_and_restore_models)). This model is saved in a folder called \"models\". In this case, the model was of type physics. Demo 3 below shows a case with data-driven model. This model has not been trained as there are no parameters. This service does not yet support physics model with trainable parameters, it will be available in a future release.  \n",
    "\n",
    "The computational graph capturing this _Newtons2LawModel_ can be seen in __TensorBoard__. The model is as follows:\n",
    "    <img src=\"figures for notebook/n2l_tensorboard_pic.PNG\" style=\"width: 80%\">"
   ]
  },
  {
   "cell_type": "markdown",
   "metadata": {},
   "source": [
    "Note:\n",
    "One can open TensorBoard by typing the following in cmd prompt from _kchain_ folder:\n",
    "```\n",
    "tensorboard --logdir=\"log/example/model\"\n",
    "```\n",
    "The resulting computational graph is available under Graph tab of TensorBoard or by going to http://localhost:6006/#graphs in your browser after running TensorBoard."
   ]
  },
  {
   "cell_type": "markdown",
   "metadata": {},
   "source": [
    "### Build physics models captured in TF-compatible python code, where the code itself was derived from extracted text :\n",
    "\n",
    "The text2triples service extracts concepts and equations from text/HTML documents, such as this [Speed of Sound page](https://www.grc.nasa.gov/WWW/BGH/sound.html) (from NASA Hypersonics Index). The extracted equations are sent to text2code service to convert the equation to equivalent python native and TensorFlow eager-compatible code. For example:\n",
    "\n",
    "The equation extracted from text is as follows:\n",
    "\n",
    "> a^2 = R * T * {1 + (gamma - 1) / ( 1 + (gamma-1) * [(theta/T)^2 * e^(theta/T) /(e^(theta/T) -1)^2]) }.\n",
    "\n",
    "The response from text2code service for this text equation is as follows:\n",
    "\n",
    "```css\n",
    "a = tf.math.pow(R * T * (1 + (gamma-1 ) / ( 1 + ( gamma-1 ) *  ( tf.math.pow( theta/T,2) *  tf.math.exp( theta/T ) /  tf.math.pow(tf.math.exp( theta/T ) - 1,2 )))), 1/2)\n",
    "```\n",
    "\n",
    "K-CHAIN service builds a computational graph from this python Tensorflow-compatible code and then it is saved as a MetaGraph for further edits and inference later. The computational graph construction uses AutoGraph ([documentation](https://www.tensorflow.org/guide/autograph) and [research article](https://arxiv.org/abs/1810.08061)), which allows for codes that include conditional statements and loops too. In this demo, the response from text2code service is used to create a computational graph. \n",
    "\n",
    "Note that the service allows to provide _default values_ for certain input variables, so that they can be used during inference vene if they are not assigned by the user. Examples include value for gas constant of air _R = 286.0_ (in SI units).\n"
   ]
  },
  {
   "cell_type": "code",
   "execution_count": 4,
   "metadata": {},
   "outputs": [
    {
     "data": {
      "text/plain": [
       "{'metagraphLocation': '../models/speedOfSound',\n",
       " 'modelType': 'Physics',\n",
       " 'trainedState': 0}"
      ]
     },
     "execution_count": 4,
     "metadata": {},
     "output_type": "execute_result"
    }
   ],
   "source": [
    "inputPacket = {\n",
    "                  \"inputVariables\": [\n",
    "                    {\n",
    "                        \"name\": \"gamma\",\n",
    "                        \"type\": \"double\",\n",
    "                        \"value\": \"1.4\"\n",
    "                    },\n",
    "                    {\n",
    "                        \"name\": \"R\",\n",
    "                        \"type\": \"double\",\n",
    "                        \"value\": \"286.0\"\n",
    "                    },\n",
    "                    {\n",
    "                        \"name\": \"theta\",\n",
    "                        \"type\": \"double\",\n",
    "                        \"value\": \"3056.0\"\n",
    "                    },\n",
    "                    {\n",
    "                      \"name\": \"T\",\n",
    "                      \"type\": \"double\"\n",
    "                    }\n",
    "                  ],\n",
    "                  \"outputVariables\": [\n",
    "                    {\n",
    "                      \"name\": \"a\",\n",
    "                      \"type\": \"double\"\n",
    "                    }\n",
    "                  ],\n",
    "                   \"equationModel\" : \"a = tf.math.pow(R * T *  (  1 + ( gamma-1 ) / ( 1 + ( gamma-1 ) *  ( tf.math.pow( theta/T,2) *  tf.math.exp( theta/T ) /  tf.math.pow( tf.math.exp( theta/T ) - 1,2 ))  ) ), 0.5)\",\n",
    "                   \"modelName\" : \"speedOfSound\"\n",
    "                 }\n",
    "r = requests.post(url_build, json=inputPacket)\n",
    "r.json()"
   ]
  },
  {
   "cell_type": "code",
   "execution_count": 5,
   "metadata": {},
   "outputs": [
    {
     "data": {
      "text/plain": [
       "{'metagraphLocation': '../models/Turbo_getAir',\n",
       " 'modelType': 'Physics',\n",
       " 'trainedState': 0}"
      ]
     },
     "execution_count": 5,
     "metadata": {},
     "output_type": "execute_result"
    }
   ],
   "source": [
    "inputPacket = { \n",
    "   \"modelName\":\"Turbo_getAir\",\n",
    "   \"equationModel\":\"#  Utility to get the corrected airflow per area given the Mach number\\n    fac2 = (gamma + 1.0) / (2.0 * (gamma - 1.0))\\n    fac1 = tf.math.pow((1.0 + 0.5 * (gamma - 1.0) * mach * mach), fac2)\\n    number = 0.50161 * tf.math.sqrt(gamma) * mach / fac1\\n    getAir = (number)\\n    \",\n",
    "   \"inputVariables\":[ \n",
    "      { \n",
    "         \"name\":\"mach\",\n",
    "         \"type\":\"double\"\n",
    "      },\n",
    "      { \n",
    "         \"name\":\"gamma\",\n",
    "         \"type\":\"double\"\n",
    "      }\n",
    "   ],\n",
    "   \"outputVariables\":[ \n",
    "      { \n",
    "         \"name\":\"getAir\",\n",
    "         \"type\":\"double\"\n",
    "      }\n",
    "   ]\n",
    "}\n",
    "r = requests.post(url_build, json=inputPacket)\n",
    "r.json()"
   ]
  },
  {
   "cell_type": "markdown",
   "metadata": {},
   "source": [
    "The computational graph capturing this _SpeedOfSound_ model can be seen in __TensorBoard__. The model is as follows:\n",
    "    <img src=\"figures for notebook/sos_tensorboard_pic.PNG\" style=\"width: 80%\">"
   ]
  },
  {
   "cell_type": "markdown",
   "metadata": {},
   "source": [
    "Equation model contains python method"
   ]
  },
  {
   "cell_type": "code",
   "execution_count": 4,
   "metadata": {},
   "outputs": [
    {
     "data": {
      "text/plain": [
       "{'metagraphLocation': '../models/speedOfSound',\n",
       " 'modelType': 'Physics',\n",
       " 'trainedState': 0}"
      ]
     },
     "execution_count": 4,
     "metadata": {},
     "output_type": "execute_result"
    }
   ],
   "source": [
    "inputPacket = {\n",
    "                  \"inputVariables\": [\n",
    "                    {\n",
    "                        \"name\": \"gamma\",\n",
    "                        \"type\": \"double\",\n",
    "                        \"value\": \"1.4\"\n",
    "                    },\n",
    "                    {\n",
    "                        \"name\": \"R\",\n",
    "                        \"type\": \"double\",\n",
    "                        \"value\": \"286.0\"\n",
    "                    },\n",
    "                    {\n",
    "                        \"name\": \"theta\",\n",
    "                        \"type\": \"double\",\n",
    "                        \"value\": \"3056.0\"\n",
    "                    },\n",
    "                    {\n",
    "                      \"name\": \"T\",\n",
    "                      \"type\": \"double\"\n",
    "                    }\n",
    "                  ],\n",
    "                  \"outputVariables\": [\n",
    "                    {\n",
    "                      \"name\": \"a\",\n",
    "                      \"type\": \"double\"\n",
    "                    }\n",
    "                  ],\n",
    "                   \"equationModel\" : \"def speedOfSound(gamma, R, theta, T):\\\n",
    "\\n    a = tf.math.pow(R * T *  (  1 + ( gamma-1 ) / ( 1 + ( gamma-1 ) *  ( tf.math.pow( theta/T,2) *  tf.math.exp( theta/T ) /  tf.math.pow( tf.math.exp( theta/T ) - 1,2 ))  ) ), 0.5)\\\n",
    "\\n    return a\",\n",
    "                   \"modelName\" : \"speedOfSound\"\n",
    "                 }\n",
    "r = requests.post(url_build, json=inputPacket)\n",
    "r.json()"
   ]
  },
  {
   "cell_type": "markdown",
   "metadata": {},
   "source": [
    "Equation model contains python method with nested call to another method"
   ]
  },
  {
   "cell_type": "code",
   "execution_count": 7,
   "metadata": {},
   "outputs": [
    {
     "data": {
      "text/plain": [
       "{'metagraphLocation': '../models/speedOfSound2',\n",
       " 'modelType': 'Physics',\n",
       " 'trainedState': 0}"
      ]
     },
     "execution_count": 7,
     "metadata": {},
     "output_type": "execute_result"
    }
   ],
   "source": [
    "inputPacket = {\n",
    "                  \"inputVariables\": [\n",
    "                    {\n",
    "                        \"name\": \"Cp\",\n",
    "                        \"type\": \"double\",\n",
    "                        \"value\": \"140\"\n",
    "                    },\n",
    "                    {\n",
    "                        \"name\": \"Cv\",\n",
    "                        \"type\": \"double\",\n",
    "                        \"value\": \"100\"\n",
    "                    },\n",
    "                    {\n",
    "                        \"name\": \"R\",\n",
    "                        \"type\": \"double\",\n",
    "                        \"value\": \"286.0\"\n",
    "                    },\n",
    "                    {\n",
    "                        \"name\": \"theta\",\n",
    "                        \"type\": \"double\",\n",
    "                        \"value\": \"3056.0\"\n",
    "                    },\n",
    "                    {\n",
    "                        \"name\": \"T\",\n",
    "                        \"type\": \"double\"\n",
    "                    }\n",
    "                  ],\n",
    "                  \"outputVariables\": [\n",
    "                    {\n",
    "                        \"name\": \"a\",\n",
    "                        \"type\": \"double\"\n",
    "                    },\n",
    "                    {\n",
    "                        \"name\": \"gamma\",\n",
    "                        \"type\": \"double\"\n",
    "                    }\n",
    "                  ],\n",
    "                   \"equationModel\" : \\\n",
    "'''def speedOfSound2(Cp, Cv, R, theta, T):\n",
    "    gamma = getGamma(Cp, Cv)\n",
    "    a = tf.math.pow(R * T *  (  1 + ( gamma-1 ) / ( 1 + ( gamma-1 ) *  ( tf.math.pow( theta/T,2) *  tf.math.exp( theta/T ) /  tf.math.pow( tf.math.exp( theta/T ) - 1,2 ))  ) ), 0.5)\n",
    "    return a, gamma\n",
    "\n",
    "def getGamma(Cp, Cv):\n",
    "    return Cp/Cv\n",
    "    ''',\n",
    "                   \"modelName\" : \"speedOfSound2\"\n",
    "                 }\n",
    "r = requests.post(url_build, json=inputPacket)\n",
    "r.json()"
   ]
  },
  {
   "cell_type": "markdown",
   "metadata": {},
   "source": [
    "Note that in case of such nested call, the output (gamma in this case) of any interim call (getGamma in this case) is not readily available to be queried. If that interim variable will either be set or requested by user then consider incorporating that method separately in the computational graph."
   ]
  },
  {
   "cell_type": "code",
   "execution_count": 8,
   "metadata": {},
   "outputs": [
    {
     "data": {
      "text/plain": [
       "{'metagraphLocation': '../models/CAL_T',\n",
       " 'modelType': 'Physics',\n",
       " 'trainedState': 0}"
      ]
     },
     "execution_count": 8,
     "metadata": {},
     "output_type": "execute_result"
    }
   ],
   "source": [
    "inputPacket = {\n",
    "                  \"inputVariables\": [\n",
    "                    {\n",
    "                        \"name\": \"TT\",\n",
    "                        \"type\": \"double\"\n",
    "                    },\n",
    "                    {\n",
    "                        \"name\": \"M\",\n",
    "                        \"type\": \"double\"\n",
    "                    },\n",
    "                    {\n",
    "                        \"name\": \"G\",\n",
    "                        \"type\": \"double\"\n",
    "                    },\n",
    "                    {\n",
    "                        \"name\": \"Q\",\n",
    "                        \"type\": \"double\"\n",
    "                    }  \n",
    "                  ],\n",
    "                  \"outputVariables\": [\n",
    "                    {\n",
    "                      \"name\": \"T\",\n",
    "                      \"type\": \"double\"\n",
    "                    }\n",
    "                  ],\n",
    "                   \"equationModel\" : '''\n",
    "def CAL_T(TT, M, G, Q):\n",
    "    T = TT * TQTT(M,G)\n",
    "    EPS = 0.00001\n",
    "    \n",
    "    Z = tf.math.pow(M, 2) - 2 * TT / 1.4 / T * (G / (G - 1) * (1 - T / TT) + Q / TT *(1 / (tf.math.exp(Q / TT) - 1) - 1 / (tf.math.exp(Q / T) - 1)))\n",
    "    Z2 = Z\n",
    "    T2 = T\n",
    "    T = T2 + 100\n",
    "    while abs(Z) > EPS:\n",
    "        #Z = tf.math.pow(M, 2) - 2 * TT / CAL_GAM(T, G, Q) / T * (G / (G - 1) * (1 - T / TT) + Q / TT *(1 / (tf.math.exp(Q / TT) - 1) - 1 / (tf.math.exp(Q / T) - 1)))\n",
    "        Z = tf.math.pow(M, 2) - 2 * TT / 1.4 / T * (G / (G - 1) * (1 - T / TT) + Q / TT *(1 / (tf.math.exp(Q / TT) - 1) - 1 / (tf.math.exp(Q / T) - 1)))\n",
    "        T1 = T2\n",
    "        Z1 = Z2\n",
    "        T2 = T\n",
    "        Z2 = Z\n",
    "        T = T2 - Z2 * (T2 - T1) / (Z2 - Z1)\n",
    "    if M <= .1: \n",
    "        T = TT * TQTT(M,G)\n",
    "    return T\n",
    "\n",
    "def TQTT(M, G):\n",
    "    return tf.math.pow((1 + (G - 1) / 2 * tf.math.pow(M, 2)), -1)\n",
    "\n",
    "''',\n",
    "                   \"modelName\" : \"CAL_T\"\n",
    "                 }\n",
    "r = requests.post(url_build, json=inputPacket)\n",
    "r.json()"
   ]
  },
  {
   "cell_type": "markdown",
   "metadata": {},
   "source": [
    "### Building models with experimental data \n",
    "\n",
    "**Note: This capability for data-driven models will be made available again in next release.**\n",
    "\n",
    "\n",
    "If a dataset has the values recorded for input and output variables for a model, then even if a relationship of those variables has not yet been extracted by the ANSWER agent, a data-driven model can be created to capture the relationship and perform inference. In this demo, a neural network model relating the inputs to output is constructed and trained with the dataset. Internally, \\__createNNModel()_ and _fitModel()_ methods are being used. Note that _fitModel()_ can also be used to update an existing model as more data becomes available for training.  \n"
   ]
  },
  {
   "cell_type": "markdown",
   "metadata": {},
   "source": [
    "The MetaGraph of TensorFlow computational graph is stored in _models_ folder with name _ForceModel_. The model is of type Neural Network, so eventually ANSWER agent can look for information sources to convert to more exact form of knowledge with physics equations and then data is used for validation. The trainedState is 1 as data-driven model has been fitted to the training dataset. \n",
    "\n",
    "The computational graph capturing this _ForceModel_ can be seen in __TensorBoard__. The model is as follows:\n",
    "    <img src=\"figures for notebook/forcenn_tensorboard_pic.PNG\" style=\"width: 80%\">\n",
    "\n",
    "The depicted graph is a hierarchical model, where _NN_ can be expanded to show the computations as follows:\n",
    "    <img src=\"figures for notebook/forcenn2_tensorboard_pic.PNG\" style=\"width: 80%\">\n",
    "\n"
   ]
  },
  {
   "cell_type": "markdown",
   "metadata": {},
   "source": [
    "# Model evaluate demonstrations\n",
    "\n",
    "### Evaluate a physics model where all relevant inputs are provided"
   ]
  },
  {
   "cell_type": "code",
   "execution_count": 9,
   "metadata": {},
   "outputs": [
    {
     "data": {
      "text/plain": [
       "{'error': '',\n",
       " 'inputVariables': [{'name': 'T',\n",
       "   'type': 'double',\n",
       "   'value': '[300.0, 270.0, 370.0, 300.0]'},\n",
       "  {'name': 'R', 'type': 'double', 'value': '286.0'},\n",
       "  {'name': 'gamma', 'type': 'double', 'value': '1.4'},\n",
       "  {'name': 'theta', 'type': 'double', 'value': '3056.0'}],\n",
       " 'outputVariables': [{'name': 'a',\n",
       "   'type': 'double',\n",
       "   'value': '[346.50601552,328.7685916 ,384.51401102,346.50601552]'}]}"
      ]
     },
     "execution_count": 9,
     "metadata": {},
     "output_type": "execute_result"
    }
   ],
   "source": [
    "evalPacket = {\n",
    "  \"inputVariables\": [\n",
    "    {\n",
    "      \"name\": \"T\",\n",
    "      \"type\": \"double\",\n",
    "      \"value\": \"[300.0, 270.0, 370.0, 300.0]\"\n",
    "    },\n",
    "    {\n",
    "      \"name\": \"R\",\n",
    "      \"type\": \"double\",\n",
    "      \"value\": \"286.0\"\n",
    "    },\n",
    "    {\n",
    "      \"name\": \"gamma\",\n",
    "      \"type\": \"double\",\n",
    "      \"value\": \"1.4\"\n",
    "    },\n",
    "    {\n",
    "      \"name\": \"theta\",\n",
    "      \"type\": \"double\",\n",
    "      \"value\": \"3056.0\"\n",
    "    }\n",
    "  ],\n",
    "  \"modelName\": \"speedOfSound\",\n",
    "  \"outputVariables\": [\n",
    "    {\n",
    "      \"name\": \"a\",\n",
    "      \"type\": \"double\"\n",
    "    }\n",
    "  ]\n",
    "}\n",
    "r = requests.post(url_evaluate, json=evalPacket)\n",
    "r.json()"
   ]
  },
  {
   "cell_type": "markdown",
   "metadata": {},
   "source": [
    "__Explaining ideal output:__\n",
    "\n",
    "```\n",
    "{'outputVariables': [{'name': 'a',\n",
    "   'type': 'double',\n",
    "   'value': '[346.50601552]'}]}\n",
    "```\n",
    "The provided input values were used with speedOfSound model built above to compute the output. "
   ]
  },
  {
   "cell_type": "markdown",
   "metadata": {},
   "source": [
    "### Evaluate a physics model where values for all inputs are not provided "
   ]
  },
  {
   "cell_type": "code",
   "execution_count": 10,
   "metadata": {},
   "outputs": [
    {
     "data": {
      "text/plain": [
       "{'defaultsUsed': [{'name': 'theta', 'value': '3056.0'},\n",
       "  {'name': 'gamma', 'value': '1.4'},\n",
       "  {'name': 'R', 'value': '286.0'}],\n",
       " 'error': '',\n",
       " 'inputVariables': [{'name': 'T',\n",
       "   'type': 'double',\n",
       "   'value': '[273.00, 300.00, 350.00, 400.00]'}],\n",
       " 'outputVariables': [{'name': 'a',\n",
       "   'type': 'double',\n",
       "   'value': '[330.58687602,346.50601552,374.09061791,399.56414241]'}]}"
      ]
     },
     "execution_count": 10,
     "metadata": {},
     "output_type": "execute_result"
    }
   ],
   "source": [
    "evalPacket = {\n",
    "  \"inputVariables\": [\n",
    "    {\n",
    "      \"name\": \"T\",\n",
    "      \"type\": \"double\",\n",
    "      \"value\": \"[273.00, 300.00, 350.00, 400.00]\"\n",
    "    }\n",
    "  ],\n",
    "  \"modelName\": \"speedOfSound\",\n",
    "  \"outputVariables\": [\n",
    "    {\n",
    "      \"name\": \"a\",\n",
    "      \"type\": \"double\"\n",
    "    }\n",
    "  ]\n",
    "}\n",
    "r = requests.post(url_evaluate, json=evalPacket)\n",
    "r.json()"
   ]
  },
  {
   "cell_type": "markdown",
   "metadata": {},
   "source": [
    "__Explaining ideal output:__\n",
    "```\n",
    "{'defaultsUsed': [{'name': 'R', 'value': '286.0'},\n",
    "  {'name': 'theta', 'value': '3056.0'},\n",
    "  {'name': 'gamma', 'value': '1.4'}],\n",
    " 'outputVariables': [{'name': 'a',\n",
    "   'type': 'double',\n",
    "   'value': '[330.58687602]'}]}\n",
    "```\n",
    "Since computation of speed of sound needs the value of _R_, _gamma_, and _theta_ and those values were not provided during the query, it uses default values if they were provided during model build. If default values are used, then it informs the CurationManager and hence the user, so that assumption that default values are applicable in this computation are made explicit to the user.    \n"
   ]
  },
  {
   "cell_type": "markdown",
   "metadata": {},
   "source": [
    "# Multiple output variables"
   ]
  },
  {
   "cell_type": "code",
   "execution_count": 11,
   "metadata": {},
   "outputs": [
    {
     "data": {
      "text/plain": [
       "{'defaultsUsed': [{'name': 'Cp', 'value': '140'},\n",
       "  {'name': 'Cv', 'value': '100'},\n",
       "  {'name': 'R', 'value': '286.0'},\n",
       "  {'name': 'theta', 'value': '3056.0'}],\n",
       " 'error': '',\n",
       " 'inputVariables': [{'name': 'T',\n",
       "   'type': 'double',\n",
       "   'value': '[273.00, 300.00, 350.00, 400.00]'}],\n",
       " 'outputVariables': [{'name': 'a',\n",
       "   'type': 'double',\n",
       "   'value': '[330.58687602,346.50601552,374.09061791,399.56414241]'},\n",
       "  {'name': 'gamma', 'type': 'double', 'value': '[1.4,1.4,1.4,1.4]'}]}"
      ]
     },
     "execution_count": 11,
     "metadata": {},
     "output_type": "execute_result"
    }
   ],
   "source": [
    "evalPacket = {\n",
    "  \"inputVariables\": [\n",
    "    {\n",
    "      \"name\": \"T\",\n",
    "      \"type\": \"double\",\n",
    "      \"value\": \"[273.00, 300.00, 350.00, 400.00]\"\n",
    "    }\n",
    "  ],\n",
    "  \"modelName\": \"speedOfSound2\",\n",
    "  \"outputVariables\": [\n",
    "    {\n",
    "      \"name\": \"a\",\n",
    "      \"type\": \"double\"\n",
    "    },\n",
    "    {\n",
    "        \"name\": \"gamma\",\n",
    "        \"type\": \"double\"\n",
    "    }\n",
    "  ]\n",
    "}\n",
    "r = requests.post(url_evaluate, json=evalPacket)\n",
    "r.json()"
   ]
  },
  {
   "cell_type": "markdown",
   "metadata": {},
   "source": [
    "# Inverse queries where model output values are given and input range is given"
   ]
  },
  {
   "cell_type": "code",
   "execution_count": 12,
   "metadata": {},
   "outputs": [
    {
     "data": {
      "text/plain": [
       "{'defaultsUsed': [{'name': 'theta', 'value': '3056.0'},\n",
       "  {'name': 'gamma', 'value': '1.4'},\n",
       "  {'name': 'R', 'value': '286.0'}],\n",
       " 'error': '0.018126639999991312',\n",
       " 'inputVariables': [{'maxValue': '600.0',\n",
       "   'minValue': '100.0',\n",
       "   'name': 'T',\n",
       "   'type': 'double',\n",
       "   'value': '306.13654863461096'}],\n",
       " 'outputVariables': [{'name': 'a',\n",
       "   'type': 'double',\n",
       "   'value': '[350.01812664]'}]}"
      ]
     },
     "execution_count": 12,
     "metadata": {},
     "output_type": "execute_result"
    }
   ],
   "source": [
    "evalPacket = {\n",
    "  \"inputVariables\": [\n",
    "    {\n",
    "        \"name\": \"T\",\n",
    "        \"type\": \"double\",\n",
    "        \"minValue\": \"100.0\",\n",
    "        \"maxValue\": \"600.0\"\n",
    "    }\n",
    "  ],\n",
    "  \"modelName\": \"speedOfSound\",\n",
    "  \"outputVariables\": [\n",
    "    {\n",
    "        \"name\": \"a\",\n",
    "        \"type\": \"double\",\n",
    "        \"value\": \"350.0\"\n",
    "    }\n",
    "  ]\n",
    "}\n",
    "r = requests.post(url_evaluate, json=evalPacket)\n",
    "r.json()"
   ]
  },
  {
   "cell_type": "code",
   "execution_count": 13,
   "metadata": {},
   "outputs": [
    {
     "data": {
      "text/plain": [
       "{'defaultsUsed': [{'name': 'gamma', 'value': '1.4'},\n",
       "  {'name': 'R', 'value': '286.0'},\n",
       "  {'name': 'theta', 'value': '3056.0'}],\n",
       " 'error': '0.0035821499999997286',\n",
       " 'inputVariables': [{'maxValue': '600.0',\n",
       "   'minValue': '100.0',\n",
       "   'name': 'T',\n",
       "   'type': 'double',\n",
       "   'value': '306.0984158543412'}],\n",
       " 'outputVariables': [{'name': 'a',\n",
       "   'type': 'double',\n",
       "   'value': '[349.99641785]'},\n",
       "  {'name': 'gamma', 'type': 'double', 'value': '[1.4]'}]}"
      ]
     },
     "execution_count": 13,
     "metadata": {},
     "output_type": "execute_result"
    }
   ],
   "source": [
    "evalPacket = {\n",
    "  \"inputVariables\": [\n",
    "    {\n",
    "        \"name\": \"T\",\n",
    "        \"type\": \"double\",\n",
    "        \"minValue\": \"100.0\",\n",
    "        \"maxValue\": \"600.0\"\n",
    "    }\n",
    "  ],\n",
    "  \"modelName\": \"speedOfSound\",\n",
    "  \"outputVariables\": [\n",
    "    {\n",
    "        \"name\": \"a\",\n",
    "        \"type\": \"double\",\n",
    "        \"value\": \"350.0\"\n",
    "    },\n",
    "    {\n",
    "        \"name\": \"gamma\",\n",
    "        \"type\": \"double\",\n",
    "        \"value\": \"1.4\"\n",
    "    }\n",
    "  ]\n",
    "}\n",
    "r = requests.post(url_evaluate, json=evalPacket)\n",
    "r.json()"
   ]
  },
  {
   "cell_type": "markdown",
   "metadata": {},
   "source": [
    "### Validating Input Packets for Correctness\n",
    "\n",
    "While some inputs are validated within the codes in the service, the input packet is validated by Swagger at the REST endpoint before calling method from the package. If _value_ or _name_ field of an input variable is missing or if the field _inputVariables_, _outputVariables_, or _modelName_ is missing, then it leads to ambiguity and key information to conduct inference is missing. Thus, a validationError is caught by the packet validation, which checks for all required entries.   "
   ]
  },
  {
   "cell_type": "code",
   "execution_count": 14,
   "metadata": {},
   "outputs": [
    {
     "data": {
      "text/plain": [
       "{'detail': 'The server encountered an internal error and was unable to complete your request. Either the server is overloaded or there is an error in the application.',\n",
       " 'status': 500,\n",
       " 'title': 'Internal Server Error',\n",
       " 'type': 'about:blank'}"
      ]
     },
     "execution_count": 14,
     "metadata": {},
     "output_type": "execute_result"
    }
   ],
   "source": [
    "evalPacket = {\n",
    "  \"inputVariables\": [\n",
    "    {\n",
    "      \"name\": \"T\",\n",
    "      \"type\": \"double\",\n",
    "      \"value\": \"300.00\"\n",
    "    },\n",
    "    {\n",
    "      \"name\": \"R\",\n",
    "      \"type\": \"double\"\n",
    "    }\n",
    "  ],\n",
    "  \"modelName\": \"speedOfSound\",\n",
    "  \"outputVariables\": [\n",
    "    {\n",
    "      \"name\": \"a\",\n",
    "      \"type\": \"double\"\n",
    "    }\n",
    "  ]\n",
    "}\n",
    "r = requests.post(url_evaluate, json=evalPacket)\n",
    "r.json()"
   ]
  },
  {
   "cell_type": "markdown",
   "metadata": {},
   "source": [
    "Try replacing current entry of:\n",
    "```\n",
    "    {\n",
    "      \"name\": \"R\",\n",
    "      \"type\": \"double\"\n",
    "    }\n",
    "```\n",
    "with additional field of _value_: \n",
    "```\n",
    "    {\n",
    "      \"name\": \"R\",\n",
    "      \"type\": \"double\",\n",
    "      \"value\": 276.0\n",
    "    }\n",
    "```\n",
    "However, then we should get following response as _value_ is expected to be a string:\n",
    "```\n",
    "{'detail': \"276.0 is not of type 'string'\",\n",
    " 'status': 400,\n",
    " 'title': 'Bad Request',\n",
    " 'type': 'about:blank'}\n",
    "```\n",
    "\n",
    "Finally, if you replace the entry with:\n",
    "```\n",
    "    {\n",
    "      \"name\": \"R\",\n",
    "      \"type\": \"double\",\n",
    "      \"value\": \"276.0\"\n",
    "    }\n",
    "```\n",
    "We should get the desired response:\n",
    "```\n",
    "{'defaultsUsed': [{'name': 'gamma', 'value': '1.4'},\n",
    "  {'name': 'theta', 'value': '3056.0'}],\n",
    " 'outputVariables': [{'name': 'a',\n",
    "   'type': 'double',\n",
    "   'value': '[340.39431879]'}]}\n",
    "```\n",
    "where, default values of _gamma_ and _theta_ were used in the computation with the provided value of _R_ (276.0) in lieu of the default value 286.0"
   ]
  },
  {
   "cell_type": "markdown",
   "metadata": {},
   "source": [
    "### Try to evaluate a physics model with no input values provided"
   ]
  },
  {
   "cell_type": "code",
   "execution_count": 15,
   "metadata": {},
   "outputs": [
    {
     "data": {
      "text/plain": [
       "{'defaultsUsed': [{'name': 'gamma', 'value': '1.4'},\n",
       "  {'name': 'R', 'value': '286.0'}],\n",
       " 'error': '',\n",
       " 'inputVariables': [],\n",
       " 'missingVar': 'T',\n",
       " 'outputVariables': [{'name': 'a', 'type': 'double', 'value': None}]}"
      ]
     },
     "execution_count": 15,
     "metadata": {},
     "output_type": "execute_result"
    }
   ],
   "source": [
    "evalPacket = {\n",
    "  \"inputVariables\": [\n",
    "  ],\n",
    "  \"modelName\": \"speedOfSound\",\n",
    "  \"outputVariables\": [\n",
    "    {\n",
    "      \"name\": \"a\",\n",
    "      \"type\": \"double\"\n",
    "    }\n",
    "  ]\n",
    "}\n",
    "r = requests.post(url_evaluate, json=evalPacket)\n",
    "r.json()"
   ]
  },
  {
   "cell_type": "markdown",
   "metadata": {},
   "source": [
    "__Explanation for ideal output:__\n",
    "```\n",
    "{'missingVar': 'T',\n",
    " 'outputVariables': [{'name': 'a', 'type': 'double', 'value': None}]}\n",
    " ```\n",
    " \n",
    " Here the computation for output _a_ (speed of sound) cannot proceed without the value of _T_ (temperature of gas) as a default value has not been provided for this input. Thus, the service returns that variable _T_ is missing and output of current computation is None."
   ]
  },
  {
   "cell_type": "markdown",
   "metadata": {},
   "source": [
    "### Evaluate with a data-driven model where all relevant inputs are provided"
   ]
  },
  {
   "cell_type": "markdown",
   "metadata": {},
   "source": [
    "**Note: This capability with data-driven models will be made available again in next release.**\n",
    "\n",
    "For _Mass = 2.0_ and _Acceleration = 0.1_, a simple data-driven model trained with 100 examples when evaluated with the model-agnostic evaluate service gives the following output:\n",
    "```\n",
    "{'outputVariables': [{'name': 'Force',\n",
    "   'type': 'double',\n",
    "   'value': '[0.206]'}]}\n",
    "```\n",
    "Here, the output Force of type double is estimated to be 0.206. The estimate might be slightly different based on model training.\n",
    "\n",
    "However, if _inputVariables_ are assigned values away from the training set, such as, _Mass = 0.5_ and _Acceleration = 0.1_, then the output is incorrect by an order of magnitude. For example:\n",
    "```\n",
    "{'outputVariables': [{'name': 'Force',\n",
    "   'type': 'double',\n",
    "   'value': '[0.627]'}]}\n",
    "```\n",
    "The estimate might be different based on model training.\n",
    "\n",
    "Thus, in future for each data-driven model fitted to a training dataset, we will also characterize the region of trust of that model and alert the user if a query tries to exercise the model beyond its region of competence based on training data, model structure, and output uncertainty. "
   ]
  },
  {
   "cell_type": "markdown",
   "metadata": {},
   "source": [
    "## Model append demonstrations\n",
    "\n",
    "### Append physics models with simple equations provided as strings to existing models:\n",
    "\n",
    "### Example 1. Append to Newtons2LawModel\n",
    "\n",
    "Case: Input nodes are shared with new model fragment"
   ]
  },
  {
   "cell_type": "code",
   "execution_count": 16,
   "metadata": {},
   "outputs": [
    {
     "data": {
      "text/plain": [
       "{'metagraphLocation': '../models/Newtons2LawModel', 'modelType': 'Physics'}"
      ]
     },
     "execution_count": 16,
     "metadata": {},
     "output_type": "execute_result"
    }
   ],
   "source": [
    "inputPacket = {\n",
    "                  \"inputVariables\": [\n",
    "                    {\n",
    "                      \"name\": \"Mass\",\n",
    "                      \"type\": \"double\",\n",
    "                      \"value\": \"1.0\"\n",
    "                    },\n",
    "                    {\n",
    "                      \"name\": \"Velocity\",\n",
    "                      \"type\": \"double\"\n",
    "                    }\n",
    "                  ],\n",
    "                  \"outputVariables\": [\n",
    "                    {\n",
    "                      \"name\": \"Momentum\",\n",
    "                      \"type\": \"double\"\n",
    "                    }\n",
    "                  ],\n",
    "                   \"equationModel\" : \"Momentum = Mass * Velocity\",\n",
    "                   \"modelName\" : \"Momentum\",\n",
    "                   \"targetModelName\" : \"Newtons2LawModel\"\n",
    "                 }\n",
    "#send request to append model\n",
    "r = requests.post(url_append, json=inputPacket)\n",
    "\n",
    "#see the response\n",
    "r.json()"
   ]
  },
  {
   "cell_type": "markdown",
   "metadata": {},
   "source": [
    "The computational graph capturing initial _Newtons2Law_ model can be seen in __TensorBoard__. The model is as follows:\n",
    "<p><img src=\"figures for notebook/n2l_kchain_1.PNG\" style=\"width: 20%\">\n",
    "\n",
    "The computational graph capturing updated _Newtons2Law_ model can be seen in __TensorBoard__. Note that the input node is reused and shared with the appended model fragment. The model is as follows:\n",
    "<p><img src=\"figures for notebook/n2l_kchain_2.PNG\" style=\"width: 40%\">"
   ]
  },
  {
   "cell_type": "markdown",
   "metadata": {},
   "source": [
    "### Example 2. Append to speedOfSound Model\n",
    "\n",
    "<p>Case 1: Output nodes are used as inputs with new model fragment\n",
    "<p>Case 2: Input nodes are outputs of new model fragment"
   ]
  },
  {
   "cell_type": "code",
   "execution_count": 17,
   "metadata": {},
   "outputs": [
    {
     "name": "stdout",
     "output_type": "stream",
     "text": [
      "{'metagraphLocation': '../models/speedOfSound', 'modelType': 'Physics'}\n"
     ]
    }
   ],
   "source": [
    "inputPacket = {\n",
    "                \"inputVariables\": [\n",
    "                    {\n",
    "                        \"name\": \"a\",\n",
    "                        \"type\": \"float\"\n",
    "                    },\n",
    "                    {\n",
    "                        \"name\": \"objVelocity\",\n",
    "                        \"type\": \"float\"\n",
    "                    }\n",
    "                ],\n",
    "                \"outputVariables\": [\n",
    "                    {\n",
    "                      \"name\": \"machNumber\",\n",
    "                      \"type\": \"float\"\n",
    "                    }\n",
    "                ],\n",
    "                \"equationModel\" : \"machNumber = objVelocity/a\",\n",
    "                \"modelName\" : \"machNumber\",\n",
    "                \"targetModelName\" : \"speedOfSound\"\n",
    "             }\n",
    "\n",
    "#send request to append model\n",
    "r = requests.post(url_append, json=inputPacket)\n",
    "\n",
    "#see the response\n",
    "print(r.json())"
   ]
  },
  {
   "cell_type": "markdown",
   "metadata": {},
   "source": [
    "The computational graph capturing initial _speedOfSound_ model can be seen in __TensorBoard__. The model is as follows:\n",
    "<p><img src=\"figures for notebook/sos_kchain_2.PNG\" style=\"width: 30%\">"
   ]
  },
  {
   "cell_type": "code",
   "execution_count": 18,
   "metadata": {},
   "outputs": [
    {
     "name": "stdout",
     "output_type": "stream",
     "text": [
      "{'metagraphLocation': '../models/speedOfSound', 'modelType': 'Physics'}\n"
     ]
    }
   ],
   "source": [
    "inputPacket = {\n",
    "                \"inputVariables\": [\n",
    "                    {\n",
    "                        \"name\": \"Cp\",\n",
    "                        \"type\": \"float\",\n",
    "                        \"value\": \"1.4\"\n",
    "                    },\n",
    "                    {\n",
    "                        \"name\": \"Cv\",\n",
    "                        \"type\": \"float\",\n",
    "                        \"value\":\"1.0\"\n",
    "                    }\n",
    "                ],\n",
    "                \"outputVariables\": [\n",
    "                    {\n",
    "                      \"name\": \"gamma\",\n",
    "                      \"type\": \"float\"\n",
    "                    }\n",
    "                ],\n",
    "                \"equationModel\" : \"gamma = Cp/Cv\",\n",
    "                \"modelName\" : \"gamma\",\n",
    "                \"targetModelName\" : \"speedOfSound\"\n",
    "             }\n",
    "\n",
    "#send request to append model\n",
    "r = requests.post(url_append, json=inputPacket)\n",
    "\n",
    "#see the response\n",
    "print(r.json())"
   ]
  },
  {
   "cell_type": "markdown",
   "metadata": {},
   "source": [
    "The computational graph capturing initial _speedOfSound_ model can be seen in __TensorBoard__. The model is as follows:\n",
    "<p><img src=\"figures for notebook/sos_kchain_3.PNG\" style=\"width: 30%\">"
   ]
  },
  {
   "cell_type": "code",
   "execution_count": 19,
   "metadata": {},
   "outputs": [
    {
     "data": {
      "text/plain": [
       "{'defaultsUsed': [{'name': 'Cp', 'value': '1.4'},\n",
       "  {'name': 'Cv', 'value': '1.0'},\n",
       "  {'name': 'theta', 'value': '3056.0'},\n",
       "  {'name': 'R', 'value': '286.0'}],\n",
       " 'error': '',\n",
       " 'inputVariables': [{'name': 'T',\n",
       "   'type': 'double',\n",
       "   'value': '[273.00, 300.00, 350.00, 400.00]'}],\n",
       " 'outputVariables': [{'name': 'a',\n",
       "   'type': 'double',\n",
       "   'value': '[330.58687602,346.50601552,374.09061791,399.56414241]'},\n",
       "  {'name': 'gamma', 'type': 'double', 'value': '[1.4,1.4,1.4,1.4]'}]}"
      ]
     },
     "execution_count": 19,
     "metadata": {},
     "output_type": "execute_result"
    }
   ],
   "source": [
    "evalPacket = {\n",
    "  \"inputVariables\": [\n",
    "    {\n",
    "      \"name\": \"T\",\n",
    "      \"type\": \"double\",\n",
    "      \"value\": \"[273.00, 300.00, 350.00, 400.00]\"\n",
    "    }\n",
    "  ],\n",
    "  \"modelName\": \"speedOfSound\",\n",
    "  \"outputVariables\": [\n",
    "    {\n",
    "      \"name\": \"a\",\n",
    "      \"type\": \"double\"\n",
    "    },\n",
    "    {\n",
    "        \"name\": \"gamma\",\n",
    "        \"type\": \"double\"\n",
    "    }\n",
    "  ]\n",
    "}\n",
    "r = requests.post(url_evaluate, json=evalPacket)\n",
    "r.json()"
   ]
  },
  {
   "cell_type": "code",
   "execution_count": 20,
   "metadata": {},
   "outputs": [
    {
     "name": "stdout",
     "output_type": "stream",
     "text": [
      "[200.09997501 208.99769472 217.53177418 225.74345854 233.66673923\n",
      " 241.33002257 248.75652927 255.96842415 262.98258414 269.81439787\n",
      " 276.47732927 282.98322564 289.34256199 295.56463755 301.6577358\n",
      " 307.62925691 313.48582882 319.2327754  324.87671496 330.42183907\n",
      " 335.8725155  341.23270591 346.50601552 351.69573752 356.80489273\n",
      " 361.83626493 366.79243231 371.67579524 376.4880751  381.23244545\n",
      " 385.91037446 390.52376592 395.07443955 399.56414241 403.99455844\n",
      " 408.36731632 412.68399578 416.94613276 421.15522338 425.31227243\n",
      " 429.41961929 433.47819588 437.48936252 441.45444861 445.37475298\n",
      " 449.25154409 453.08606009 456.87950871 460.63306715 464.34788191\n",
      " 468.0246662  471.66531364 475.27047147 478.84116246 482.37837852\n",
      " 485.88308081 489.35619999 492.79863651 496.21126099 499.59491468\n",
      " 502.95040993 506.27816612 509.57967165 512.85528812 516.10571831\n",
      " 519.33163927 522.5337031  525.71253764 528.86874726 532.00291363\n",
      " 535.11559645 538.20733427 541.27830846 544.32969311 547.36162878\n",
      " 550.3745768  553.36898103 556.34526851 559.30385022 562.24512164\n",
      " 565.1694635  568.07724232 570.96881104 573.84419413 576.7043517\n",
      " 579.54928215 582.37928966 585.19466753 587.99569864 590.78265589\n",
      " 593.55580267 596.31539324 599.06167316 601.79487967 604.51494348\n",
      " 607.2226847  609.91801776 612.60115005 615.2722823  617.93160887]\n",
      "[1.4 1.4 1.4 1.4 1.4 1.4 1.4 1.4 1.4 1.4 1.4 1.4 1.4 1.4 1.4 1.4 1.4 1.4\n",
      " 1.4 1.4 1.4 1.4 1.4 1.4 1.4 1.4 1.4 1.4 1.4 1.4 1.4 1.4 1.4 1.4 1.4 1.4\n",
      " 1.4 1.4 1.4 1.4 1.4 1.4 1.4 1.4 1.4 1.4 1.4 1.4 1.4 1.4 1.4 1.4 1.4 1.4\n",
      " 1.4 1.4 1.4 1.4 1.4 1.4 1.4 1.4 1.4 1.4 1.4 1.4 1.4 1.4 1.4 1.4 1.4 1.4\n",
      " 1.4 1.4 1.4 1.4 1.4 1.4 1.4 1.4 1.4 1.4 1.4 1.4 1.4 1.4 1.4 1.4 1.4 1.4\n",
      " 1.4 1.4 1.4 1.4 1.4 1.4 1.4 1.4 1.4 1.4]\n"
     ]
    }
   ],
   "source": [
    "import numpy as np\n",
    "\n",
    "T = np.linspace(100.0,1000.0, num=100)\n",
    "evalPacket = {\n",
    "  \"inputVariables\": [\n",
    "    {\n",
    "      \"name\": \"T\",\n",
    "      \"type\": \"double\",\n",
    "      \"value\": np.array2string(T, precision=3, separator=',')\n",
    "    }\n",
    "  ],\n",
    "  \"modelName\": \"speedOfSound\",\n",
    "  \"outputVariables\": [\n",
    "    {\n",
    "      \"name\": \"a\",\n",
    "      \"type\": \"double\"\n",
    "    },\n",
    "    {\n",
    "        \"name\": \"gamma\",\n",
    "        \"type\": \"double\"\n",
    "    }\n",
    "  ]\n",
    "}\n",
    "r = requests.post(url_evaluate, json=evalPacket)\n",
    "rj = r.json()\n",
    "a = np.fromstring(rj[\"outputVariables\"][0][\"value\"][1:-1], dtype=float, sep=',')\n",
    "print(a)\n",
    "gamma = np.fromstring(rj[\"outputVariables\"][1][\"value\"][1:-1], dtype=float, sep=',')\n",
    "print(gamma)"
   ]
  },
  {
   "cell_type": "code",
   "execution_count": 21,
   "metadata": {},
   "outputs": [
    {
     "data": {
      "text/plain": [
       "{'defaultsUsed': [{'name': 'R', 'value': '286.0'},\n",
       "  {'name': 'Cp', 'value': '1.4'},\n",
       "  {'name': 'Cv', 'value': '1.0'}],\n",
       " 'error': '',\n",
       " 'inputVariables': [{'name': 'T',\n",
       "   'type': 'double',\n",
       "   'value': '[273.00, 300.00, 350.00, 400.00]'}],\n",
       " 'missingVar': 'objVelocity',\n",
       " 'outputVariables': [{'name': 'a', 'type': 'double', 'value': None},\n",
       "  {'name': 'gamma', 'type': 'double', 'value': None},\n",
       "  {'name': 'machNumber', 'type': 'double', 'value': None}]}"
      ]
     },
     "execution_count": 21,
     "metadata": {},
     "output_type": "execute_result"
    }
   ],
   "source": [
    "evalPacket = {\n",
    "  \"inputVariables\": [\n",
    "    {\n",
    "      \"name\": \"T\",\n",
    "      \"type\": \"double\",\n",
    "      \"value\": \"[273.00, 300.00, 350.00, 400.00]\"\n",
    "    }\n",
    "  ],\n",
    "  \"modelName\": \"speedOfSound\",\n",
    "  \"outputVariables\": [\n",
    "    {\n",
    "      \"name\": \"a\",\n",
    "      \"type\": \"double\"\n",
    "    },\n",
    "    {\n",
    "        \"name\": \"gamma\",\n",
    "        \"type\": \"double\"\n",
    "    },\n",
    "    {\n",
    "        \"name\":\"machNumber\",\n",
    "        \"type\": \"double\"\n",
    "    }\n",
    "  ]\n",
    "}\n",
    "r = requests.post(url_evaluate, json=evalPacket)\n",
    "r.json()"
   ]
  },
  {
   "cell_type": "code",
   "execution_count": 22,
   "metadata": {},
   "outputs": [
    {
     "data": {
      "text/plain": [
       "{'defaultsUsed': [{'name': 'theta', 'value': '3056.0'},\n",
       "  {'name': 'Cp', 'value': '1.4'},\n",
       "  {'name': 'Cv', 'value': '1.0'},\n",
       "  {'name': 'R', 'value': '286.0'}],\n",
       " 'error': '',\n",
       " 'inputVariables': [{'name': 'T',\n",
       "   'type': 'double',\n",
       "   'value': '[273.00, 300.00, 350.00, 400.00]'},\n",
       "  {'name': 'objVelocity', 'type': 'double', 'value': '300.00'}],\n",
       " 'outputVariables': [{'name': 'a',\n",
       "   'type': 'double',\n",
       "   'value': '[330.58687602,346.50601552,374.09061791,399.56414241]'},\n",
       "  {'name': 'gamma', 'type': 'double', 'value': '[1.4,1.4,1.4,1.4]'},\n",
       "  {'name': 'machNumber',\n",
       "   'type': 'double',\n",
       "   'value': '[0.90747704,0.86578584,0.80194473,0.75081812]'}]}"
      ]
     },
     "execution_count": 22,
     "metadata": {},
     "output_type": "execute_result"
    }
   ],
   "source": [
    "evalPacket = {\n",
    "  \"inputVariables\": [\n",
    "    {\n",
    "      \"name\": \"T\",\n",
    "      \"type\": \"double\",\n",
    "      \"value\": \"[273.00, 300.00, 350.00, 400.00]\"\n",
    "    },\n",
    "    {\n",
    "        \"name\": \"objVelocity\",\n",
    "        \"type\":\"double\",\n",
    "        \"value\":\"300.00\" #[300.0, 300.0, 600.0, 600]\n",
    "    }\n",
    "  ],\n",
    "  \"modelName\": \"speedOfSound\",\n",
    "  \"outputVariables\": [\n",
    "    {\n",
    "      \"name\": \"a\",\n",
    "      \"type\": \"double\"\n",
    "    },\n",
    "    {\n",
    "        \"name\": \"gamma\",\n",
    "        \"type\": \"double\"\n",
    "    },\n",
    "    {\n",
    "        \"name\":\"machNumber\",\n",
    "        \"type\": \"double\"\n",
    "    }\n",
    "  ]\n",
    "}\n",
    "r = requests.post(url_evaluate, json=evalPacket)\n",
    "r.json()"
   ]
  },
  {
   "cell_type": "markdown",
   "metadata": {},
   "source": [
    "### Build, append, and evaluate with a gradient operation"
   ]
  },
  {
   "cell_type": "code",
   "execution_count": 23,
   "metadata": {},
   "outputs": [
    {
     "data": {
      "text/plain": [
       "{'metagraphLocation': '../models/Velocity', 'modelType': 'Physics'}"
      ]
     },
     "execution_count": 23,
     "metadata": {},
     "output_type": "execute_result"
    }
   ],
   "source": [
    "inputPacket = {\n",
    "                  \"inputVariables\": [\n",
    "                    {\n",
    "                        \"name\": \"Time\",\n",
    "                        \"type\": \"double\"\n",
    "                    }\n",
    "                  ],\n",
    "                  \"outputVariables\": [\n",
    "                    {\n",
    "                      \"name\": \"Velocity\",\n",
    "                      \"type\": \"double\"\n",
    "                    }\n",
    "                  ],\n",
    "                   \"equationModel\" : \"Velocity = 10.0 + (2.1*Time)\", \n",
    "                   \"modelName\" : \"Velocity\"\n",
    "                 }\n",
    "#send request to append model\n",
    "r = requests.post(url_append, json=inputPacket)\n",
    "\n",
    "#see the response\n",
    "r.json()"
   ]
  },
  {
   "cell_type": "markdown",
   "metadata": {},
   "source": [
    "The computational graph capturing this _Velocity_ model can be seen in __TensorBoard__. The model is as follows:\n",
    "<p><img src=\"figures for notebook/vel_kchain_1.PNG\" style=\"width: 20%\">\n",
    "\n",
    "The depicted graph is a hierarchical model, where _Velocity_ node can be expanded to show the computations as follows:\n",
    "<p><img src=\"figures for notebook/vel_kchain_2.PNG\" style=\"width: 40%\">"
   ]
  },
  {
   "cell_type": "code",
   "execution_count": 24,
   "metadata": {},
   "outputs": [
    {
     "data": {
      "text/plain": [
       "{'metagraphLocation': '../models/Velocity', 'modelType': 'Physics'}"
      ]
     },
     "execution_count": 24,
     "metadata": {},
     "output_type": "execute_result"
    }
   ],
   "source": [
    "inputPacket = {\n",
    "                  \"inputVariables\": [\n",
    "                    {\n",
    "                      \"name\": \"Velocity\",\n",
    "                      \"type\": \"double\"\n",
    "                    },\n",
    "                    {\n",
    "                        \"name\": \"Time\",\n",
    "                        \"type\": \"double\"\n",
    "                    }\n",
    "                  ],\n",
    "                  \"outputVariables\": [\n",
    "                    {\n",
    "                      \"name\": \"Acc\",\n",
    "                      \"type\": \"double\"\n",
    "                    }\n",
    "                  ],\n",
    "                   \"equationModel\" : \"Acc = tf.gradients(Velocity, Time, stop_gradients = [Time])[0]\",\n",
    "                   \"modelName\" : \"Acc\",\n",
    "                   \"targetModelName\" : \"Velocity\"\n",
    "                 }\n",
    "#send request to build model\n",
    "r = requests.post(url_append, json=inputPacket)\n",
    "\n",
    "#see the response\n",
    "r.json()"
   ]
  },
  {
   "cell_type": "markdown",
   "metadata": {},
   "source": [
    "The computational graph capturing this appended _Velocity_ model can be seen in __TensorBoard__. The model is as follows:\n",
    "<p><img src=\"figures for notebook/acc_kchain_1.PNG\" style=\"width: 20%\">\n",
    "\n",
    "The depicted graph is a hierarchical model, where _Acc_ node can be expanded to show the computations as follows:\n",
    "<p><img src=\"figures for notebook/acc_kchain_2.PNG\" style=\"width: 30%\">"
   ]
  },
  {
   "cell_type": "code",
   "execution_count": 25,
   "metadata": {},
   "outputs": [
    {
     "data": {
      "text/plain": [
       "{'error': '',\n",
       " 'inputVariables': [{'name': 'Time', 'type': 'double', 'value': '[1.0]'}],\n",
       " 'outputVariables': [{'name': 'Acc', 'type': 'double', 'value': '[2.1]'}]}"
      ]
     },
     "execution_count": 25,
     "metadata": {},
     "output_type": "execute_result"
    }
   ],
   "source": [
    "evalPacket = {\n",
    "  \"inputVariables\": [\n",
    "    {\n",
    "      \"name\": \"Time\",\n",
    "      \"type\": \"double\",\n",
    "      \"value\": \"[1.0]\"\n",
    "    }\n",
    "  ],\n",
    "  \"modelName\": \"Velocity\",\n",
    "  \"outputVariables\": [\n",
    "    {\n",
    "      \"name\": \"Acc\",\n",
    "      \"type\": \"double\"\n",
    "    }\n",
    "  ]\n",
    "}\n",
    "r = requests.post(url_evaluate, json=evalPacket)\n",
    "r.json()"
   ]
  },
  {
   "cell_type": "markdown",
   "metadata": {},
   "source": [
    "## The End"
   ]
  }
 ],
 "metadata": {
  "kernelspec": {
   "display_name": "Python 3",
   "language": "python",
   "name": "python3"
  },
  "language_info": {
   "codemirror_mode": {
    "name": "ipython",
    "version": 3
   },
   "file_extension": ".py",
   "mimetype": "text/x-python",
   "name": "python",
   "nbconvert_exporter": "python",
   "pygments_lexer": "ipython3",
   "version": "3.6.7"
  }
 },
 "nbformat": 4,
 "nbformat_minor": 4
}
