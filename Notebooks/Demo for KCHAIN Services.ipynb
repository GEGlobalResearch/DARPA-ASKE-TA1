{
 "cells": [
  {
   "cell_type": "markdown",
   "metadata": {},
   "source": [
    "This notebook demonstrates the different functionality and capabilities of the Knowledege-consistent hybrid AI networks (K-CHAIN). Specifically, the demonstration will cover the following aspects:\n",
    "\n",
    "-  Setup of K-CHAIN\n",
    "-  Building models:\n",
    "    -  with physics models with simple equations provided as strings\n",
    "    -  with physics models captured in TF-compatible python code, where the code itself was derived from extracted text\n",
    "    -  with experimental data\n",
    "\n"
   ]
  },
  {
   "cell_type": "code",
   "execution_count": 1,
   "metadata": {},
   "outputs": [],
   "source": [
    "import tensorflow as tf\n",
    "from tensorflow.contrib import autograph as ag\n",
    "import requests"
   ]
  },
  {
   "cell_type": "code",
   "execution_count": 3,
   "metadata": {},
   "outputs": [],
   "source": [
    "def runSessionWithDefaults(sess, mdl, output, fd, defaultValues, defaultValuesUsed):\n",
    "    try:\n",
    "        aval = sess.run(output, feed_dict=fd)\n",
    "    except tf.errors.InvalidArgumentError as e:\n",
    "        #look for value available in default values\n",
    "        if e.node_def.name in defaultValues.keys():\n",
    "            tmp = mdl.get_tensor_by_name(e.node_def.name+':0')\n",
    "            fd[tmp] = defaultValues[e.node_def.name]\n",
    "\n",
    "            defaultValuesUsed[e.node_def.name] = defaultValues[e.node_def.name]\n",
    "\n",
    "            aval, defaultValuesUsed = runSessionWithDefaults(sess, mdl, output, fd, defaultValues, defaultValuesUsed)\n",
    "        else:\n",
    "            print('Please provide value for : ' + e.node_def.name)\n",
    "            aval = None\n",
    "    return aval, defaultValuesUsed"
   ]
  },
  {
   "cell_type": "code",
   "execution_count": 4,
   "metadata": {},
   "outputs": [
    {
     "name": "stdout",
     "output_type": "stream",
     "text": [
      "output: 354.96478\n",
      "default values used: {}\n"
     ]
    }
   ],
   "source": [
    "def speedOfSound(invars):\n",
    "    T = invars[0]\n",
    "    R = invars[1]\n",
    "    gamma = invars[2]\n",
    "    a = tf.sqrt(R*gamma*T, name=outputVar[0]['name'])\n",
    "    return a\n",
    "\n",
    "# Create a clean graph\n",
    "mdl = tf.Graph()\n",
    "in_dims = len(inputVar)\n",
    "with mdl.as_default():\n",
    "    invars = []\n",
    "    for node in inputVar:\n",
    "        tfType = tf.float32\n",
    "        invars.append(tf.placeholder(tfType, name=node['name']))\n",
    "    \n",
    "    tfType = tf.float32\n",
    "    tf_model = ag.to_graph(speedOfSound)\n",
    "    output = tf_model(invars)\n",
    "    tf.add_to_collection(\"output\", output)\n",
    "\n",
    "    for node in invars:\n",
    "        tf.add_to_collection(\"input\", node)  \n",
    "\n",
    "\n",
    "evalInputVar=[\n",
    "    {\n",
    "        \"name\": \"T\",\n",
    "        \"type\": \"float\",\n",
    "        \"value\": 300.0\n",
    "    },\n",
    "    {\n",
    "        \"name\": \"R\",\n",
    "        \"type\": \"float\",\n",
    "        \"value\": 300.0\n",
    "    },\n",
    "    {\n",
    "        \"name\": \"gamma\",\n",
    "        \"type\": \"float\",\n",
    "        \"value\": 1.40\n",
    "    }\n",
    "]\n",
    "sess = tf.Session(graph = mdl)\n",
    "\n",
    "fd = {}\n",
    "for node in evalInputVar:\n",
    "    fd[mdl.get_tensor_by_name(node['name']+':0')]=node['value']\n",
    "\n",
    "defaultValuesUsed = {}\n",
    "aval, defaultValuesUsed = runSessionWithDefaults(sess, mdl, output, fd, defaultValues, defaultValuesUsed)   \n",
    "\n",
    "print('output: '+str(aval))\n",
    "print('default values used: '+str(defaultValuesUsed))\n",
    "\n",
    "sess.close()"
   ]
  },
  {
   "cell_type": "code",
   "execution_count": 10,
   "metadata": {},
   "outputs": [],
   "source": [
    "url_build = 'http://localhost:12345/darpa/aske/kchain/build'\n",
    "url_evaluate = 'http://localhost:12345/darpa/aske/kchain/evaluate'"
   ]
  },
  {
   "cell_type": "code",
   "execution_count": 11,
   "metadata": {},
   "outputs": [
    {
     "data": {
      "text/plain": [
       "{'metagraphLocation': '../models/Newtons2LawModel',\n",
       " 'modelType': 'Physics',\n",
       " 'trainedState': 0}"
      ]
     },
     "execution_count": 11,
     "metadata": {},
     "output_type": "execute_result"
    }
   ],
   "source": [
    "inputPacket = {\n",
    "                  \"inputVariables\": [\n",
    "                    {\n",
    "                      \"name\": \"Mass\",\n",
    "                      \"type\": \"double\"\n",
    "                    },\n",
    "                    {\n",
    "                      \"name\": \"Acceleration\",\n",
    "                      \"type\": \"double\"\n",
    "                    }\n",
    "                  ],\n",
    "                  \"outputVariables\": [\n",
    "                    {\n",
    "                      \"name\": \"Force\",\n",
    "                      \"type\": \"double\"\n",
    "                    }\n",
    "                  ],\n",
    "                   \"equationModel\" : \"Force = Mass * Acceleration\",\n",
    "                   \"modelName\" : \"Newtons2LawModel\"\n",
    "                 }\n",
    "r = requests.post(url_build, json=inputPacket)\n",
    "r.json()"
   ]
  },
  {
   "cell_type": "markdown",
   "metadata": {},
   "source": [
    "{\"inputVars\": [\"R\", \"T\", \"gamma\", \"theta\"], \"originalLHS\": \"a**2\", \"originalRHS\": \" R * T *  (  1 * ( gamma-1 ) / ( 1 * ( gamma-1 ) *  (  ( theta/T ) ** 2 *  tf.math.exp( theta/T ) / (  tf.math.exp( theta/T ) - 1 ) ** 2 )  ) ) \", \"modifiedLHS\": \"a\", \"modifiedRHS\": \"tf.math.pow( R * T *  (  1 * ( gamma-1 ) / ( 1 * ( gamma-1 ) *  (  ( theta/T ) ** 2 *  tf.math.exp( theta/T ) / (  tf.math.exp( theta/T ) - 1 ) ** 2 )  ) ) , 1/2)\", \"fullEquation\": \"a = tf.math.pow( R * T *  (  1 * ( gamma-1 ) / ( 1 * ( gamma-1 ) *  (  ( theta/T ) ** 2 *  tf.math.exp( theta/T ) / (  tf.math.exp( theta/T ) - 1 ) ** 2 )  ) ) , 1/2)\", \"TF operations\": [\"tf.math.pow\", \"tf.math.exp\"]}"
   ]
  },
  {
   "cell_type": "code",
   "execution_count": 18,
   "metadata": {},
   "outputs": [
    {
     "data": {
      "text/plain": [
       "{'metagraphLocation': '../models/SpeedOfSound',\n",
       " 'modelType': 'Physics',\n",
       " 'trainedState': 0}"
      ]
     },
     "execution_count": 18,
     "metadata": {},
     "output_type": "execute_result"
    }
   ],
   "source": [
    "inputPacket = {\n",
    "                  \"inputVariables\": [\n",
    "                    {\n",
    "                        \"name\": \"gamma\",\n",
    "                        \"type\": \"double\",\n",
    "                        \"value\": \"1.4\"\n",
    "                    },\n",
    "                    {\n",
    "                        \"name\": \"R\",\n",
    "                        \"type\": \"double\",\n",
    "                        \"value\": \"286.0\"\n",
    "                    },\n",
    "                    {\n",
    "                        \"name\": \"theta\",\n",
    "                        \"type\": \"double\",\n",
    "                        \"value\": \"3056.0\"\n",
    "                    },\n",
    "                    {\n",
    "                      \"name\": \"T\",\n",
    "                      \"type\": \"double\"\n",
    "                    }\n",
    "                  ],\n",
    "                  \"outputVariables\": [\n",
    "                    {\n",
    "                      \"name\": \"a\",\n",
    "                      \"type\": \"double\"\n",
    "                    }\n",
    "                  ],\n",
    "                   \"equationModel\" : \"a = tf.math.pow( R * T *  (  1 + ( gamma-1 ) / ( 1 + ( gamma-1 ) *  (  ( theta/T ) ** 2 *  tf.math.exp( theta/T ) / (  tf.math.exp( theta/T ) - 1 ) ** 2 )  ) ) , 1/2)\",\n",
    "                   \"modelName\" : \"SpeedOfSound\"\n",
    "                 }\n",
    "r = requests.post(url_build, json=inputPacket)\n",
    "r.json()"
   ]
  },
  {
   "cell_type": "code",
   "execution_count": 28,
   "metadata": {},
   "outputs": [
    {
     "data": {
      "text/plain": [
       "{'defaultsUsed': [{'name': 'theta', 'value': '3056.0'},\n",
       "  {'name': 'R', 'value': '286.0'},\n",
       "  {'name': 'gamma', 'value': '1.4'}],\n",
       " 'outputVariables': [{'name': 'a',\n",
       "   'type': 'double',\n",
       "   'value': '[346.50601552,330.58687602]'}]}"
      ]
     },
     "execution_count": 28,
     "metadata": {},
     "output_type": "execute_result"
    }
   ],
   "source": [
    "evalPacket = {\n",
    "  \"inputVariables\": [\n",
    "    {\n",
    "      \"name\": \"T\",\n",
    "      \"type\": \"double\",\n",
    "      \"value\": \"[300.0, 273.00]\"\n",
    "    }\n",
    "  ],\n",
    "  \"modelName\": \"SpeedOfSound\",\n",
    "  \"outputVariables\": [\n",
    "    {\n",
    "      \"name\": \"a\",\n",
    "      \"type\": \"double\"\n",
    "    }\n",
    "  ]\n",
    "}\n",
    "r = requests.post(url_evaluate, json=evalPacket)\n",
    "r.json()"
   ]
  },
  {
   "cell_type": "code",
   "execution_count": null,
   "metadata": {},
   "outputs": [],
   "source": []
  }
 ],
 "metadata": {
  "kernelspec": {
   "display_name": "Python 3",
   "language": "python",
   "name": "python3"
  },
  "language_info": {
   "codemirror_mode": {
    "name": "ipython",
    "version": 3
   },
   "file_extension": ".py",
   "mimetype": "text/x-python",
   "name": "python",
   "nbconvert_exporter": "python",
   "pygments_lexer": "ipython3",
   "version": "3.6.4"
  }
 },
 "nbformat": 4,
 "nbformat_minor": 2
}
