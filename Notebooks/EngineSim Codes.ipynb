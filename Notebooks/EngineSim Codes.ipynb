{
 "cells": [
  {
   "cell_type": "code",
   "execution_count": 1,
   "metadata": {},
   "outputs": [],
   "source": [
    "#imports needed for demonstration\n",
    "\n",
    "#for communicating with services\n",
    "import requests\n",
    "\n",
    "#URL to interact with build\n",
    "url_build = 'http://localhost:12345/darpa/aske/kchain/build'\n",
    "\n",
    "#URL to interact with evaluate service\n",
    "url_append = 'http://localhost:12345/darpa/aske/kchain/append'\n",
    "\n",
    "#URL to interact with evaluate service\n",
    "url_evaluate = 'http://localhost:12345/darpa/aske/kchain/evaluate'"
   ]
  },
  {
   "cell_type": "markdown",
   "metadata": {},
   "source": [
    "This code demonstrates the use of K-CHAIN service. Please use \"Launch K-CHAIN Service\" Notebook for launching this service before proceeding to the following demonstrations. The code below assumes that service has been launched. \n",
    "\n",
    "The \"Launch K-CHAIN Service\" Notebook is available [here](Launch%20K-CHAIN%20Service.ipynb)."
   ]
  },
  {
   "cell_type": "markdown",
   "metadata": {},
   "source": [
    "# getGama()"
   ]
  },
  {
   "cell_type": "code",
   "execution_count": 2,
   "metadata": {},
   "outputs": [
    {
     "data": {
      "text/plain": [
       "{'metagraphLocation': '../models/Turbo_getGama',\n",
       " 'modelType': 'Physics',\n",
       " 'trainedState': 0}"
      ]
     },
     "execution_count": 2,
     "metadata": {},
     "output_type": "execute_result"
    }
   ],
   "source": [
    "inputPacket = {\n",
    "                  \"inputVariables\": [\n",
    "                    {\n",
    "                        \"name\": \"temp\",\n",
    "                        \"type\": \"float\"\n",
    "                    },\n",
    "                    {\n",
    "                        \"name\": \"opt\",\n",
    "                        \"type\": \"integer\",\n",
    "                        \"value\":\"0\"\n",
    "                    }\n",
    "                  ],\n",
    "                  \"outputVariables\": [\n",
    "                    {\n",
    "                      \"name\": \"Turbo_getGama\",\n",
    "                      \"type\": \"float\"\n",
    "                    }\n",
    "                  ],\n",
    "                   \"equationModel\" : \"\"\"#Utility to get gamma as a function of temp\\n    a = -7.6942651e-13\\n    b = 1.3764661e-08\\n    c = -7.8185709e-05\\n    d = 1.436914\\n    if opt == 0:\\n        number = 1.4000\\n    else:\\n        number = a * temp * temp * temp + b * temp * temp + c * temp + d\\n    Turbo_getGama = number\\n\"\"\",\n",
    "                   \"modelName\" : \"Turbo_getGama\"\n",
    "                 }\n",
    "r = requests.post(url_build, json=inputPacket)\n",
    "r.json()"
   ]
  },
  {
   "cell_type": "code",
   "execution_count": 3,
   "metadata": {},
   "outputs": [
    {
     "data": {
      "text/plain": [
       "{'error': '',\n",
       " 'inputVariables': [{'name': 'temp', 'type': 'float', 'value': '600.00'},\n",
       "  {'name': 'opt', 'type': 'integer', 'value': '1'}],\n",
       " 'outputVariables': [{'name': 'Turbo_getGama',\n",
       "   'type': 'float',\n",
       "   'value': '[1.3947916]'}]}"
      ]
     },
     "execution_count": 3,
     "metadata": {},
     "output_type": "execute_result"
    }
   ],
   "source": [
    "evalPacket = {\n",
    "  \"inputVariables\": [\n",
    "    {\n",
    "      \"name\": \"temp\",\n",
    "      \"type\": \"float\",\n",
    "      \"value\": \"600.00\"\n",
    "    },\n",
    "    {\n",
    "        \"name\": \"opt\",\n",
    "        \"type\": \"integer\",\n",
    "        \"value\": \"1\"\n",
    "    }\n",
    "  ],\n",
    "  \"modelName\": \"Turbo_getGama\",\n",
    "  \"outputVariables\": [\n",
    "    {\n",
    "      \"name\": \"Turbo_getGama\",\n",
    "      \"type\": \"float\"\n",
    "    }\n",
    "  ]\n",
    "}\n",
    "r = requests.post(url_evaluate, json=evalPacket)\n",
    "r.json()"
   ]
  },
  {
   "cell_type": "markdown",
   "metadata": {},
   "source": [
    "# getAir()"
   ]
  },
  {
   "cell_type": "code",
   "execution_count": 4,
   "metadata": {},
   "outputs": [
    {
     "data": {
      "text/plain": [
       "{'metagraphLocation': '../models/Turbo_getAir',\n",
       " 'modelType': 'Physics',\n",
       " 'trainedState': 0}"
      ]
     },
     "execution_count": 4,
     "metadata": {},
     "output_type": "execute_result"
    }
   ],
   "source": [
    "inputPacket = {\n",
    "                  \"inputVariables\": [\n",
    "                    {\n",
    "                        \"name\": \"mach\",\n",
    "                        \"type\": \"float\"\n",
    "                    },\n",
    "                    {\n",
    "                        \"name\": \"gamma\",\n",
    "                        \"type\": \"float\",\n",
    "                        \"value\":\"1.4\"\n",
    "                    }\n",
    "                  ],\n",
    "                  \"outputVariables\": [\n",
    "                    {\n",
    "                      \"name\": \"Turbo_getAir\",\n",
    "                      \"type\": \"float\"\n",
    "                    }\n",
    "                  ],\n",
    "                   \"equationModel\" : \"\"\"#   Utility to get the corrected airflow per area given the Mach number \n",
    "    fac2 = (gamma + 1.0) / (2.0 * (gamma - 1.0))\n",
    "    fac1 = tf.math.pow((1.0 + 0.5 * (gamma - 1.0) * mach * mach), fac2)\n",
    "    number = 0.50161 * tf.math.sqrt(gamma) * mach / fac1\n",
    "    Turbo_getAir = number\n",
    "\"\"\",\n",
    "                   \"modelName\" : \"Turbo_getAir\"\n",
    "                 }\n",
    "r = requests.post(url_build, json=inputPacket)\n",
    "r.json()"
   ]
  },
  {
   "cell_type": "code",
   "execution_count": 22,
   "metadata": {},
   "outputs": [
    {
     "data": {
      "text/plain": [
       "{'defaultsUsed': [{'name': 'gamma', 'value': '1.4'}],\n",
       " 'error': '',\n",
       " 'inputVariables': [{'maxValue': '25.0',\n",
       "   'minValue': '0.0',\n",
       "   'name': 'mach',\n",
       "   'type': 'float',\n",
       "   'value': '1.0'}],\n",
       " 'outputVariables': [{'name': 'Turbo_getAir',\n",
       "   'type': 'float',\n",
       "   'value': '[0.3434681]'}]}"
      ]
     },
     "execution_count": 22,
     "metadata": {},
     "output_type": "execute_result"
    }
   ],
   "source": [
    "evalPacket = {\n",
    "  \"inputVariables\": [\n",
    "    {\n",
    "        \"name\": \"mach\",\n",
    "        \"type\": \"float\",\n",
    "        \"value\" : \"1.0\",\n",
    "        \"minValue\": \"0.0\",\n",
    "        \"maxValue\": \"25.0\"\n",
    "    }\n",
    "  ],\n",
    "  \"modelName\": \"Turbo_getAir\",\n",
    "  \"outputVariables\": [\n",
    "    {\n",
    "        \"name\": \"Turbo_getAir\",\n",
    "        \"type\": \"float\"\n",
    "    }\n",
    "  ]\n",
    "}\n",
    "r = requests.post(url_evaluate, json=evalPacket)\n",
    "r.json()"
   ]
  },
  {
   "cell_type": "markdown",
   "metadata": {},
   "source": [
    "# getCp()"
   ]
  },
  {
   "cell_type": "code",
   "execution_count": 6,
   "metadata": {},
   "outputs": [
    {
     "data": {
      "text/plain": [
       "{'metagraphLocation': '../models/Turbo_getCp',\n",
       " 'modelType': 'Physics',\n",
       " 'trainedState': 0}"
      ]
     },
     "execution_count": 6,
     "metadata": {},
     "output_type": "execute_result"
    }
   ],
   "source": [
    "inputPacket = {\n",
    "                  \"inputVariables\": [\n",
    "                    {\n",
    "                        \"name\": \"temp\",\n",
    "                        \"type\": \"float\"\n",
    "                    },\n",
    "                    {\n",
    "                        \"name\": \"opt\",\n",
    "                        \"type\": \"integer\",\n",
    "                        \"value\":\"0\"\n",
    "                    }\n",
    "                  ],\n",
    "                  \"outputVariables\": [\n",
    "                    {\n",
    "                      \"name\": \"Turbo_getCp\",\n",
    "                      \"type\": \"float\"\n",
    "                    }\n",
    "                  ],\n",
    "                   \"equationModel\" : \"\"\"\\\"\\\"\\\" generated source for method getCp \\\"\\\"\\\"\n",
    "    #  Utility to get cp as a function of temp \n",
    "    # /* BTU/R */\n",
    "    a = -4.4702130e-13\n",
    "    b = -5.1286514e-10\n",
    "    c = 2.8323331e-05\n",
    "    d = 0.2245283\n",
    "    if opt == 0:\n",
    "        number = 0.2399\n",
    "    else:\n",
    "        number = a * temp * temp * temp + b * temp * temp + c * temp + d\n",
    "    Turbo_getCp = number\n",
    "\"\"\",\n",
    "                   \"modelName\" : \"Turbo_getCp\"\n",
    "                 }\n",
    "inputPacket['equationModel'] = inputPacket['equationModel'].replace(u'\\xa0', u' ')\n",
    "r = requests.post(url_build, json=inputPacket)\n",
    "r.json()\n"
   ]
  },
  {
   "cell_type": "code",
   "execution_count": 20,
   "metadata": {},
   "outputs": [
    {
     "data": {
      "text/plain": [
       "{'error': '',\n",
       " 'inputVariables': [{'name': 'temp',\n",
       "   'type': 'float',\n",
       "   'value': '[600.00, 800.00]'},\n",
       "  {'name': 'opt', 'type': 'integer', 'value': '1'}],\n",
       " 'outputVariables': [{'name': 'Turbo_getCp',\n",
       "   'type': 'float',\n",
       "   'value': '[0.24124111,0.24662985]'}]}"
      ]
     },
     "execution_count": 20,
     "metadata": {},
     "output_type": "execute_result"
    }
   ],
   "source": [
    "evalPacket = {\n",
    "  \"inputVariables\": [\n",
    "    {\n",
    "      \"name\": \"temp\",\n",
    "      \"type\": \"float\",\n",
    "      \"value\": \"[600.00, 800.00]\"\n",
    "    },\n",
    "    {\n",
    "        \"name\": \"opt\",\n",
    "        \"type\": \"integer\",\n",
    "        \"value\": \"1\"\n",
    "    }\n",
    "  ],\n",
    "  \"modelName\": \"Turbo_getCp\",\n",
    "  \"outputVariables\": [\n",
    "    {\n",
    "      \"name\": \"Turbo_getCp\",\n",
    "      \"type\": \"float\"\n",
    "    }\n",
    "  ]\n",
    "}\n",
    "r = requests.post(url_evaluate, json=evalPacket)\n",
    "r.json()"
   ]
  },
  {
   "cell_type": "markdown",
   "metadata": {},
   "source": [
    "# getMach()"
   ]
  },
  {
   "cell_type": "code",
   "execution_count": 8,
   "metadata": {},
   "outputs": [
    {
     "data": {
      "text/plain": [
       "{'metagraphLocation': '../models/Turbo_getMach',\n",
       " 'modelType': 'Physics',\n",
       " 'trainedState': 0}"
      ]
     },
     "execution_count": 8,
     "metadata": {},
     "output_type": "execute_result"
    }
   ],
   "source": [
    "inputPacket = {\n",
    "                  \"inputVariables\": [\n",
    "                    {\n",
    "                        \"name\": \"sub\",\n",
    "                        \"type\": \"float\"\n",
    "                    },\n",
    "                    {\n",
    "                        \"name\": \"corair\",\n",
    "                        \"type\": \"float\"\n",
    "                    },\n",
    "                    {\n",
    "                        \"name\": \"gamma\",\n",
    "                        \"type\": \"float\"\n",
    "                    }\n",
    "                  ],\n",
    "                  \"outputVariables\": [\n",
    "                    {\n",
    "                        \"name\": \"Turbo_getMach\",\n",
    "                        \"type\": \"float\"\n",
    "                    },\n",
    "                    {\n",
    "                        \"name\": \"chokair\",\n",
    "                        \"type\": \"float\"\n",
    "                    }\n",
    "                  ],\n",
    "                   \"equationModel\" :\"\"\"\n",
    "def getAir(mach, gamma):\n",
    "    #  Utility to get the corrected airflow per area given the Mach number \n",
    "    fac2 = (gamma + 1.0) / (2.0 * (gamma - 1.0))\n",
    "    fac1 = tf.math.pow((1.0 + 0.5 * (gamma - 1.0) * mach * mach), fac2)\n",
    "    number = 0.50161 * tf.math.sqrt(gamma) * mach / fac1\n",
    "    return number\n",
    "\n",
    "def Turbo_getMach(sub, corair, gamma):\n",
    "    #  Utility to get the Mach number given the corrected airflow per area \n",
    "    # /* iterate for mach number */\n",
    "    chokair = getAir(1.0, gamma)\n",
    "    if corair > chokair:\n",
    "        number = 1.0\n",
    "        return number, chokair\n",
    "    else:\n",
    "        airo = 0.25618\n",
    "        # /* initial guess */\n",
    "        if sub == 1:\n",
    "            macho = 1.0\n",
    "        else:\n",
    "            # /* sonic */\n",
    "            if sub == 2:\n",
    "                macho = 1.703\n",
    "            else:\n",
    "                macho = 0.5\n",
    "            # /* subsonic */\n",
    "            iter = 1\n",
    "            machn = macho - 0.2\n",
    "            while tf.math.abs(corair - airo) > 0.0001 and iter < 20:\n",
    "                airn = getAir(machn, gamma)\n",
    "                deriv = (airn - airo) / (machn - macho)\n",
    "                airo = airn\n",
    "                macho = machn\n",
    "                machn = macho + (corair - airo) / deriv\n",
    "                iter += 1\n",
    "        number = macho\n",
    "    return number, chokair\n",
    "\"\"\",\n",
    "                   \"modelName\" : \"Turbo_getMach\"}\n",
    "inputPacket['equationModel'] = inputPacket['equationModel'].replace(u'\\xa0', u' ')\n",
    "r = requests.post(url_build, json=inputPacket)\n",
    "r.json()"
   ]
  },
  {
   "cell_type": "code",
   "execution_count": 9,
   "metadata": {},
   "outputs": [
    {
     "data": {
      "text/plain": [
       "{'error': '',\n",
       " 'inputVariables': [{'name': 'sub', 'type': 'float', 'value': '2'},\n",
       "  {'name': 'corair', 'type': 'float', 'value': '0.12'},\n",
       "  {'name': 'gamma', 'type': 'float', 'value': '1.4'}],\n",
       " 'outputVariables': [{'name': 'Turbo_getMach',\n",
       "   'type': 'float',\n",
       "   'value': '[2.5875328]'},\n",
       "  {'name': 'chokair', 'type': 'float', 'value': '[0.3434681]'}]}"
      ]
     },
     "execution_count": 9,
     "metadata": {},
     "output_type": "execute_result"
    }
   ],
   "source": [
    "inputPacket = {\n",
    "                  \"inputVariables\": [\n",
    "                    {\n",
    "                        \"name\": \"sub\",\n",
    "                        \"type\": \"float\",\n",
    "                        \"value\": \"2\"\n",
    "                    },\n",
    "                    {\n",
    "                        \"name\":\"corair\",\n",
    "                        \"type\":\"float\",\n",
    "                        \"value\": \"0.12\"\n",
    "                    },\n",
    "                    {\n",
    "                        \"name\": \"gamma\",\n",
    "                        \"type\": \"float\",\n",
    "                        \"value\":\"1.4\"\n",
    "                    }\n",
    "                  ],\n",
    "                  \"outputVariables\": [\n",
    "                    {\n",
    "                      \"name\": \"Turbo_getMach\",\n",
    "                      \"type\": \"float\"\n",
    "                    },\n",
    "                    {\n",
    "                      \"name\": \"chokair\",\n",
    "                      \"type\": \"float\"\n",
    "                    }\n",
    "                  ],\n",
    "                \"modelName\":\"Turbo_getMach\"\n",
    "}\n",
    "r = requests.post(url_evaluate, json=inputPacket)\n",
    "r.json()"
   ]
  },
  {
   "cell_type": "code",
   "execution_count": 10,
   "metadata": {},
   "outputs": [
    {
     "name": "stdout",
     "output_type": "stream",
     "text": [
      "def Turbo_getMach(sub, corair, gamma):\n",
      "    # Utility to get the Mach number given the corrected airflow per area \n",
      "    # /* iterate for mach number */\n",
      "    chokair = getAir(1.0, gamma)\n",
      "    if corair > chokair:\n",
      "        number = 1.0\n",
      "        return number\n",
      "    else:\n",
      "        airo = 0.25618\n",
      "        # /* initial guess */\n",
      "        if sub == 1:\n",
      "            macho = 1.0\n",
      "        else:\n",
      "            # /* sonic */\n",
      "            if sub == 2:\n",
      "                macho = 1.703\n",
      "            else:\n",
      "                macho = 0.5\n",
      "            # /* subsonic */\n",
      "            iter = 1\n",
      "            machn = macho - 0.2\n",
      "            while tf.math.abs(corair - airo) > 0.0001 and iter < 20:\n",
      "                airn = getAir(machn, gamma)\n",
      "                deriv = (airn - airo) / (machn - macho)\n",
      "                airo = airn\n",
      "                macho = machn\n",
      "                machn = macho + (corair - airo) / deriv\n",
      "                iter += 1\n",
      "        number = macho\n",
      "    return number\n",
      "\n",
      "def getAir(mach, gamma):\n",
      "    #  Utility to get the corrected airflow per area given the Mach number \n",
      "    fac2 = (gamma + 1.0) / (2.0 * (gamma - 1.0))\n",
      "    fac1 = tf.math.pow((1.0 + 0.5 * (gamma - 1.0) * mach * mach), fac2)\n",
      "    number = 0.50161 * tf.math.sqrt(gamma) * mach / fac1\n",
      "    return number\n",
      "\n"
     ]
    }
   ],
   "source": [
    "codeStr = \"\"\"def Turbo_getMach(sub, corair, gamma):\n",
    "    # Utility to get the Mach number given the corrected airflow per area \n",
    "    # /* iterate for mach number */\n",
    "    chokair = getAir(1.0, gamma)\n",
    "    if corair > chokair:\n",
    "        number = 1.0\n",
    "        return number\n",
    "    else:\n",
    "        airo = 0.25618\n",
    "        # /* initial guess */\n",
    "        if sub == 1:\n",
    "            macho = 1.0\n",
    "        else:\n",
    "            # /* sonic */\n",
    "            if sub == 2:\n",
    "                macho = 1.703\n",
    "            else:\n",
    "                macho = 0.5\n",
    "            # /* subsonic */\n",
    "            iter = 1\n",
    "            machn = macho - 0.2\n",
    "            while tf.math.abs(corair - airo) > 0.0001 and iter < 20:\n",
    "                airn = getAir(machn, gamma)\n",
    "                deriv = (airn - airo) / (machn - macho)\n",
    "                airo = airn\n",
    "                macho = machn\n",
    "                machn = macho + (corair - airo) / deriv\n",
    "                iter += 1\n",
    "        number = macho\n",
    "    return number\n",
    "\n",
    "def getAir(mach, gamma):\n",
    "    #  Utility to get the corrected airflow per area given the Mach number \n",
    "    fac2 = (gamma + 1.0) / (2.0 * (gamma - 1.0))\n",
    "    fac1 = tf.math.pow((1.0 + 0.5 * (gamma - 1.0) * mach * mach), fac2)\n",
    "    number = 0.50161 * tf.math.sqrt(gamma) * mach / fac1\n",
    "    return number\n",
    "\"\"\"\n",
    "\n",
    "codeStr = codeStr.replace(u'\\xa0', u' ')\n",
    "print(codeStr)"
   ]
  },
  {
   "cell_type": "code",
   "execution_count": 11,
   "metadata": {},
   "outputs": [],
   "source": [
    "import numpy as np\n",
    "def Turbo_getMach(sub, corair, gamma):\n",
    "    # Utility to get the Mach number given the corrected airflow per area \n",
    "    # /* iterate for mach number */\n",
    "    chokair = getAir(1.0, gamma)\n",
    "    print(\"chokair: \"+str(chokair))\n",
    "    if corair > chokair:\n",
    "        number = 1.0\n",
    "        return number\n",
    "    else:\n",
    "        airo = 0.25618\n",
    "        # /* initial guess */\n",
    "        if sub == 1:\n",
    "            macho = 1.0\n",
    "        else:\n",
    "            # /* sonic */\n",
    "            if sub == 2:\n",
    "                macho = 1.703\n",
    "            else:\n",
    "                macho = 0.5\n",
    "            # /* subsonic */\n",
    "            iter = 1\n",
    "            machn = macho - 0.2\n",
    "            if np.abs(corair - airo) > 0.0001 and iter < 20:\n",
    "                airn = getAir(machn, gamma)\n",
    "                deriv = (airn - airo) / (machn - macho)\n",
    "                airo = airn\n",
    "                macho = machn\n",
    "                machn = macho + (corair - airo) / deriv\n",
    "                iter += 1\n",
    "                if np.abs(corair - airo) > 0.0001 and iter < 20:\n",
    "                    airn = getAir(machn, gamma)\n",
    "                    deriv = (airn - airo) / (machn - macho)\n",
    "                    airo = airn\n",
    "                    macho = machn\n",
    "                    machn = macho + (corair - airo) / deriv\n",
    "                    iter += 1\n",
    "                    while np.abs(corair - airo) > 0.0001 and iter < 20:\n",
    "                        airn = getAir(machn, gamma)\n",
    "                        deriv = (airn - airo) / (machn - macho)\n",
    "                        airo = airn\n",
    "                        macho = machn\n",
    "                        machn = macho + (corair - airo) / deriv\n",
    "                        iter += 1\n",
    "        number = macho\n",
    "    return number\n",
    "\n",
    "def getAir(mach, gamma):\n",
    "    #  Utility to get the corrected airflow per area given the Mach number \n",
    "    fac2 = (gamma + 1.0) / (2.0 * (gamma - 1.0))\n",
    "    fac1 = np.math.pow((1.0 + 0.5 * (gamma - 1.0) * mach * mach), fac2)\n",
    "    number = 0.50161 * np.math.sqrt(gamma) * mach / fac1\n",
    "    return number"
   ]
  },
  {
   "cell_type": "code",
   "execution_count": 12,
   "metadata": {},
   "outputs": [
    {
     "name": "stdout",
     "output_type": "stream",
     "text": [
      "chokair: 0.34346814583340257\n"
     ]
    },
    {
     "data": {
      "text/plain": [
       "2.5875327904147016"
      ]
     },
     "execution_count": 12,
     "metadata": {},
     "output_type": "execute_result"
    }
   ],
   "source": [
    "Turbo_getMach(sub=2, corair=0.12, gamma=1.4)"
   ]
  },
  {
   "cell_type": "markdown",
   "metadata": {},
   "source": [
    "# getRayleighLoss()\n"
   ]
  },
  {
   "cell_type": "code",
   "execution_count": 13,
   "metadata": {},
   "outputs": [
    {
     "data": {
      "text/plain": [
       "{'metagraphLocation': '../models/getRayleighLoss',\n",
       " 'modelType': 'Physics',\n",
       " 'trainedState': 0}"
      ]
     },
     "execution_count": 13,
     "metadata": {},
     "output_type": "execute_result"
    }
   ],
   "source": [
    "inputPacket = {\n",
    "                  \"inputVariables\": [\n",
    "                    {\n",
    "                        \"name\": \"mach1\",\n",
    "                        \"type\": \"float\"\n",
    "                    },\n",
    "                    {\n",
    "                        \"name\":\"ttrat\",\n",
    "                        \"type\":\"float\"\n",
    "                    },\n",
    "                    {\n",
    "                        \"name\": \"tlow\",\n",
    "                        \"type\": \"float\",\n",
    "                        \"value\":\"1000\"\n",
    "                    }\n",
    "                  ],\n",
    "                  \"outputVariables\": [\n",
    "                    {\n",
    "                      \"name\": \"rayleighLoss\",\n",
    "                      \"type\": \"float\"\n",
    "                    }\n",
    "                  ],\n",
    "                   \"equationModel\" :\"\"\"\n",
    "def getRayleighLoss(mach1, ttrat, tlow):\n",
    "    \\\"\\\"\\\" generated source for method getRayleighLoss \\\"\\\"\\\"\n",
    "    #  analysis for rayleigh flow \n",
    "    gamopt = 1 #implicit input\n",
    "    g1 = getGama(tlow, gamopt)\n",
    "    gm1 = g1 - 1.0\n",
    "    wc1 = getAir(mach1, g1)\n",
    "    g2 = getGama(tlow * ttrat, gamopt)\n",
    "    gm2 = g2 - 1.0\n",
    "    number = 0.95\n",
    "    # /* iterate for mach downstream */\n",
    "    mgueso = 0.4\n",
    "    # /* initial guess */\n",
    "    mach2 = 0.5\n",
    "    iter = 1\n",
    "    while iter < 20 and tf.math.abs(mach2 - mgueso) > 0.0001:\n",
    "        mgueso = mach2\n",
    "        fac1 = 1.0 + g1 * mach1 * mach1\n",
    "        fac2 = 1.0 + g2 * mach2 * mach2\n",
    "        fac3 = tf.math.pow((1.0 + 0.5 * gm1 * mach1 * mach1), (g1 / gm1))\n",
    "        fac4 = tf.math.pow((1.0 + 0.5 * gm2 * mach2 * mach2), (g2 / gm2))\n",
    "        number = fac1 * fac4 / fac2 / fac3\n",
    "        wc2 = wc1 * tf.math.sqrt(ttrat) / number\n",
    "        mach2 = getMach(0, wc2, g2)\n",
    "        iter += 1\n",
    "    return number\n",
    "\n",
    "def getGama(temp, opt):\n",
    "    \\\"\\\"\\\" generated source for method getGama \\\"\\\"\\\"\n",
    "    #  Utility to get gamma as a function of temp \n",
    "    a = -7.6942651e-13\n",
    "    b = 1.3764661e-08\n",
    "    c = -7.8185709e-05\n",
    "    d = 1.436914\n",
    "    if opt == 0:\n",
    "        number = 1.4\n",
    "    else:\n",
    "        number = a * temp * temp * temp + b * temp * temp + c * temp + d\n",
    "    return number\n",
    "\n",
    "def getAir(mach, gamma):\n",
    "    #  Utility to get the corrected airflow per area given the Mach number \n",
    "    fac2 = (gamma + 1.0) / (2.0 * (gamma - 1.0))\n",
    "    fac1 = tf.math.pow((1.0 + 0.5 * (gamma - 1.0) * mach * mach), fac2)\n",
    "    number = 0.50161 * tf.math.sqrt(gamma) * mach / fac1\n",
    "    return number\n",
    "\n",
    "def getMach(sub, corair, gamma):\n",
    "    #  Utility to get the Mach number given the corrected airflow per area \n",
    "    # /* iterate for mach number */\n",
    "    chokair = getAir(1.0, gamma)\n",
    "    if corair > chokair:\n",
    "        number = 1.0\n",
    "        return number\n",
    "    else:\n",
    "        airo = 0.25618\n",
    "        # /* initial guess */\n",
    "        if sub == 1:\n",
    "            macho = 1.0\n",
    "        else:\n",
    "            # /* sonic */\n",
    "            if sub == 2:\n",
    "                macho = 1.703\n",
    "            else:\n",
    "                macho = 0.5\n",
    "            # /* subsonic */\n",
    "            iter = 1\n",
    "            machn = macho - 0.2\n",
    "            while tf.math.abs(corair - airo) > 0.0001 and iter < 20: \n",
    "                airn = getAir(machn, gamma)\n",
    "                deriv = (airn - airo) / (machn - macho)\n",
    "                airo = airn\n",
    "                macho = machn\n",
    "                machn = macho + (corair - airo) / deriv\n",
    "                iter += 1\n",
    "        number = macho\n",
    "    return number\n",
    "\"\"\",\n",
    "                   \"modelName\" : \"getRayleighLoss\"}\n",
    "inputPacket['equationModel'] = inputPacket['equationModel'].replace(u'\\xa0', u' ')\n",
    "r = requests.post(url_build, json=inputPacket)\n",
    "r.json()"
   ]
  },
  {
   "cell_type": "code",
   "execution_count": 26,
   "metadata": {},
   "outputs": [
    {
     "data": {
      "text/plain": [
       "{'defaultsUsed': [{'name': 'tlow', 'value': '1000'}],\n",
       " 'error': '',\n",
       " 'inputVariables': [{'name': 'mach1', 'type': 'float', 'value': '2.0'},\n",
       "  {'name': 'ttrat', 'type': 'float', 'value': '5.0'}],\n",
       " 'outputVariables': [{'name': 'rayleighLoss',\n",
       "   'type': 'float',\n",
       "   'value': '[0.6649168]'}]}"
      ]
     },
     "execution_count": 26,
     "metadata": {},
     "output_type": "execute_result"
    }
   ],
   "source": [
    "inputPacket = {\n",
    "                  \"inputVariables\": [\n",
    "                    {\n",
    "                        \"name\": \"mach1\",\n",
    "                        \"type\": \"float\",\n",
    "                        \"value\": \"2.0\"\n",
    "                    },\n",
    "                    {\n",
    "                        \"name\":\"ttrat\",\n",
    "                        \"type\":\"float\",\n",
    "                        \"value\": \"5.0\"\n",
    "                    }\n",
    "                  ],\n",
    "                  \"outputVariables\": [\n",
    "                    {\n",
    "                      \"name\": \"rayleighLoss\",\n",
    "                      \"type\": \"float\"\n",
    "                    }\n",
    "                  ],\n",
    "                \"modelName\":\"getRayleighLoss\"\n",
    "}\n",
    "r = requests.post(url_evaluate, json=inputPacket)\n",
    "r.json()"
   ]
  },
  {
   "cell_type": "code",
   "execution_count": 24,
   "metadata": {},
   "outputs": [],
   "source": [
    "import numpy as np\n",
    "def getRayleighLoss(mach1, ttrat, tlow):\n",
    "    \"\"\" generated source for method getRayleighLoss \"\"\"\n",
    "    #  analysis for rayleigh flow \n",
    "    gamopt = 1 #implicit input\n",
    "    g1 = getGama(tlow, gamopt)\n",
    "    gm1 = g1 - 1.0\n",
    "    wc1 = getAir(mach1, g1)\n",
    "    g2 = getGama(tlow * ttrat, gamopt)\n",
    "    gm2 = g2 - 1.0\n",
    "    number = 0.95\n",
    "    # /* iterate for mach downstream */\n",
    "    mgueso = 0.4\n",
    "    # /* initial guess */\n",
    "    mach2 = 0.5\n",
    "    while np.abs(mach2 - mgueso) > 0.0001:\n",
    "        mgueso = mach2\n",
    "        fac1 = 1.0 + g1 * mach1 * mach1\n",
    "        fac2 = 1.0 + g2 * mach2 * mach2\n",
    "        fac3 = np.math.pow((1.0 + 0.5 * gm1 * mach1 * mach1), (g1 / gm1))\n",
    "        fac4 = np.math.pow((1.0 + 0.5 * gm2 * mach2 * mach2), (g2 / gm2))\n",
    "        number = fac1 * fac4 / fac2 / fac3\n",
    "        wc2 = wc1 * np.sqrt(ttrat) / number\n",
    "        mach2 = getMach(0, wc2, g2)\n",
    "    return number\n",
    "\n",
    "def getGama(temp, opt):\n",
    "    \"\"\" generated source for method getGama \"\"\"\n",
    "    #  Utility to get gamma as a function of temp \n",
    "    a = -7.6942651e-13\n",
    "    b = 1.3764661e-08\n",
    "    c = -7.8185709e-05\n",
    "    d = 1.436914\n",
    "    if opt == 0:\n",
    "        number = 1.4\n",
    "    else:\n",
    "        number = a * temp * temp * temp + b * temp * temp + c * temp + d\n",
    "    return number\n",
    "\n",
    "def getAir(mach, gamma):\n",
    "    #  Utility to get the corrected airflow per area given the Mach number \n",
    "    fac2 = (gamma + 1.0) / (2.0 * (gamma - 1.0))\n",
    "    fac1 = np.math.pow((1.0 + 0.5 * (gamma - 1.0) * mach * mach), fac2)\n",
    "    number = 0.50161 * np.sqrt(gamma) * mach / fac1\n",
    "    return number\n",
    "\n",
    "def getMach(sub, corair, gamma):\n",
    "    #  Utility to get the Mach number given the corrected airflow per area \n",
    "    # /* iterate for mach number */\n",
    "    chokair = getAir(1.0, gamma)\n",
    "    if corair > chokair:\n",
    "        number = 1.0\n",
    "        return number\n",
    "    else:\n",
    "        airo = 0.25618\n",
    "        # /* initial guess */\n",
    "        if sub == 1:\n",
    "            macho = 1.0\n",
    "        else:\n",
    "            # /* sonic */\n",
    "            if sub == 2:\n",
    "                macho = 1.703\n",
    "            else:\n",
    "                macho = 0.5\n",
    "            # /* subsonic */\n",
    "            iter = 1\n",
    "            machn = macho - 0.2\n",
    "            while np.abs(corair - airo) > 0.0001 and iter < 20: \n",
    "                airn = getAir(machn, gamma)\n",
    "                deriv = (airn - airo) / (machn - macho)\n",
    "                airo = airn\n",
    "                macho = machn\n",
    "                machn = macho + (corair - airo) / deriv\n",
    "                iter += 1\n",
    "        number = macho\n",
    "    return number"
   ]
  },
  {
   "cell_type": "code",
   "execution_count": 16,
   "metadata": {},
   "outputs": [
    {
     "data": {
      "text/plain": [
       "0.6649166493657013"
      ]
     },
     "execution_count": 16,
     "metadata": {},
     "output_type": "execute_result"
    }
   ],
   "source": [
    "getRayleighLoss(mach1 = 2.0, ttrat= 5.0, tlow=1000.0)"
   ]
  },
  {
   "cell_type": "code",
   "execution_count": null,
   "metadata": {},
   "outputs": [],
   "source": []
  }
 ],
 "metadata": {
  "kernelspec": {
   "display_name": "Python 3",
   "language": "python",
   "name": "python3"
  },
  "language_info": {
   "codemirror_mode": {
    "name": "ipython",
    "version": 3
   },
   "file_extension": ".py",
   "mimetype": "text/x-python",
   "name": "python",
   "nbconvert_exporter": "python",
   "pygments_lexer": "ipython3",
   "version": "3.6.7"
  }
 },
 "nbformat": 4,
 "nbformat_minor": 2
}
