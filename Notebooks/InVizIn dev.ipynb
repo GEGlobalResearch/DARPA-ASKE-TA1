{
 "cells": [
  {
   "cell_type": "markdown",
   "metadata": {},
   "source": [
    "# Interactive Visualization of Inferences (InVizIn)\n"
   ]
  },
  {
   "cell_type": "code",
   "execution_count": null,
   "metadata": {},
   "outputs": [],
   "source": [
    "import dash\n",
    "import dash_table\n",
    "import pandas as pd\n",
    "import dash_core_components as dcc\n",
    "import dash_html_components as html"
   ]
  },
  {
   "cell_type": "code",
   "execution_count": null,
   "metadata": {},
   "outputs": [],
   "source": [
    "def createTable(df):\n",
    "    table_header_style = {\n",
    "        \"backgroundColor\": \"rgb(2,21,70)\",\n",
    "        \"color\": \"white\",\n",
    "        \"textAlign\": \"center\",\n",
    "    }\n",
    "\n",
    "    tab = dash_table.DataTable(\n",
    "        id='table',\n",
    "        columns=[{\"name\": i, \"id\": i} for i in df.columns],\n",
    "        data=df.to_dict(\"rows\"),\n",
    "        style_header=table_header_style,\n",
    "        style_table={'maxHeight': '40%',\n",
    "                    'maxWidth': '50%'},\n",
    "        fixed_rows={ 'headers': True, 'data': 0 },\n",
    "    )\n",
    "    return tab"
   ]
  },
  {
   "cell_type": "code",
   "execution_count": null,
   "metadata": {},
   "outputs": [],
   "source": [
    "def createScatter(df):\n",
    "    dataTemplate = dict(\n",
    "        x=df[df.columns[0]],\n",
    "        y=df[df.columns[1]],  #text=df.columns[0],\n",
    "        mode='markers',\n",
    "        opacity=0.7,\n",
    "        marker={\n",
    "            'size': 15,\n",
    "            'line': {'width': 0.5, 'color': 'white'}\n",
    "        },\n",
    "        name=df.columns[0])\n",
    "    \n",
    "    dataDict = []\n",
    "    dataDict.append(dataTemplate)\n",
    "        \n",
    "    scatterGraph = dcc.Graph(\n",
    "        id='scatter',\n",
    "        figure={\n",
    "            'data': dataDict,\n",
    "            'layout': dict(\n",
    "                xaxis={'title': df.columns[0]},\n",
    "                yaxis={'title': df.columns[1]},\n",
    "                hovermode='closest')\n",
    "        }\n",
    "    )\n",
    "    return scatterGraph"
   ]
  },
  {
   "cell_type": "code",
   "execution_count": null,
   "metadata": {},
   "outputs": [],
   "source": [
    "df = pd.read_csv('C:\\\\Users\\\\212613144\\\\Repository\\\\DARPA-ASKE-TA1-Ext\\\\Datasets\\\\Force_dataset.csv', header = [0,1])\n",
    "\n",
    "colNames = []\n",
    "for i in range(len(df.columns)):\n",
    "     colNames.append(df.columns[i][0])\n",
    "df.columns = colNames\n",
    "\n",
    "app = dash.Dash(__name__)\n",
    "table = createTable(df)\n",
    "graph = createScatter(df)\n",
    "app.layout = html.Div(\n",
    "                className=\"container\",\n",
    "                children=[\n",
    "                    html.Div([\n",
    "                            html.Label(\n",
    "                                [\n",
    "                                    html.Div([\"Mass\"]),\n",
    "                                    dcc.Input(\n",
    "                                        id=\"mass-input\",\n",
    "                                        placeholder=\"Enter a value...\",\n",
    "                                        type=\"number\",\n",
    "                                        value=1.0,\n",
    "                                        min=0.0,\n",
    "                                        max=10.0,\n",
    "                                    ),\n",
    "                                ]\n",
    "                            ),\n",
    "                            html.Label(\n",
    "                                [\n",
    "                                    html.Div([\"Acceleration\"]),\n",
    "                                    dcc.Input(\n",
    "                                        id=\"acc-input\",\n",
    "                                        placeholder=\"Enter a value...\",\n",
    "                                        type=\"number\",\n",
    "                                        value=0.5,\n",
    "                                        min=-10.0,\n",
    "                                        max=10.0,\n",
    "                                    ),\n",
    "                                ]\n",
    "                            ),\n",
    "                    ]\n",
    "                    ),\n",
    "                    html.Div(\n",
    "                        className=\"row\",\n",
    "                        style={},\n",
    "                        children=[\n",
    "                            html.Div(className=\"table\",\n",
    "                                     children=[table]\n",
    "                            ),\n",
    "                            \n",
    "                            html.Div(className=\"graph\",\n",
    "                                     children=[graph]\n",
    "                            )\n",
    "                        ]\n",
    "                    )\n",
    "                ]\n",
    ")\n",
    "                            \n",
    "                            \n",
    "app.run_server(debug=False)\n",
    "    "
   ]
  },
  {
   "cell_type": "code",
   "execution_count": null,
   "metadata": {},
   "outputs": [],
   "source": [
    "from plotly.subplots import make_subplots\n",
    "import plotly.graph_objects as go\n",
    "\n",
    "fig = make_subplots(rows=1, cols=2)\n",
    "\n",
    "fig.add_trace(\n",
    "    go.Scatter(x=[1, 2, 3], y=[4, 5, 6]),\n",
    "    row=1, col=1\n",
    ")\n",
    "\n",
    "fig.add_trace(\n",
    "    go.Scatter(x=[20, 30, 40], y=[50, 60, 70]),\n",
    "    row=1, col=2\n",
    ")\n",
    "\n",
    "fig.update_layout(height=600, width=800, title_text=\"Subplots\")\n",
    "fig.show()"
   ]
  },
  {
   "cell_type": "code",
   "execution_count": null,
   "metadata": {},
   "outputs": [],
   "source": [
    "app = dash.Dash(__name__)\n",
    "graph = createScatter(df)\n",
    "app.layout = html.Div(children=[graph])\n",
    "\n",
    "if __name__ == '__main__':\n",
    "    app.run_server(debug=False)"
   ]
  },
  {
   "cell_type": "code",
   "execution_count": 1,
   "metadata": {},
   "outputs": [],
   "source": [
    "#imports needed for demonstration\n",
    "\n",
    "#for communicating with services\n",
    "import requests\n",
    "\n",
    "#URL to interact with build\n",
    "url_build = 'http://localhost:12345/darpa/aske/kchain/build'\n",
    "\n",
    "#URL to interact with append service\n",
    "url_append = 'http://localhost:12345/darpa/aske/kchain/append'\n",
    "\n",
    "#URL to interact with evaluate service\n",
    "url_evaluate = 'http://localhost:12345/darpa/aske/kchain/evaluate'"
   ]
  },
  {
   "cell_type": "code",
   "execution_count": 3,
   "metadata": {},
   "outputs": [
    {
     "data": {
      "text/plain": [
       "{'metagraphLocation': '../models/getAir',\n",
       " 'modelType': 'Physics',\n",
       " 'trainedState': 0}"
      ]
     },
     "execution_count": 3,
     "metadata": {},
     "output_type": "execute_result"
    }
   ],
   "source": [
    "inputPacket = {\n",
    "\"inputVariables\": [\n",
    "    {\n",
    "        \"name\": \"mach\",\n",
    "        \"type\": \"float\"\n",
    "    },\n",
    "    {\n",
    "        \"name\": \"gamma\",\n",
    "        \"type\": \"float\",\n",
    "        \"value\":\"1.4\"\n",
    "    }\n",
    "],\n",
    "\"outputVariables\": [\n",
    "    {\n",
    "      \"name\": \"aflow\",\n",
    "      \"type\": \"float\"\n",
    "    },\n",
    "    {\n",
    "      \"name\": \"fac1\",\n",
    "      \"type\": \"float\"\n",
    "    },\n",
    "    {\n",
    "      \"name\": \"fac2\",\n",
    "      \"type\": \"float\"\n",
    "    }\n",
    "],\n",
    "\"equationModel\" : \"\"\"#   Utility to get the corrected airflow per area given the Mach number \n",
    "    fac2 = (gamma + 1.0) / (2.0 * (gamma - 1.0))\n",
    "    fac1 = tf.math.pow((1.0 + 0.5 * (gamma - 1.0) * mach * mach), fac2)\n",
    "    number = 0.50161 * tf.math.sqrt(gamma) * mach / fac1\n",
    "    aflow = number\n",
    "\"\"\",\n",
    "\"modelName\" : \"getAir\"\n",
    "}\n",
    "r = requests.post(url_build, json=inputPacket)\n",
    "r.json()"
   ]
  },
  {
   "cell_type": "code",
   "execution_count": 4,
   "metadata": {},
   "outputs": [
    {
     "data": {
      "text/plain": [
       "{'error': '',\n",
       " 'inputVariables': [{'name': 'mach', 'type': 'float', 'value': '0.9'},\n",
       "  {'name': 'gamma', 'type': 'float', 'value': '1.4'}],\n",
       " 'outputVariables': [{'name': 'aflow',\n",
       "   'type': 'float',\n",
       "   'value': '[0.3404508]'},\n",
       "  {'name': 'fac1', 'type': 'float', 'value': '[1.5689833]'},\n",
       "  {'name': 'fac2', 'type': 'float', 'value': '[3.0000002]'}]}"
      ]
     },
     "execution_count": 4,
     "metadata": {},
     "output_type": "execute_result"
    }
   ],
   "source": [
    "evalPacket = {\n",
    "\"inputVariables\": [\n",
    "    {\n",
    "        \"name\": \"mach\",\n",
    "        \"type\": \"float\",\n",
    "        \"value\" : \"0.9\",\n",
    "        #\"minValue\": \"0.0\",\n",
    "        #\"maxValue\": \"3.0\"\n",
    "    },\n",
    "    {\n",
    "        \"name\": \"gamma\",\n",
    "        \"type\": \"float\",\n",
    "        \"value\" : \"1.4\",\n",
    "        #\"minValue\": \"1.01\",\n",
    "        #\"maxValue\": \"2.0\"\n",
    "    },\n",
    "    \n",
    "],\n",
    "\"outputVariables\": [\n",
    "    {\n",
    "      \"name\": \"aflow\",\n",
    "      \"type\": \"float\"\n",
    "    },\n",
    "    {\n",
    "      \"name\": \"fac1\",\n",
    "      \"type\": \"float\"\n",
    "    },\n",
    "    {\n",
    "      \"name\": \"fac2\",\n",
    "      \"type\": \"float\"\n",
    "    }\n",
    "],\n",
    "\"modelName\" : \"getAir\"\n",
    "}\n",
    "r = requests.post(url_evaluate, json=evalPacket)\n",
    "r.json()"
   ]
  },
  {
   "cell_type": "code",
   "execution_count": 4,
   "metadata": {},
   "outputs": [
    {
     "data": {
      "text/plain": [
       "200"
      ]
     },
     "execution_count": 4,
     "metadata": {},
     "output_type": "execute_result"
    }
   ],
   "source": [
    "r.status_code"
   ]
  },
  {
   "cell_type": "code",
   "execution_count": 5,
   "metadata": {},
   "outputs": [],
   "source": [
    "from plotly.subplots import make_subplots\n",
    "import plotly.colors as colors \n",
    "import plotly.graph_objects as go\n",
    "import pandas as pd\n",
    "import numpy as np\n",
    "import copy"
   ]
  },
  {
   "cell_type": "code",
   "execution_count": 6,
   "metadata": {},
   "outputs": [],
   "source": [
    "def getOutputValue(evalPacket, url_evaluate, inputVal, index):\n",
    "    if inputVal is not None:\n",
    "        evalPacket['inputVariables'][index]['value'] = str(inputVal)\n",
    "    r = requests.post(url_evaluate, json=evalPacket)\n",
    "    rj = r.json()\n",
    "    assert r.status_code == 200\n",
    "    #print(rj)\n",
    "    outVals = []\n",
    "    for ii in range(len(rj['outputVariables'])):\n",
    "        outVals.append(float(rj['outputVariables'][ii]['value'][1:-1]))\n",
    "\n",
    "    return outVals"
   ]
  },
  {
   "cell_type": "code",
   "execution_count": 7,
   "metadata": {},
   "outputs": [],
   "source": [
    "def getOutputDataframe(evalPacket, url_evaluate, X, index):\n",
    "    df = pd.DataFrame()\n",
    "    for inputVal in X:\n",
    "        outVals = getOutputValue(evalPacket, url_evaluate, inputVal, index)\n",
    "        dat = {}\n",
    "        dat[evalPacket['inputVariables'][index]['name']] = inputVal #X\n",
    "        for ix, outVal in enumerate(outVals):\n",
    "            dat[evalPacket['outputVariables'][ix]['name']] = outVal\n",
    "        df = df.append(dat, ignore_index=True)\n",
    "        \n",
    "    return df"
   ]
  },
  {
   "cell_type": "code",
   "execution_count": 8,
   "metadata": {},
   "outputs": [],
   "source": [
    "def getMinMax(pck, index):\n",
    "    frac = 0.1\n",
    "    if 'minValue' in pck['inputVariables'][index].keys():\n",
    "        MIN = float(pck['inputVariables'][index]['minValue'])\n",
    "    else:\n",
    "        MIN = float(pck['inputVariables'][index]['value'])*(1 - frac)\n",
    "        \n",
    "    if 'maxValue' in pck['inputVariables'][index].keys():\n",
    "        MAX = float(pck['inputVariables'][index]['maxValue'])\n",
    "    else:\n",
    "        MAX = float(pck['inputVariables'][index]['value'])*(1 + frac)\n",
    "    \n",
    "    return MIN, MAX"
   ]
  },
  {
   "cell_type": "code",
   "execution_count": 9,
   "metadata": {},
   "outputs": [],
   "source": [
    "def createSensitivityGraphOAT(evalPacket):\n",
    "    pck = copy.deepcopy(evalPacket)\n",
    "    NUM = 20\n",
    "\n",
    "    refDat = {}\n",
    "    for ii, inputVariable in enumerate(pck['inputVariables']):\n",
    "        inVal = float(inputVariable['value'])\n",
    "        refDat[inputVariable['name']]=inVal\n",
    "\n",
    "    outVals = getOutputValue(evalPacket, url_evaluate, inputVal=None, index=None)\n",
    "    for ix, outVal in enumerate(outVals):\n",
    "        refDat[pck['outputVariables'][ix]['name']] = outVal\n",
    "\n",
    "    fig = make_subplots(rows=len(pck['outputVariables']), cols=len(pck['inputVariables']), \n",
    "                        shared_xaxes=True, horizontal_spacing=0.075, vertical_spacing=0.05) #shared_yaxes= True, shared_xaxes=True, \n",
    "    for ii, inputVariable in enumerate(pck['inputVariables']):\n",
    "        #only one input is changed while others stay at base\n",
    "        MIN, MAX = getMinMax(pck, ii)\n",
    "        X = np.linspace(MIN, MAX, num=NUM)\n",
    "        df = getOutputDataframe(copy.deepcopy(pck), url_evaluate, X, index = ii)\n",
    "        for jj, outputVariable in enumerate(pck['outputVariables']):\n",
    "            fig.add_trace(go.Scatter(x = X, y=df[outputVariable['name']], \n",
    "                                     mode=\"lines\",name = inputVariable['name'],\n",
    "                                     marker = {\"size\": 10}),\n",
    "                          row=jj+1, col=ii+1)\n",
    "            fig.add_trace(go.Scatter(x = [refDat[inputVariable['name']]], \n",
    "                                     y = [refDat[outputVariable['name']]],\n",
    "                                     name = \"Reference\", mode=\"markers\", \n",
    "                                     marker = {\"symbol\":\"diamond-open\",\"size\": 10, \"color\": \"black\"}),\n",
    "                          row=jj+1, col=ii+1)\n",
    "            if ii == 0:\n",
    "                fig.update_yaxes(title_text=outputVariable['name'], row=jj+1, col=ii+1, hoverformat=\".2f\")\n",
    "            else:\n",
    "                fig.update_yaxes(row=jj+1, col=ii+1, hoverformat=\".2f\")\n",
    "            if jj == len(pck['outputVariables'])-1:\n",
    "                fig.update_xaxes(title_text=inputVariable['name'], row=jj+1, col=ii+1, hoverformat=\".2f\")\n",
    "            else:\n",
    "                fig.update_xaxes(row=jj+1, col=ii+1, hoverformat=\".2f\")\n",
    "\n",
    "    fig.update_layout(title='Sensitivity: One-at-a-time Parametric Analysis', showlegend=False)\n",
    "    fig.show()\n",
    "    return fig"
   ]
  },
  {
   "cell_type": "code",
   "execution_count": 13,
   "metadata": {},
   "outputs": [
    {
     "data": {
      "application/vnd.plotly.v1+json": {
       "config": {
        "plotlyServerURL": "https://plot.ly"
       },
       "data": [
        {
         "marker": {
          "size": 10
         },
         "mode": "lines",
         "name": "u0d",
         "type": "scatter",
         "x": [
          90,
          91.05263157894737,
          92.10526315789474,
          93.15789473684211,
          94.21052631578948,
          95.26315789473685,
          96.31578947368422,
          97.36842105263159,
          98.42105263157896,
          99.47368421052633,
          100.5263157894737,
          101.57894736842107,
          102.63157894736844,
          103.6842105263158,
          104.73684210526316,
          105.78947368421053,
          106.8421052631579,
          107.89473684210527,
          108.94736842105264,
          110.00000000000001
         ],
         "xaxis": "x",
         "y": [
          0.12246861,
          0.12390099,
          0.12533337,
          0.12676576,
          0.12819813,
          0.1296305,
          0.13106288,
          0.13249527,
          0.13392766,
          0.13536005,
          0.13679242,
          0.13822481,
          0.13965718,
          0.14108956,
          0.14252193,
          0.14395432,
          0.1453867,
          0.14681908,
          0.14825147,
          0.14968386
         ],
         "yaxis": "y"
        },
        {
         "marker": {
          "color": "black",
          "size": 10,
          "symbol": "diamond-open"
         },
         "mode": "markers",
         "name": "Reference",
         "type": "scatter",
         "x": [
          100
         ],
         "xaxis": "x",
         "y": [
          0.13607623
         ],
         "yaxis": "y"
        },
        {
         "marker": {
          "size": 10
         },
         "mode": "lines",
         "name": "u0d",
         "type": "scatter",
         "x": [
          90,
          91.05263157894737,
          92.10526315789474,
          93.15789473684211,
          94.21052631578948,
          95.26315789473685,
          96.31578947368422,
          97.36842105263159,
          98.42105263157896,
          99.47368421052633,
          100.5263157894737,
          101.57894736842107,
          102.63157894736844,
          103.6842105263158,
          104.73684210526316,
          105.78947368421053,
          106.8421052631579,
          107.89473684210527,
          108.94736842105264,
          110.00000000000001
         ],
         "xaxis": "x3",
         "y": [
          1077.8273,
          1077.8273,
          1077.8273,
          1077.8273,
          1077.8273,
          1077.8273,
          1077.8273,
          1077.8273,
          1077.8273,
          1077.8273,
          1077.8273,
          1077.8273,
          1077.8273,
          1077.8273,
          1077.8273,
          1077.8273,
          1077.8273,
          1077.8273,
          1077.8273,
          1077.8273
         ],
         "yaxis": "y3"
        },
        {
         "marker": {
          "color": "black",
          "size": 10,
          "symbol": "diamond-open"
         },
         "mode": "markers",
         "name": "Reference",
         "type": "scatter",
         "x": [
          100
         ],
         "xaxis": "x3",
         "y": [
          1077.8273
         ],
         "yaxis": "y3"
        },
        {
         "marker": {
          "size": 10
         },
         "mode": "lines",
         "name": "u0d",
         "type": "scatter",
         "x": [
          90,
          91.05263157894737,
          92.10526315789474,
          93.15789473684211,
          94.21052631578948,
          95.26315789473685,
          96.31578947368422,
          97.36842105263159,
          98.42105263157896,
          99.47368421052633,
          100.5263157894737,
          101.57894736842107,
          102.63157894736844,
          103.6842105263158,
          104.73684210526316,
          105.78947368421053,
          106.8421052631579,
          107.89473684210527,
          108.94736842105264,
          110.00000000000001
         ],
         "xaxis": "x5",
         "y": [
          0.23807831,
          0.23807925,
          0.2380802,
          0.23808116,
          0.23808213,
          0.23808311,
          0.23808411,
          0.2380851,
          0.23808612,
          0.23808715,
          0.23808818,
          0.23808923,
          0.23809029,
          0.23809136,
          0.23809244,
          0.23809353,
          0.23809463,
          0.23809575,
          0.23809686,
          0.238098
         ],
         "yaxis": "y5"
        },
        {
         "marker": {
          "color": "black",
          "size": 10,
          "symbol": "diamond-open"
         },
         "mode": "markers",
         "name": "Reference",
         "type": "scatter",
         "x": [
          100
         ],
         "xaxis": "x5",
         "y": [
          0.23808765
         ],
         "yaxis": "y5"
        },
        {
         "marker": {
          "size": 10
         },
         "mode": "lines",
         "name": "altd",
         "type": "scatter",
         "x": [
          9000,
          9105.263157894737,
          9210.526315789473,
          9315.78947368421,
          9421.052631578947,
          9526.315789473683,
          9631.578947368422,
          9736.842105263158,
          9842.105263157895,
          9947.368421052632,
          10052.631578947368,
          10157.894736842105,
          10263.157894736842,
          10368.421052631578,
          10473.684210526315,
          10578.947368421053,
          10684.21052631579,
          10789.473684210527,
          10894.736842105263,
          11000
         ],
         "xaxis": "x2",
         "y": [
          0.13557751,
          0.13562976,
          0.13568206,
          0.13573441,
          0.13578683,
          0.13583933,
          0.13589185,
          0.13594446,
          0.13599712,
          0.13604985,
          0.13610263,
          0.13615549,
          0.1362084,
          0.13626137,
          0.13631439,
          0.1363675,
          0.13642065,
          0.13647388,
          0.13652717,
          0.13658051
         ],
         "yaxis": "y2"
        },
        {
         "marker": {
          "color": "black",
          "size": 10,
          "symbol": "diamond-open"
         },
         "mode": "markers",
         "name": "Reference",
         "type": "scatter",
         "x": [
          10000
         ],
         "xaxis": "x2",
         "y": [
          0.13607623
         ],
         "yaxis": "y2"
        },
        {
         "marker": {
          "size": 10
         },
         "mode": "lines",
         "name": "altd",
         "type": "scatter",
         "x": [
          9000,
          9105.263157894737,
          9210.526315789473,
          9315.78947368421,
          9421.052631578947,
          9526.315789473683,
          9631.578947368422,
          9736.842105263158,
          9842.105263157895,
          9947.368421052632,
          10052.631578947368,
          10157.894736842105,
          10263.157894736842,
          10368.421052631578,
          10473.684210526315,
          10578.947368421053,
          10684.21052631579,
          10789.473684210527,
          10894.736842105263,
          11000
         ],
         "xaxis": "x4",
         "y": [
          1081.792,
          1081.3754,
          1080.9585,
          1080.5416,
          1080.1244,
          1079.707,
          1079.2897,
          1078.8721,
          1078.4542,
          1078.0363,
          1077.6182,
          1077.1998,
          1076.7814,
          1076.3628,
          1075.9441,
          1075.5251,
          1075.1061,
          1074.6868,
          1074.2673,
          1073.8478
         ],
         "yaxis": "y4"
        },
        {
         "marker": {
          "color": "black",
          "size": 10,
          "symbol": "diamond-open"
         },
         "mode": "markers",
         "name": "Reference",
         "type": "scatter",
         "x": [
          10000
         ],
         "xaxis": "x4",
         "y": [
          1077.8273
         ],
         "yaxis": "y4"
        },
        {
         "marker": {
          "size": 10
         },
         "mode": "lines",
         "name": "altd",
         "type": "scatter",
         "x": [
          9000,
          9105.263157894737,
          9210.526315789473,
          9315.78947368421,
          9421.052631578947,
          9526.315789473683,
          9631.578947368422,
          9736.842105263158,
          9842.105263157895,
          9947.368421052632,
          10052.631578947368,
          10157.894736842105,
          10263.157894736842,
          10368.421052631578,
          10473.684210526315,
          10578.947368421053,
          10684.21052631579,
          10789.473684210527,
          10894.736842105263,
          11000
         ],
         "xaxis": "x6",
         "y": [
          0.23818558,
          0.23817529,
          0.23816498,
          0.23815466,
          0.23814435,
          0.23813406,
          0.23812374,
          0.23811343,
          0.23810314,
          0.23809282,
          0.2380825,
          0.2380722,
          0.23806189,
          0.23805158,
          0.23804127,
          0.23803096,
          0.23802066,
          0.23801033,
          0.23800002,
          0.23798971
         ],
         "yaxis": "y6"
        },
        {
         "marker": {
          "color": "black",
          "size": 10,
          "symbol": "diamond-open"
         },
         "mode": "markers",
         "name": "Reference",
         "type": "scatter",
         "x": [
          10000
         ],
         "xaxis": "x6",
         "y": [
          0.23808765
         ],
         "yaxis": "y6"
        }
       ],
       "layout": {
        "showlegend": false,
        "template": {
         "data": {
          "bar": [
           {
            "error_x": {
             "color": "#2a3f5f"
            },
            "error_y": {
             "color": "#2a3f5f"
            },
            "marker": {
             "line": {
              "color": "#E5ECF6",
              "width": 0.5
             }
            },
            "type": "bar"
           }
          ],
          "barpolar": [
           {
            "marker": {
             "line": {
              "color": "#E5ECF6",
              "width": 0.5
             }
            },
            "type": "barpolar"
           }
          ],
          "carpet": [
           {
            "aaxis": {
             "endlinecolor": "#2a3f5f",
             "gridcolor": "white",
             "linecolor": "white",
             "minorgridcolor": "white",
             "startlinecolor": "#2a3f5f"
            },
            "baxis": {
             "endlinecolor": "#2a3f5f",
             "gridcolor": "white",
             "linecolor": "white",
             "minorgridcolor": "white",
             "startlinecolor": "#2a3f5f"
            },
            "type": "carpet"
           }
          ],
          "choropleth": [
           {
            "colorbar": {
             "outlinewidth": 0,
             "ticks": ""
            },
            "type": "choropleth"
           }
          ],
          "contour": [
           {
            "colorbar": {
             "outlinewidth": 0,
             "ticks": ""
            },
            "colorscale": [
             [
              0,
              "#0d0887"
             ],
             [
              0.1111111111111111,
              "#46039f"
             ],
             [
              0.2222222222222222,
              "#7201a8"
             ],
             [
              0.3333333333333333,
              "#9c179e"
             ],
             [
              0.4444444444444444,
              "#bd3786"
             ],
             [
              0.5555555555555556,
              "#d8576b"
             ],
             [
              0.6666666666666666,
              "#ed7953"
             ],
             [
              0.7777777777777778,
              "#fb9f3a"
             ],
             [
              0.8888888888888888,
              "#fdca26"
             ],
             [
              1,
              "#f0f921"
             ]
            ],
            "type": "contour"
           }
          ],
          "contourcarpet": [
           {
            "colorbar": {
             "outlinewidth": 0,
             "ticks": ""
            },
            "type": "contourcarpet"
           }
          ],
          "heatmap": [
           {
            "colorbar": {
             "outlinewidth": 0,
             "ticks": ""
            },
            "colorscale": [
             [
              0,
              "#0d0887"
             ],
             [
              0.1111111111111111,
              "#46039f"
             ],
             [
              0.2222222222222222,
              "#7201a8"
             ],
             [
              0.3333333333333333,
              "#9c179e"
             ],
             [
              0.4444444444444444,
              "#bd3786"
             ],
             [
              0.5555555555555556,
              "#d8576b"
             ],
             [
              0.6666666666666666,
              "#ed7953"
             ],
             [
              0.7777777777777778,
              "#fb9f3a"
             ],
             [
              0.8888888888888888,
              "#fdca26"
             ],
             [
              1,
              "#f0f921"
             ]
            ],
            "type": "heatmap"
           }
          ],
          "heatmapgl": [
           {
            "colorbar": {
             "outlinewidth": 0,
             "ticks": ""
            },
            "colorscale": [
             [
              0,
              "#0d0887"
             ],
             [
              0.1111111111111111,
              "#46039f"
             ],
             [
              0.2222222222222222,
              "#7201a8"
             ],
             [
              0.3333333333333333,
              "#9c179e"
             ],
             [
              0.4444444444444444,
              "#bd3786"
             ],
             [
              0.5555555555555556,
              "#d8576b"
             ],
             [
              0.6666666666666666,
              "#ed7953"
             ],
             [
              0.7777777777777778,
              "#fb9f3a"
             ],
             [
              0.8888888888888888,
              "#fdca26"
             ],
             [
              1,
              "#f0f921"
             ]
            ],
            "type": "heatmapgl"
           }
          ],
          "histogram": [
           {
            "marker": {
             "colorbar": {
              "outlinewidth": 0,
              "ticks": ""
             }
            },
            "type": "histogram"
           }
          ],
          "histogram2d": [
           {
            "colorbar": {
             "outlinewidth": 0,
             "ticks": ""
            },
            "colorscale": [
             [
              0,
              "#0d0887"
             ],
             [
              0.1111111111111111,
              "#46039f"
             ],
             [
              0.2222222222222222,
              "#7201a8"
             ],
             [
              0.3333333333333333,
              "#9c179e"
             ],
             [
              0.4444444444444444,
              "#bd3786"
             ],
             [
              0.5555555555555556,
              "#d8576b"
             ],
             [
              0.6666666666666666,
              "#ed7953"
             ],
             [
              0.7777777777777778,
              "#fb9f3a"
             ],
             [
              0.8888888888888888,
              "#fdca26"
             ],
             [
              1,
              "#f0f921"
             ]
            ],
            "type": "histogram2d"
           }
          ],
          "histogram2dcontour": [
           {
            "colorbar": {
             "outlinewidth": 0,
             "ticks": ""
            },
            "colorscale": [
             [
              0,
              "#0d0887"
             ],
             [
              0.1111111111111111,
              "#46039f"
             ],
             [
              0.2222222222222222,
              "#7201a8"
             ],
             [
              0.3333333333333333,
              "#9c179e"
             ],
             [
              0.4444444444444444,
              "#bd3786"
             ],
             [
              0.5555555555555556,
              "#d8576b"
             ],
             [
              0.6666666666666666,
              "#ed7953"
             ],
             [
              0.7777777777777778,
              "#fb9f3a"
             ],
             [
              0.8888888888888888,
              "#fdca26"
             ],
             [
              1,
              "#f0f921"
             ]
            ],
            "type": "histogram2dcontour"
           }
          ],
          "mesh3d": [
           {
            "colorbar": {
             "outlinewidth": 0,
             "ticks": ""
            },
            "type": "mesh3d"
           }
          ],
          "parcoords": [
           {
            "line": {
             "colorbar": {
              "outlinewidth": 0,
              "ticks": ""
             }
            },
            "type": "parcoords"
           }
          ],
          "pie": [
           {
            "automargin": true,
            "type": "pie"
           }
          ],
          "scatter": [
           {
            "marker": {
             "colorbar": {
              "outlinewidth": 0,
              "ticks": ""
             }
            },
            "type": "scatter"
           }
          ],
          "scatter3d": [
           {
            "line": {
             "colorbar": {
              "outlinewidth": 0,
              "ticks": ""
             }
            },
            "marker": {
             "colorbar": {
              "outlinewidth": 0,
              "ticks": ""
             }
            },
            "type": "scatter3d"
           }
          ],
          "scattercarpet": [
           {
            "marker": {
             "colorbar": {
              "outlinewidth": 0,
              "ticks": ""
             }
            },
            "type": "scattercarpet"
           }
          ],
          "scattergeo": [
           {
            "marker": {
             "colorbar": {
              "outlinewidth": 0,
              "ticks": ""
             }
            },
            "type": "scattergeo"
           }
          ],
          "scattergl": [
           {
            "marker": {
             "colorbar": {
              "outlinewidth": 0,
              "ticks": ""
             }
            },
            "type": "scattergl"
           }
          ],
          "scattermapbox": [
           {
            "marker": {
             "colorbar": {
              "outlinewidth": 0,
              "ticks": ""
             }
            },
            "type": "scattermapbox"
           }
          ],
          "scatterpolar": [
           {
            "marker": {
             "colorbar": {
              "outlinewidth": 0,
              "ticks": ""
             }
            },
            "type": "scatterpolar"
           }
          ],
          "scatterpolargl": [
           {
            "marker": {
             "colorbar": {
              "outlinewidth": 0,
              "ticks": ""
             }
            },
            "type": "scatterpolargl"
           }
          ],
          "scatterternary": [
           {
            "marker": {
             "colorbar": {
              "outlinewidth": 0,
              "ticks": ""
             }
            },
            "type": "scatterternary"
           }
          ],
          "surface": [
           {
            "colorbar": {
             "outlinewidth": 0,
             "ticks": ""
            },
            "colorscale": [
             [
              0,
              "#0d0887"
             ],
             [
              0.1111111111111111,
              "#46039f"
             ],
             [
              0.2222222222222222,
              "#7201a8"
             ],
             [
              0.3333333333333333,
              "#9c179e"
             ],
             [
              0.4444444444444444,
              "#bd3786"
             ],
             [
              0.5555555555555556,
              "#d8576b"
             ],
             [
              0.6666666666666666,
              "#ed7953"
             ],
             [
              0.7777777777777778,
              "#fb9f3a"
             ],
             [
              0.8888888888888888,
              "#fdca26"
             ],
             [
              1,
              "#f0f921"
             ]
            ],
            "type": "surface"
           }
          ],
          "table": [
           {
            "cells": {
             "fill": {
              "color": "#EBF0F8"
             },
             "line": {
              "color": "white"
             }
            },
            "header": {
             "fill": {
              "color": "#C8D4E3"
             },
             "line": {
              "color": "white"
             }
            },
            "type": "table"
           }
          ]
         },
         "layout": {
          "annotationdefaults": {
           "arrowcolor": "#2a3f5f",
           "arrowhead": 0,
           "arrowwidth": 1
          },
          "coloraxis": {
           "colorbar": {
            "outlinewidth": 0,
            "ticks": ""
           }
          },
          "colorscale": {
           "diverging": [
            [
             0,
             "#8e0152"
            ],
            [
             0.1,
             "#c51b7d"
            ],
            [
             0.2,
             "#de77ae"
            ],
            [
             0.3,
             "#f1b6da"
            ],
            [
             0.4,
             "#fde0ef"
            ],
            [
             0.5,
             "#f7f7f7"
            ],
            [
             0.6,
             "#e6f5d0"
            ],
            [
             0.7,
             "#b8e186"
            ],
            [
             0.8,
             "#7fbc41"
            ],
            [
             0.9,
             "#4d9221"
            ],
            [
             1,
             "#276419"
            ]
           ],
           "sequential": [
            [
             0,
             "#0d0887"
            ],
            [
             0.1111111111111111,
             "#46039f"
            ],
            [
             0.2222222222222222,
             "#7201a8"
            ],
            [
             0.3333333333333333,
             "#9c179e"
            ],
            [
             0.4444444444444444,
             "#bd3786"
            ],
            [
             0.5555555555555556,
             "#d8576b"
            ],
            [
             0.6666666666666666,
             "#ed7953"
            ],
            [
             0.7777777777777778,
             "#fb9f3a"
            ],
            [
             0.8888888888888888,
             "#fdca26"
            ],
            [
             1,
             "#f0f921"
            ]
           ],
           "sequentialminus": [
            [
             0,
             "#0d0887"
            ],
            [
             0.1111111111111111,
             "#46039f"
            ],
            [
             0.2222222222222222,
             "#7201a8"
            ],
            [
             0.3333333333333333,
             "#9c179e"
            ],
            [
             0.4444444444444444,
             "#bd3786"
            ],
            [
             0.5555555555555556,
             "#d8576b"
            ],
            [
             0.6666666666666666,
             "#ed7953"
            ],
            [
             0.7777777777777778,
             "#fb9f3a"
            ],
            [
             0.8888888888888888,
             "#fdca26"
            ],
            [
             1,
             "#f0f921"
            ]
           ]
          },
          "colorway": [
           "#636efa",
           "#EF553B",
           "#00cc96",
           "#ab63fa",
           "#FFA15A",
           "#19d3f3",
           "#FF6692",
           "#B6E880",
           "#FF97FF",
           "#FECB52"
          ],
          "font": {
           "color": "#2a3f5f"
          },
          "geo": {
           "bgcolor": "white",
           "lakecolor": "white",
           "landcolor": "#E5ECF6",
           "showlakes": true,
           "showland": true,
           "subunitcolor": "white"
          },
          "hoverlabel": {
           "align": "left"
          },
          "hovermode": "closest",
          "mapbox": {
           "style": "light"
          },
          "paper_bgcolor": "white",
          "plot_bgcolor": "#E5ECF6",
          "polar": {
           "angularaxis": {
            "gridcolor": "white",
            "linecolor": "white",
            "ticks": ""
           },
           "bgcolor": "#E5ECF6",
           "radialaxis": {
            "gridcolor": "white",
            "linecolor": "white",
            "ticks": ""
           }
          },
          "scene": {
           "xaxis": {
            "backgroundcolor": "#E5ECF6",
            "gridcolor": "white",
            "gridwidth": 2,
            "linecolor": "white",
            "showbackground": true,
            "ticks": "",
            "zerolinecolor": "white"
           },
           "yaxis": {
            "backgroundcolor": "#E5ECF6",
            "gridcolor": "white",
            "gridwidth": 2,
            "linecolor": "white",
            "showbackground": true,
            "ticks": "",
            "zerolinecolor": "white"
           },
           "zaxis": {
            "backgroundcolor": "#E5ECF6",
            "gridcolor": "white",
            "gridwidth": 2,
            "linecolor": "white",
            "showbackground": true,
            "ticks": "",
            "zerolinecolor": "white"
           }
          },
          "shapedefaults": {
           "line": {
            "color": "#2a3f5f"
           }
          },
          "ternary": {
           "aaxis": {
            "gridcolor": "white",
            "linecolor": "white",
            "ticks": ""
           },
           "baxis": {
            "gridcolor": "white",
            "linecolor": "white",
            "ticks": ""
           },
           "bgcolor": "#E5ECF6",
           "caxis": {
            "gridcolor": "white",
            "linecolor": "white",
            "ticks": ""
           }
          },
          "title": {
           "x": 0.05
          },
          "xaxis": {
           "automargin": true,
           "gridcolor": "white",
           "linecolor": "white",
           "ticks": "",
           "title": {
            "standoff": 15
           },
           "zerolinecolor": "white",
           "zerolinewidth": 2
          },
          "yaxis": {
           "automargin": true,
           "gridcolor": "white",
           "linecolor": "white",
           "ticks": "",
           "title": {
            "standoff": 15
           },
           "zerolinecolor": "white",
           "zerolinewidth": 2
          }
         }
        },
        "title": {
         "text": "Sensitivity: One-at-a-time Parametric Analysis"
        },
        "xaxis": {
         "anchor": "y",
         "domain": [
          0,
          0.4625
         ],
         "hoverformat": ".2f",
         "matches": "x5",
         "showticklabels": false
        },
        "xaxis2": {
         "anchor": "y2",
         "domain": [
          0.5375,
          1
         ],
         "hoverformat": ".2f",
         "matches": "x6",
         "showticklabels": false
        },
        "xaxis3": {
         "anchor": "y3",
         "domain": [
          0,
          0.4625
         ],
         "hoverformat": ".2f",
         "matches": "x5",
         "showticklabels": false
        },
        "xaxis4": {
         "anchor": "y4",
         "domain": [
          0.5375,
          1
         ],
         "hoverformat": ".2f",
         "matches": "x6",
         "showticklabels": false
        },
        "xaxis5": {
         "anchor": "y5",
         "domain": [
          0,
          0.4625
         ],
         "hoverformat": ".2f",
         "title": {
          "text": "u0d"
         }
        },
        "xaxis6": {
         "anchor": "y6",
         "domain": [
          0.5375,
          1
         ],
         "hoverformat": ".2f",
         "title": {
          "text": "altd"
         }
        },
        "yaxis": {
         "anchor": "x",
         "domain": [
          0.7,
          1
         ],
         "hoverformat": ".2f",
         "title": {
          "text": "fsmach"
         }
        },
        "yaxis2": {
         "anchor": "x2",
         "domain": [
          0.7,
          1
         ],
         "hoverformat": ".2f"
        },
        "yaxis3": {
         "anchor": "x3",
         "domain": [
          0.35,
          0.6499999999999999
         ],
         "hoverformat": ".2f",
         "title": {
          "text": "a0"
         }
        },
        "yaxis4": {
         "anchor": "x4",
         "domain": [
          0.35,
          0.6499999999999999
         ],
         "hoverformat": ".2f"
        },
        "yaxis5": {
         "anchor": "x5",
         "domain": [
          0,
          0.3
         ],
         "hoverformat": ".2f",
         "title": {
          "text": "cpair"
         }
        },
        "yaxis6": {
         "anchor": "x6",
         "domain": [
          0,
          0.3
         ],
         "hoverformat": ".2f"
        }
       }
      },
      "text/html": [
       "<div>\n",
       "        \n",
       "        \n",
       "            <div id=\"1882c33a-cfe0-4ff4-b2fb-03a373d40ef3\" class=\"plotly-graph-div\" style=\"height:525px; width:100%;\"></div>\n",
       "            <script type=\"text/javascript\">\n",
       "                require([\"plotly\"], function(Plotly) {\n",
       "                    window.PLOTLYENV=window.PLOTLYENV || {};\n",
       "                    \n",
       "                if (document.getElementById(\"1882c33a-cfe0-4ff4-b2fb-03a373d40ef3\")) {\n",
       "                    Plotly.newPlot(\n",
       "                        '1882c33a-cfe0-4ff4-b2fb-03a373d40ef3',\n",
       "                        [{\"marker\": {\"size\": 10}, \"mode\": \"lines\", \"name\": \"u0d\", \"type\": \"scatter\", \"x\": [90.0, 91.05263157894737, 92.10526315789474, 93.15789473684211, 94.21052631578948, 95.26315789473685, 96.31578947368422, 97.36842105263159, 98.42105263157896, 99.47368421052633, 100.5263157894737, 101.57894736842107, 102.63157894736844, 103.6842105263158, 104.73684210526316, 105.78947368421053, 106.8421052631579, 107.89473684210527, 108.94736842105264, 110.00000000000001], \"xaxis\": \"x\", \"y\": [0.12246861, 0.12390099, 0.12533337, 0.12676576, 0.12819813, 0.1296305, 0.13106288, 0.13249527, 0.13392766, 0.13536005, 0.13679242, 0.13822481, 0.13965718, 0.14108956, 0.14252193, 0.14395432, 0.1453867, 0.14681908, 0.14825147, 0.14968386], \"yaxis\": \"y\"}, {\"marker\": {\"color\": \"black\", \"size\": 10, \"symbol\": \"diamond-open\"}, \"mode\": \"markers\", \"name\": \"Reference\", \"type\": \"scatter\", \"x\": [100.0], \"xaxis\": \"x\", \"y\": [0.13607623], \"yaxis\": \"y\"}, {\"marker\": {\"size\": 10}, \"mode\": \"lines\", \"name\": \"u0d\", \"type\": \"scatter\", \"x\": [90.0, 91.05263157894737, 92.10526315789474, 93.15789473684211, 94.21052631578948, 95.26315789473685, 96.31578947368422, 97.36842105263159, 98.42105263157896, 99.47368421052633, 100.5263157894737, 101.57894736842107, 102.63157894736844, 103.6842105263158, 104.73684210526316, 105.78947368421053, 106.8421052631579, 107.89473684210527, 108.94736842105264, 110.00000000000001], \"xaxis\": \"x3\", \"y\": [1077.8273, 1077.8273, 1077.8273, 1077.8273, 1077.8273, 1077.8273, 1077.8273, 1077.8273, 1077.8273, 1077.8273, 1077.8273, 1077.8273, 1077.8273, 1077.8273, 1077.8273, 1077.8273, 1077.8273, 1077.8273, 1077.8273, 1077.8273], \"yaxis\": \"y3\"}, {\"marker\": {\"color\": \"black\", \"size\": 10, \"symbol\": \"diamond-open\"}, \"mode\": \"markers\", \"name\": \"Reference\", \"type\": \"scatter\", \"x\": [100.0], \"xaxis\": \"x3\", \"y\": [1077.8273], \"yaxis\": \"y3\"}, {\"marker\": {\"size\": 10}, \"mode\": \"lines\", \"name\": \"u0d\", \"type\": \"scatter\", \"x\": [90.0, 91.05263157894737, 92.10526315789474, 93.15789473684211, 94.21052631578948, 95.26315789473685, 96.31578947368422, 97.36842105263159, 98.42105263157896, 99.47368421052633, 100.5263157894737, 101.57894736842107, 102.63157894736844, 103.6842105263158, 104.73684210526316, 105.78947368421053, 106.8421052631579, 107.89473684210527, 108.94736842105264, 110.00000000000001], \"xaxis\": \"x5\", \"y\": [0.23807831, 0.23807925, 0.2380802, 0.23808116, 0.23808213, 0.23808311, 0.23808411, 0.2380851, 0.23808612, 0.23808715, 0.23808818, 0.23808923, 0.23809029, 0.23809136, 0.23809244, 0.23809353, 0.23809463, 0.23809575, 0.23809686, 0.238098], \"yaxis\": \"y5\"}, {\"marker\": {\"color\": \"black\", \"size\": 10, \"symbol\": \"diamond-open\"}, \"mode\": \"markers\", \"name\": \"Reference\", \"type\": \"scatter\", \"x\": [100.0], \"xaxis\": \"x5\", \"y\": [0.23808765], \"yaxis\": \"y5\"}, {\"marker\": {\"size\": 10}, \"mode\": \"lines\", \"name\": \"altd\", \"type\": \"scatter\", \"x\": [9000.0, 9105.263157894737, 9210.526315789473, 9315.78947368421, 9421.052631578947, 9526.315789473683, 9631.578947368422, 9736.842105263158, 9842.105263157895, 9947.368421052632, 10052.631578947368, 10157.894736842105, 10263.157894736842, 10368.421052631578, 10473.684210526315, 10578.947368421053, 10684.21052631579, 10789.473684210527, 10894.736842105263, 11000.0], \"xaxis\": \"x2\", \"y\": [0.13557751, 0.13562976, 0.13568206, 0.13573441, 0.13578683, 0.13583933, 0.13589185, 0.13594446, 0.13599712, 0.13604985, 0.13610263, 0.13615549, 0.1362084, 0.13626137, 0.13631439, 0.1363675, 0.13642065, 0.13647388, 0.13652717, 0.13658051], \"yaxis\": \"y2\"}, {\"marker\": {\"color\": \"black\", \"size\": 10, \"symbol\": \"diamond-open\"}, \"mode\": \"markers\", \"name\": \"Reference\", \"type\": \"scatter\", \"x\": [10000.0], \"xaxis\": \"x2\", \"y\": [0.13607623], \"yaxis\": \"y2\"}, {\"marker\": {\"size\": 10}, \"mode\": \"lines\", \"name\": \"altd\", \"type\": \"scatter\", \"x\": [9000.0, 9105.263157894737, 9210.526315789473, 9315.78947368421, 9421.052631578947, 9526.315789473683, 9631.578947368422, 9736.842105263158, 9842.105263157895, 9947.368421052632, 10052.631578947368, 10157.894736842105, 10263.157894736842, 10368.421052631578, 10473.684210526315, 10578.947368421053, 10684.21052631579, 10789.473684210527, 10894.736842105263, 11000.0], \"xaxis\": \"x4\", \"y\": [1081.792, 1081.3754, 1080.9585, 1080.5416, 1080.1244, 1079.707, 1079.2897, 1078.8721, 1078.4542, 1078.0363, 1077.6182, 1077.1998, 1076.7814, 1076.3628, 1075.9441, 1075.5251, 1075.1061, 1074.6868, 1074.2673, 1073.8478], \"yaxis\": \"y4\"}, {\"marker\": {\"color\": \"black\", \"size\": 10, \"symbol\": \"diamond-open\"}, \"mode\": \"markers\", \"name\": \"Reference\", \"type\": \"scatter\", \"x\": [10000.0], \"xaxis\": \"x4\", \"y\": [1077.8273], \"yaxis\": \"y4\"}, {\"marker\": {\"size\": 10}, \"mode\": \"lines\", \"name\": \"altd\", \"type\": \"scatter\", \"x\": [9000.0, 9105.263157894737, 9210.526315789473, 9315.78947368421, 9421.052631578947, 9526.315789473683, 9631.578947368422, 9736.842105263158, 9842.105263157895, 9947.368421052632, 10052.631578947368, 10157.894736842105, 10263.157894736842, 10368.421052631578, 10473.684210526315, 10578.947368421053, 10684.21052631579, 10789.473684210527, 10894.736842105263, 11000.0], \"xaxis\": \"x6\", \"y\": [0.23818558, 0.23817529, 0.23816498, 0.23815466, 0.23814435, 0.23813406, 0.23812374, 0.23811343, 0.23810314, 0.23809282, 0.2380825, 0.2380722, 0.23806189, 0.23805158, 0.23804127, 0.23803096, 0.23802066, 0.23801033, 0.23800002, 0.23798971], \"yaxis\": \"y6\"}, {\"marker\": {\"color\": \"black\", \"size\": 10, \"symbol\": \"diamond-open\"}, \"mode\": \"markers\", \"name\": \"Reference\", \"type\": \"scatter\", \"x\": [10000.0], \"xaxis\": \"x6\", \"y\": [0.23808765], \"yaxis\": \"y6\"}],\n",
       "                        {\"showlegend\": false, \"template\": {\"data\": {\"bar\": [{\"error_x\": {\"color\": \"#2a3f5f\"}, \"error_y\": {\"color\": \"#2a3f5f\"}, \"marker\": {\"line\": {\"color\": \"#E5ECF6\", \"width\": 0.5}}, \"type\": \"bar\"}], \"barpolar\": [{\"marker\": {\"line\": {\"color\": \"#E5ECF6\", \"width\": 0.5}}, \"type\": \"barpolar\"}], \"carpet\": [{\"aaxis\": {\"endlinecolor\": \"#2a3f5f\", \"gridcolor\": \"white\", \"linecolor\": \"white\", \"minorgridcolor\": \"white\", \"startlinecolor\": \"#2a3f5f\"}, \"baxis\": {\"endlinecolor\": \"#2a3f5f\", \"gridcolor\": \"white\", \"linecolor\": \"white\", \"minorgridcolor\": \"white\", \"startlinecolor\": \"#2a3f5f\"}, \"type\": \"carpet\"}], \"choropleth\": [{\"colorbar\": {\"outlinewidth\": 0, \"ticks\": \"\"}, \"type\": \"choropleth\"}], \"contour\": [{\"colorbar\": {\"outlinewidth\": 0, \"ticks\": \"\"}, \"colorscale\": [[0.0, \"#0d0887\"], [0.1111111111111111, \"#46039f\"], [0.2222222222222222, \"#7201a8\"], [0.3333333333333333, \"#9c179e\"], [0.4444444444444444, \"#bd3786\"], [0.5555555555555556, \"#d8576b\"], [0.6666666666666666, \"#ed7953\"], [0.7777777777777778, \"#fb9f3a\"], [0.8888888888888888, \"#fdca26\"], [1.0, \"#f0f921\"]], \"type\": \"contour\"}], \"contourcarpet\": [{\"colorbar\": {\"outlinewidth\": 0, \"ticks\": \"\"}, \"type\": \"contourcarpet\"}], \"heatmap\": [{\"colorbar\": {\"outlinewidth\": 0, \"ticks\": \"\"}, \"colorscale\": [[0.0, \"#0d0887\"], [0.1111111111111111, \"#46039f\"], [0.2222222222222222, \"#7201a8\"], [0.3333333333333333, \"#9c179e\"], [0.4444444444444444, \"#bd3786\"], [0.5555555555555556, \"#d8576b\"], [0.6666666666666666, \"#ed7953\"], [0.7777777777777778, \"#fb9f3a\"], [0.8888888888888888, \"#fdca26\"], [1.0, \"#f0f921\"]], \"type\": \"heatmap\"}], \"heatmapgl\": [{\"colorbar\": {\"outlinewidth\": 0, \"ticks\": \"\"}, \"colorscale\": [[0.0, \"#0d0887\"], [0.1111111111111111, \"#46039f\"], [0.2222222222222222, \"#7201a8\"], [0.3333333333333333, \"#9c179e\"], [0.4444444444444444, \"#bd3786\"], [0.5555555555555556, \"#d8576b\"], [0.6666666666666666, \"#ed7953\"], [0.7777777777777778, \"#fb9f3a\"], [0.8888888888888888, \"#fdca26\"], [1.0, \"#f0f921\"]], \"type\": \"heatmapgl\"}], \"histogram\": [{\"marker\": {\"colorbar\": {\"outlinewidth\": 0, \"ticks\": \"\"}}, \"type\": \"histogram\"}], \"histogram2d\": [{\"colorbar\": {\"outlinewidth\": 0, \"ticks\": \"\"}, \"colorscale\": [[0.0, \"#0d0887\"], [0.1111111111111111, \"#46039f\"], [0.2222222222222222, \"#7201a8\"], [0.3333333333333333, \"#9c179e\"], [0.4444444444444444, \"#bd3786\"], [0.5555555555555556, \"#d8576b\"], [0.6666666666666666, \"#ed7953\"], [0.7777777777777778, \"#fb9f3a\"], [0.8888888888888888, \"#fdca26\"], [1.0, \"#f0f921\"]], \"type\": \"histogram2d\"}], \"histogram2dcontour\": [{\"colorbar\": {\"outlinewidth\": 0, \"ticks\": \"\"}, \"colorscale\": [[0.0, \"#0d0887\"], [0.1111111111111111, \"#46039f\"], [0.2222222222222222, \"#7201a8\"], [0.3333333333333333, \"#9c179e\"], [0.4444444444444444, \"#bd3786\"], [0.5555555555555556, \"#d8576b\"], [0.6666666666666666, \"#ed7953\"], [0.7777777777777778, \"#fb9f3a\"], [0.8888888888888888, \"#fdca26\"], [1.0, \"#f0f921\"]], \"type\": \"histogram2dcontour\"}], \"mesh3d\": [{\"colorbar\": {\"outlinewidth\": 0, \"ticks\": \"\"}, \"type\": \"mesh3d\"}], \"parcoords\": [{\"line\": {\"colorbar\": {\"outlinewidth\": 0, \"ticks\": \"\"}}, \"type\": \"parcoords\"}], \"pie\": [{\"automargin\": true, \"type\": \"pie\"}], \"scatter\": [{\"marker\": {\"colorbar\": {\"outlinewidth\": 0, \"ticks\": \"\"}}, \"type\": \"scatter\"}], \"scatter3d\": [{\"line\": {\"colorbar\": {\"outlinewidth\": 0, \"ticks\": \"\"}}, \"marker\": {\"colorbar\": {\"outlinewidth\": 0, \"ticks\": \"\"}}, \"type\": \"scatter3d\"}], \"scattercarpet\": [{\"marker\": {\"colorbar\": {\"outlinewidth\": 0, \"ticks\": \"\"}}, \"type\": \"scattercarpet\"}], \"scattergeo\": [{\"marker\": {\"colorbar\": {\"outlinewidth\": 0, \"ticks\": \"\"}}, \"type\": \"scattergeo\"}], \"scattergl\": [{\"marker\": {\"colorbar\": {\"outlinewidth\": 0, \"ticks\": \"\"}}, \"type\": \"scattergl\"}], \"scattermapbox\": [{\"marker\": {\"colorbar\": {\"outlinewidth\": 0, \"ticks\": \"\"}}, \"type\": \"scattermapbox\"}], \"scatterpolar\": [{\"marker\": {\"colorbar\": {\"outlinewidth\": 0, \"ticks\": \"\"}}, \"type\": \"scatterpolar\"}], \"scatterpolargl\": [{\"marker\": {\"colorbar\": {\"outlinewidth\": 0, \"ticks\": \"\"}}, \"type\": \"scatterpolargl\"}], \"scatterternary\": [{\"marker\": {\"colorbar\": {\"outlinewidth\": 0, \"ticks\": \"\"}}, \"type\": \"scatterternary\"}], \"surface\": [{\"colorbar\": {\"outlinewidth\": 0, \"ticks\": \"\"}, \"colorscale\": [[0.0, \"#0d0887\"], [0.1111111111111111, \"#46039f\"], [0.2222222222222222, \"#7201a8\"], [0.3333333333333333, \"#9c179e\"], [0.4444444444444444, \"#bd3786\"], [0.5555555555555556, \"#d8576b\"], [0.6666666666666666, \"#ed7953\"], [0.7777777777777778, \"#fb9f3a\"], [0.8888888888888888, \"#fdca26\"], [1.0, \"#f0f921\"]], \"type\": \"surface\"}], \"table\": [{\"cells\": {\"fill\": {\"color\": \"#EBF0F8\"}, \"line\": {\"color\": \"white\"}}, \"header\": {\"fill\": {\"color\": \"#C8D4E3\"}, \"line\": {\"color\": \"white\"}}, \"type\": \"table\"}]}, \"layout\": {\"annotationdefaults\": {\"arrowcolor\": \"#2a3f5f\", \"arrowhead\": 0, \"arrowwidth\": 1}, \"coloraxis\": {\"colorbar\": {\"outlinewidth\": 0, \"ticks\": \"\"}}, \"colorscale\": {\"diverging\": [[0, \"#8e0152\"], [0.1, \"#c51b7d\"], [0.2, \"#de77ae\"], [0.3, \"#f1b6da\"], [0.4, \"#fde0ef\"], [0.5, \"#f7f7f7\"], [0.6, \"#e6f5d0\"], [0.7, \"#b8e186\"], [0.8, \"#7fbc41\"], [0.9, \"#4d9221\"], [1, \"#276419\"]], \"sequential\": [[0.0, \"#0d0887\"], [0.1111111111111111, \"#46039f\"], [0.2222222222222222, \"#7201a8\"], [0.3333333333333333, \"#9c179e\"], [0.4444444444444444, \"#bd3786\"], [0.5555555555555556, \"#d8576b\"], [0.6666666666666666, \"#ed7953\"], [0.7777777777777778, \"#fb9f3a\"], [0.8888888888888888, \"#fdca26\"], [1.0, \"#f0f921\"]], \"sequentialminus\": [[0.0, \"#0d0887\"], [0.1111111111111111, \"#46039f\"], [0.2222222222222222, \"#7201a8\"], [0.3333333333333333, \"#9c179e\"], [0.4444444444444444, \"#bd3786\"], [0.5555555555555556, \"#d8576b\"], [0.6666666666666666, \"#ed7953\"], [0.7777777777777778, \"#fb9f3a\"], [0.8888888888888888, \"#fdca26\"], [1.0, \"#f0f921\"]]}, \"colorway\": [\"#636efa\", \"#EF553B\", \"#00cc96\", \"#ab63fa\", \"#FFA15A\", \"#19d3f3\", \"#FF6692\", \"#B6E880\", \"#FF97FF\", \"#FECB52\"], \"font\": {\"color\": \"#2a3f5f\"}, \"geo\": {\"bgcolor\": \"white\", \"lakecolor\": \"white\", \"landcolor\": \"#E5ECF6\", \"showlakes\": true, \"showland\": true, \"subunitcolor\": \"white\"}, \"hoverlabel\": {\"align\": \"left\"}, \"hovermode\": \"closest\", \"mapbox\": {\"style\": \"light\"}, \"paper_bgcolor\": \"white\", \"plot_bgcolor\": \"#E5ECF6\", \"polar\": {\"angularaxis\": {\"gridcolor\": \"white\", \"linecolor\": \"white\", \"ticks\": \"\"}, \"bgcolor\": \"#E5ECF6\", \"radialaxis\": {\"gridcolor\": \"white\", \"linecolor\": \"white\", \"ticks\": \"\"}}, \"scene\": {\"xaxis\": {\"backgroundcolor\": \"#E5ECF6\", \"gridcolor\": \"white\", \"gridwidth\": 2, \"linecolor\": \"white\", \"showbackground\": true, \"ticks\": \"\", \"zerolinecolor\": \"white\"}, \"yaxis\": {\"backgroundcolor\": \"#E5ECF6\", \"gridcolor\": \"white\", \"gridwidth\": 2, \"linecolor\": \"white\", \"showbackground\": true, \"ticks\": \"\", \"zerolinecolor\": \"white\"}, \"zaxis\": {\"backgroundcolor\": \"#E5ECF6\", \"gridcolor\": \"white\", \"gridwidth\": 2, \"linecolor\": \"white\", \"showbackground\": true, \"ticks\": \"\", \"zerolinecolor\": \"white\"}}, \"shapedefaults\": {\"line\": {\"color\": \"#2a3f5f\"}}, \"ternary\": {\"aaxis\": {\"gridcolor\": \"white\", \"linecolor\": \"white\", \"ticks\": \"\"}, \"baxis\": {\"gridcolor\": \"white\", \"linecolor\": \"white\", \"ticks\": \"\"}, \"bgcolor\": \"#E5ECF6\", \"caxis\": {\"gridcolor\": \"white\", \"linecolor\": \"white\", \"ticks\": \"\"}}, \"title\": {\"x\": 0.05}, \"xaxis\": {\"automargin\": true, \"gridcolor\": \"white\", \"linecolor\": \"white\", \"ticks\": \"\", \"title\": {\"standoff\": 15}, \"zerolinecolor\": \"white\", \"zerolinewidth\": 2}, \"yaxis\": {\"automargin\": true, \"gridcolor\": \"white\", \"linecolor\": \"white\", \"ticks\": \"\", \"title\": {\"standoff\": 15}, \"zerolinecolor\": \"white\", \"zerolinewidth\": 2}}}, \"title\": {\"text\": \"Sensitivity: One-at-a-time Parametric Analysis\"}, \"xaxis\": {\"anchor\": \"y\", \"domain\": [0.0, 0.4625], \"hoverformat\": \".2f\", \"matches\": \"x5\", \"showticklabels\": false}, \"xaxis2\": {\"anchor\": \"y2\", \"domain\": [0.5375, 1.0], \"hoverformat\": \".2f\", \"matches\": \"x6\", \"showticklabels\": false}, \"xaxis3\": {\"anchor\": \"y3\", \"domain\": [0.0, 0.4625], \"hoverformat\": \".2f\", \"matches\": \"x5\", \"showticklabels\": false}, \"xaxis4\": {\"anchor\": \"y4\", \"domain\": [0.5375, 1.0], \"hoverformat\": \".2f\", \"matches\": \"x6\", \"showticklabels\": false}, \"xaxis5\": {\"anchor\": \"y5\", \"domain\": [0.0, 0.4625], \"hoverformat\": \".2f\", \"title\": {\"text\": \"u0d\"}}, \"xaxis6\": {\"anchor\": \"y6\", \"domain\": [0.5375, 1.0], \"hoverformat\": \".2f\", \"title\": {\"text\": \"altd\"}}, \"yaxis\": {\"anchor\": \"x\", \"domain\": [0.7, 1.0], \"hoverformat\": \".2f\", \"title\": {\"text\": \"fsmach\"}}, \"yaxis2\": {\"anchor\": \"x2\", \"domain\": [0.7, 1.0], \"hoverformat\": \".2f\"}, \"yaxis3\": {\"anchor\": \"x3\", \"domain\": [0.35, 0.6499999999999999], \"hoverformat\": \".2f\", \"title\": {\"text\": \"a0\"}}, \"yaxis4\": {\"anchor\": \"x4\", \"domain\": [0.35, 0.6499999999999999], \"hoverformat\": \".2f\"}, \"yaxis5\": {\"anchor\": \"x5\", \"domain\": [0.0, 0.3], \"hoverformat\": \".2f\", \"title\": {\"text\": \"cpair\"}}, \"yaxis6\": {\"anchor\": \"x6\", \"domain\": [0.0, 0.3], \"hoverformat\": \".2f\"}},\n",
       "                        {\"responsive\": true}\n",
       "                    ).then(function(){\n",
       "                            \n",
       "var gd = document.getElementById('1882c33a-cfe0-4ff4-b2fb-03a373d40ef3');\n",
       "var x = new MutationObserver(function (mutations, observer) {{\n",
       "        var display = window.getComputedStyle(gd).display;\n",
       "        if (!display || display === 'none') {{\n",
       "            console.log([gd, 'removed!']);\n",
       "            Plotly.purge(gd);\n",
       "            observer.disconnect();\n",
       "        }}\n",
       "}});\n",
       "\n",
       "// Listen for the removal of the full notebook cells\n",
       "var notebookContainer = gd.closest('#notebook-container');\n",
       "if (notebookContainer) {{\n",
       "    x.observe(notebookContainer, {childList: true});\n",
       "}}\n",
       "\n",
       "// Listen for the clearing of the current output cell\n",
       "var outputEl = gd.closest('.output');\n",
       "if (outputEl) {{\n",
       "    x.observe(outputEl, {childList: true});\n",
       "}}\n",
       "\n",
       "                        })\n",
       "                };\n",
       "                });\n",
       "            </script>\n",
       "        </div>"
      ]
     },
     "metadata": {},
     "output_type": "display_data"
    }
   ],
   "source": [
    "import dash\n",
    "import dash_core_components as dcc\n",
    "\n",
    "app = dash.Dash(\n",
    "    __name__, meta_tags=[{\"name\": \"viewport\", \"content\": \"width=device-width\"}]\n",
    ")\n",
    "\n",
    "fig = createSensitivityGraphOAT(evalPacket)\n",
    "app.layout = dcc.Graph(figure=fig)\n",
    "#app.run_server(debug=False, port=7779)"
   ]
  },
  {
   "cell_type": "code",
   "execution_count": 11,
   "metadata": {},
   "outputs": [
    {
     "data": {
      "text/plain": [
       "{'error': '',\n",
       " 'inputVariables': [{'name': 'u0d', 'type': 'float', 'value': '100.0'},\n",
       "  {'name': 'altd', 'type': 'float', 'value': '10000.0'}],\n",
       " 'outputVariables': [{'name': 'fsmach',\n",
       "   'type': 'float',\n",
       "   'value': '[0.13607623]'},\n",
       "  {'name': 'a0', 'type': 'float', 'value': '[1077.8273]'},\n",
       "  {'name': 'cpair', 'type': 'float', 'value': '[0.23808765]'}]}"
      ]
     },
     "execution_count": 11,
     "metadata": {},
     "output_type": "execute_result"
    }
   ],
   "source": [
    "evalPacket = {\n",
    "                  \"inputVariables\": [\n",
    "                    {\n",
    "                        \"name\": \"u0d\",\n",
    "                        \"type\": \"float\",\n",
    "                        \"value\": \"100.0\"\n",
    "                    },\n",
    "                    {\n",
    "                        \"name\": \"altd\",\n",
    "                        \"type\": \"float\",\n",
    "                        \"value\": \"10000.0\"\n",
    "                    }\n",
    "                  ],\n",
    "                  \"outputVariables\": [\n",
    "                    {\n",
    "                      \"name\": \"fsmach\",\n",
    "                      \"type\": \"float\"\n",
    "                    },\n",
    "                    {\n",
    "                      \"name\": \"a0\",\n",
    "                      \"type\": \"float\"\n",
    "                    },\n",
    "                    {\n",
    "                      \"name\": \"cpair\",\n",
    "                      \"type\": \"float\"\n",
    "                    } \n",
    "                  ],\n",
    "                    \"modelName\" : \"getResponse\"\n",
    "                 }\n",
    "r = requests.post(url_evaluate, json=evalPacket)\n",
    "r.json()"
   ]
  },
  {
   "cell_type": "markdown",
   "metadata": {},
   "source": [
    "# Local Sensitivity Analysis with Gradients"
   ]
  },
  {
   "cell_type": "code",
   "execution_count": 83,
   "metadata": {},
   "outputs": [
    {
     "data": {
      "text/plain": [
       "{'metagraphLocation': '../models/getResponse', 'modelType': 'Physics'}"
      ]
     },
     "execution_count": 83,
     "metadata": {},
     "output_type": "execute_result"
    }
   ],
   "source": [
    "inputPacket = {\n",
    "                  \"inputVariables\": [\n",
    "                    {\n",
    "                      \"name\": \"u0d\",\n",
    "                      \"type\": \"float\"\n",
    "                    },\n",
    "                    {\n",
    "                      \"name\": \"altd\",\n",
    "                      \"type\": \"float\"\n",
    "                    },\n",
    "                    {\n",
    "                        \"name\": \"fsmach\",\n",
    "                        \"type\": \"float\"\n",
    "                    }\n",
    "                  ],\n",
    "                  \"outputVariables\": [\n",
    "                    {\n",
    "                      \"name\": \"grad_fsmach_u0d\",\n",
    "                      \"type\": \"float\"\n",
    "                    },\n",
    "                    {\n",
    "                      \"name\": \"grad_fsmach_altd\",\n",
    "                      \"type\": \"float\"\n",
    "                    },\n",
    "                    {\n",
    "                      \"name\": \"sens_fsmach_u0d\",\n",
    "                      \"type\": \"float\"\n",
    "                    },\n",
    "                    {\n",
    "                      \"name\": \"sens_fsmach_altd\",\n",
    "                      \"type\": \"float\"\n",
    "                    }\n",
    "                  ],\n",
    "                   \"equationModel\" : \"\"\"\n",
    "    grad_fsmach_u0d = tf.gradients(fsmach, u0d, stop_gradients = [u0d])[0]\n",
    "    grad_fsmach_altd = tf.gradients(fsmach, altd, stop_gradients = [altd])[0]\n",
    "    sens_fsmach_u0d = tf.math.abs(grad_fsmach_u0d)*u0d/fsmach\n",
    "    sens_fsmach_altd = tf.math.abs(grad_fsmach_altd)*altd/fsmach\n",
    "                   \"\"\",\n",
    "                   \"modelName\" : \"grad_fsmach\",\n",
    "                   \"targetModelName\" : \"getResponse\"\n",
    "                 }\n",
    "#send request to build model\n",
    "r = requests.post(url_append, json=inputPacket)\n",
    "\n",
    "#see the response\n",
    "r.json()"
   ]
  },
  {
   "cell_type": "code",
   "execution_count": 84,
   "metadata": {},
   "outputs": [
    {
     "data": {
      "text/plain": [
       "{'error': '',\n",
       " 'inputVariables': [{'name': 'u0d', 'type': 'float', 'value': '100.0'},\n",
       "  {'name': 'altd', 'type': 'float', 'value': '10000.0'}],\n",
       " 'outputVariables': [{'name': 'fsmach',\n",
       "   'type': 'float',\n",
       "   'value': '[0.13607623]'},\n",
       "  {'name': 'grad_fsmach_u0d', 'type': 'float', 'value': '[0.00136076]'},\n",
       "  {'name': 'grad_fsmach_altd', 'type': 'float', 'value': '[5.0148174e-07]'},\n",
       "  {'name': 'sens_fsmach_u0d', 'type': 'float', 'value': '[1.]'},\n",
       "  {'name': 'sens_fsmach_altd', 'type': 'float', 'value': '[0.036853]'}]}"
      ]
     },
     "execution_count": 84,
     "metadata": {},
     "output_type": "execute_result"
    }
   ],
   "source": [
    "evalPacket = {\n",
    "                  \"inputVariables\": [\n",
    "                    {\n",
    "                        \"name\": \"u0d\",\n",
    "                        \"type\": \"float\",\n",
    "                        \"value\": \"100.0\"\n",
    "                    },\n",
    "                    {\n",
    "                        \"name\": \"altd\",\n",
    "                        \"type\": \"float\",\n",
    "                        \"value\": \"10000.0\"\n",
    "                    }\n",
    "                  ],\n",
    "                  \"outputVariables\": [\n",
    "                    {\n",
    "                      \"name\": \"fsmach\",\n",
    "                      \"type\": \"float\"\n",
    "                    },\n",
    "                    {\n",
    "                      \"name\": \"grad_fsmach_u0d\",\n",
    "                      \"type\": \"float\"\n",
    "                    },\n",
    "                    {\n",
    "                      \"name\": \"grad_fsmach_altd\",\n",
    "                      \"type\": \"float\"\n",
    "                    },\n",
    "                    {\n",
    "                      \"name\": \"sens_fsmach_u0d\",\n",
    "                      \"type\": \"float\"\n",
    "                    },\n",
    "                    {\n",
    "                      \"name\": \"sens_fsmach_altd\",\n",
    "                      \"type\": \"float\"\n",
    "                    } \n",
    "                  ],\n",
    "                    \"modelName\" : \"getResponse\"\n",
    "                 }\n",
    "r = requests.post(url_evaluate, json=evalPacket)\n",
    "r.json()"
   ]
  },
  {
   "cell_type": "code",
   "execution_count": null,
   "metadata": {},
   "outputs": [],
   "source": []
  }
 ],
 "metadata": {
  "kernelspec": {
   "display_name": "Python 3",
   "language": "python",
   "name": "python3"
  },
  "language_info": {
   "codemirror_mode": {
    "name": "ipython",
    "version": 3
   },
   "file_extension": ".py",
   "mimetype": "text/x-python",
   "name": "python",
   "nbconvert_exporter": "python",
   "pygments_lexer": "ipython3",
   "version": "3.6.7"
  }
 },
 "nbformat": 4,
 "nbformat_minor": 2
}
