{
 "cells": [
  {
   "cell_type": "markdown",
   "metadata": {},
   "source": [
    "## Notebook to explore and demonstrate capabilities for inverse queries:\n",
    "Note inverse queries are those where model output and certain inputs are known and other inputs are to be estimated"
   ]
  },
  {
   "cell_type": "code",
   "execution_count": 1,
   "metadata": {},
   "outputs": [],
   "source": [
    "from GPyOpt.methods import BayesianOptimization\n",
    "from GPyOpt import Design_space, experiment_design\n",
    "import numpy as np\n",
    "import matplotlib.pyplot as plt"
   ]
  },
  {
   "cell_type": "code",
   "execution_count": null,
   "metadata": {},
   "outputs": [],
   "source": [
    "# --- Define your problem\n",
    "def fun(x): return (6*x-2)**2*np.sin(12*x-4)\n",
    "\n",
    "def errf(x, t=0): \n",
    "    fval = fun(x)\n",
    "    return np.abs(fval-t)"
   ]
  },
  {
   "cell_type": "code",
   "execution_count": null,
   "metadata": {},
   "outputs": [],
   "source": [
    "domain = [{'name': 'var_1', 'type': 'continuous', 'domain': (0,1)}]\n",
    "constraint = [{'name': 'constr_1', 'constraint': 'speedOfSound(x) - 6.0'}]\n",
    "feasible_region = Design_space(space = domain, constraints = constraint)\n",
    "initial_design = experiment_design.initial_design('random', feasible_region, 10)"
   ]
  },
  {
   "cell_type": "code",
   "execution_count": null,
   "metadata": {},
   "outputs": [],
   "source": [
    "xval = np.linspace(0, 1,200)\n",
    "plt.plot(xval, fun(xval))\n",
    "#plt.plot(xval, errf(xval))"
   ]
  },
  {
   "cell_type": "markdown",
   "metadata": {},
   "source": [
    "type of acquisition function to use. \n",
    "- ‘EI’, expected improvement. \n",
    "- ‘EI_MCMC’, integrated expected improvement (requires GP_MCMC model). \n",
    "- ‘MPI’, maximum probability of improvement. \n",
    "- ‘MPI_MCMC’, maximum probability of improvement (requires GP_MCMC model). \n",
    "- ‘LCB’, GP-Lower confidence bound. \n",
    "- ‘LCB_MCMC’, integrated GP-Lower confidence bound (requires GP_MCMC model)."
   ]
  },
  {
   "cell_type": "code",
   "execution_count": null,
   "metadata": {},
   "outputs": [],
   "source": [
    "# --- Solve your problem\n",
    "myBopt = BayesianOptimization(f=errf, domain=domain, acquisition_type='EI', constraints=constraint)\n",
    "myBopt.run_optimization(max_iter=25)\n",
    "myBopt.plot_acquisition()\n",
    "myBopt.plot_convergence()\n",
    "myBopt.x_opt"
   ]
  },
  {
   "cell_type": "code",
   "execution_count": null,
   "metadata": {},
   "outputs": [],
   "source": [
    "myBopt.X[myBopt.Y<0.00001]"
   ]
  },
  {
   "cell_type": "markdown",
   "metadata": {},
   "source": [
    "## Explore Tf model"
   ]
  },
  {
   "cell_type": "code",
   "execution_count": null,
   "metadata": {},
   "outputs": [],
   "source": [
    "import tensorflow as tf\n",
    "from tensorflow.python import autograph as ag"
   ]
  },
  {
   "cell_type": "code",
   "execution_count": 2,
   "metadata": {},
   "outputs": [],
   "source": [
    "import sys\n",
    "sys.path.append('../kchain/')\n",
    "import kChain as kc"
   ]
  },
  {
   "cell_type": "code",
   "execution_count": 4,
   "metadata": {},
   "outputs": [],
   "source": [
    "import requests\n",
    "#URL to interact with build\n",
    "url_build = 'http://localhost:12345/darpa/aske/kchain/build'\n",
    "\n",
    "#URL to interact with evaluate service\n",
    "url_append = 'http://localhost:12345/darpa/aske/kchain/append'\n",
    "\n",
    "#URL to interact with evaluate service\n",
    "url_evaluate = 'http://localhost:12345/darpa/aske/kchain/evaluate'"
   ]
  },
  {
   "cell_type": "code",
   "execution_count": 5,
   "metadata": {},
   "outputs": [
    {
     "data": {
      "text/plain": [
       "{'metagraphLocation': '../models/speedOfSound',\n",
       " 'modelType': 'Physics',\n",
       " 'trainedState': 0}"
      ]
     },
     "execution_count": 5,
     "metadata": {},
     "output_type": "execute_result"
    }
   ],
   "source": [
    "inputPacket = {\n",
    "                  \"inputVariables\": [\n",
    "                    {\n",
    "                        \"name\": \"gamma\",\n",
    "                        \"type\": \"double\",\n",
    "                        \"value\": \"1.4\"\n",
    "                    },\n",
    "                    {\n",
    "                        \"name\": \"R\",\n",
    "                        \"type\": \"double\",\n",
    "                        \"value\": \"286.0\"\n",
    "                    },\n",
    "                    {\n",
    "                        \"name\": \"theta\",\n",
    "                        \"type\": \"double\",\n",
    "                        \"value\": \"3056.0\"\n",
    "                    },\n",
    "                    {\n",
    "                      \"name\": \"T\",\n",
    "                      \"type\": \"double\"\n",
    "                    }\n",
    "                  ],\n",
    "                  \"outputVariables\": [\n",
    "                    {\n",
    "                      \"name\": \"a\",\n",
    "                      \"type\": \"double\"\n",
    "                    }\n",
    "                  ],\n",
    "                   \"equationModel\" : \"a = tf.math.pow(R * T *  (  1 + ( gamma-1 ) / ( 1 + ( gamma-1 ) *  ( tf.math.pow( theta/T,2) *  tf.math.exp( theta/T ) /  tf.math.pow( tf.math.exp( theta/T ) - 1,2 ))  ) ), 1/2)\",\n",
    "                   \"modelName\" : \"speedOfSound\"\n",
    "                 }\n",
    "r = requests.post(url_build, json=inputPacket)\n",
    "r.json()"
   ]
  },
  {
   "cell_type": "markdown",
   "metadata": {},
   "source": [
    "build model\n",
    "\n",
    "evaluate model with arbitrarily chosen inputs\n",
    "\n",
    "integrate evaluate model call with residual error function\n",
    "\n",
    "call error function via BayesOpt"
   ]
  },
  {
   "cell_type": "markdown",
   "metadata": {},
   "source": [
    "## Single unknown input case"
   ]
  },
  {
   "cell_type": "code",
   "execution_count": null,
   "metadata": {},
   "outputs": [],
   "source": [
    "def computeSoS(T):\n",
    "    evalPacket = {\n",
    "      \"inputVariables\": [\n",
    "        {\n",
    "          \"name\": \"T\",\n",
    "          \"type\": \"double\",\n",
    "          \"value\": str(T)\n",
    "        }\n",
    "      ],\n",
    "      \"modelName\": \"SpeedOfSound\",\n",
    "      \"outputVariables\": [\n",
    "        {\n",
    "          \"name\": \"a\",\n",
    "          \"type\": \"double\"\n",
    "        }\n",
    "      ]\n",
    "    }\n",
    "    #print(evalPacket)\n",
    "    r = requests.post(url_evaluate, json=evalPacket)\n",
    "    print(r.json())\n",
    "    rval = float(r.json()['outputVariables'][0]['value'][1:-1])\n",
    "    return rval"
   ]
  },
  {
   "cell_type": "code",
   "execution_count": null,
   "metadata": {},
   "outputs": [],
   "source": [
    "def errC(x, t, model): \n",
    "    fval = model(x)\n",
    "    return np.abs(fval-t)"
   ]
  },
  {
   "cell_type": "code",
   "execution_count": null,
   "metadata": {},
   "outputs": [],
   "source": [
    "domain = [{'name': 'T', 'type': 'continuous', 'domain': (100,500)}]\n",
    "fx = lambda x : errC(x[0], t = 380.0, model = computeSoS)\n",
    "MAXITER = 35"
   ]
  },
  {
   "cell_type": "code",
   "execution_count": null,
   "metadata": {},
   "outputs": [],
   "source": [
    "myBopt = BayesianOptimization(f=fx, domain=domain, acquisition_type='EI')\n",
    "myBopt.run_optimization(max_iter=MAXITER)\n",
    "myBopt.plot_convergence()\n",
    "print(myBopt.x_opt)\n",
    "print(myBopt.fx_opt)"
   ]
  },
  {
   "cell_type": "markdown",
   "metadata": {},
   "source": [
    "## Multiple Unknown Input Case 1:"
   ]
  },
  {
   "cell_type": "code",
   "execution_count": null,
   "metadata": {},
   "outputs": [],
   "source": [
    "def computeSoS2(T, gamma):\n",
    "    evalPacket = {\n",
    "      \"inputVariables\": [\n",
    "        {\n",
    "          \"name\": \"T\",\n",
    "          \"type\": \"double\",\n",
    "          \"value\": str(T)\n",
    "        },\n",
    "        {\n",
    "            \"name\": \"gamma\",\n",
    "            \"type\": \"double\",\n",
    "            \"value\": str(gamma)\n",
    "        }\n",
    "      ],\n",
    "      \"modelName\": \"SpeedOfSound\",\n",
    "      \"outputVariables\": [\n",
    "        {\n",
    "          \"name\": \"a\",\n",
    "          \"type\": \"double\"\n",
    "        }\n",
    "      ]\n",
    "    }\n",
    "    #print(evalPacket)\n",
    "    r = requests.post(url_evaluate, json=evalPacket)\n",
    "    #print(r.json())\n",
    "    rval = float(r.json()['outputVariables'][0]['value'][1:-1])\n",
    "    return rval"
   ]
  },
  {
   "cell_type": "code",
   "execution_count": null,
   "metadata": {},
   "outputs": [],
   "source": [
    "def errC2(x1, x2, t, model): \n",
    "    fval = model(x1, x2)\n",
    "    return np.abs(fval-t)"
   ]
  },
  {
   "cell_type": "code",
   "execution_count": null,
   "metadata": {},
   "outputs": [],
   "source": [
    "domain = [{'name': 'T', 'type': 'continuous', 'domain': (100,500)},\n",
    "          {'name': 'gamma', 'type': 'continuous', 'domain': (1.3,1.5)}]\n",
    "fx = lambda x : errC2(x[0][0], x[0][1], t = 380.0, model = computeSoS2)\n",
    "MAXITER = 35"
   ]
  },
  {
   "cell_type": "code",
   "execution_count": null,
   "metadata": {},
   "outputs": [],
   "source": [
    "myBopt = BayesianOptimization(f = fx, domain=domain, acquisition_type='EI')\n",
    "myBopt.run_optimization(max_iter=MAXITER)\n",
    "myBopt.plot_convergence()\n",
    "print(myBopt.x_opt)\n",
    "print(myBopt.fx_opt)"
   ]
  },
  {
   "cell_type": "markdown",
   "metadata": {},
   "source": [
    "## Multiple Unknown Input Case 2:"
   ]
  },
  {
   "cell_type": "code",
   "execution_count": null,
   "metadata": {},
   "outputs": [],
   "source": [
    "def computeSoS2(X):\n",
    "    evalPacket = {\n",
    "      \"inputVariables\": [\n",
    "        {\n",
    "          \"name\": \"T\",\n",
    "          \"type\": \"double\",\n",
    "          \"value\": str(X[0])\n",
    "        },\n",
    "        {\n",
    "            \"name\": \"gamma\",\n",
    "            \"type\": \"double\",\n",
    "            \"value\": str(X[1])\n",
    "        }\n",
    "      ],\n",
    "      \"modelName\": \"SpeedOfSound\",\n",
    "      \"outputVariables\": [\n",
    "        {\n",
    "          \"name\": \"a\",\n",
    "          \"type\": \"double\"\n",
    "        }\n",
    "      ]\n",
    "    }\n",
    "    #print(evalPacket)\n",
    "    r = requests.post(url_evaluate, json=evalPacket)\n",
    "    #print(r.json())\n",
    "    rval = float(r.json()['outputVariables'][0]['value'][1:-1])\n",
    "    return rval"
   ]
  },
  {
   "cell_type": "code",
   "execution_count": null,
   "metadata": {},
   "outputs": [],
   "source": [
    "def errC(x, t, model): \n",
    "    fval = model(x)\n",
    "    return np.abs(fval-t)"
   ]
  },
  {
   "cell_type": "code",
   "execution_count": null,
   "metadata": {},
   "outputs": [],
   "source": [
    "#name doesnt matter in domain as long as ordering is correct\n",
    "domain = [{'name': 'T', 'type': 'continuous', 'domain': (100,500)},\n",
    "          {'name': 'gamma', 'type': 'continuous', 'domain': (1.3,1.5)}]\n",
    "fx = lambda x : errC(x[0], t = 380.0, model = computeSoS2)\n",
    "MAXITER = 35"
   ]
  },
  {
   "cell_type": "code",
   "execution_count": null,
   "metadata": {},
   "outputs": [],
   "source": [
    "myBopt = BayesianOptimization(f = fx, domain=domain, acquisition_type='EI')\n",
    "myBopt.run_optimization(max_iter=MAXITER)\n",
    "myBopt.plot_convergence()\n",
    "print(myBopt.x_opt)\n",
    "print(myBopt.fx_opt)"
   ]
  },
  {
   "cell_type": "markdown",
   "metadata": {},
   "source": [
    "## Multiple Known and Unknown Input Case 1:"
   ]
  },
  {
   "cell_type": "code",
   "execution_count": null,
   "metadata": {},
   "outputs": [],
   "source": [
    "context = {'gamma':1.4}\n",
    "\n",
    "myBopt = BayesianOptimization(f = fx, domain=domain, acquisition_type='EI')\n",
    "myBopt.run_optimization(max_iter=MAXITER, context=context)\n",
    "myBopt.plot_convergence()\n",
    "print(myBopt.x_opt)\n",
    "print(myBopt.fx_opt)"
   ]
  },
  {
   "cell_type": "markdown",
   "metadata": {},
   "source": [
    "# Using KCHAIN evaluateInverse()"
   ]
  },
  {
   "cell_type": "code",
   "execution_count": 7,
   "metadata": {
    "scrolled": true
   },
   "outputs": [
    {
     "name": "stdout",
     "output_type": "stream",
     "text": [
      "Found nodeDict and funcList\n",
      "INFO:tensorflow:Saver not created because there are no variables in the graph to restore\n",
      "AttributeError showed up\n",
      "Found file with Default values\n",
      "Found nodeDict and funcList\n",
      "INFO:tensorflow:Saver not created because there are no variables in the graph to restore\n",
      "AttributeError showed up\n",
      "Found file with Default values\n",
      "Found nodeDict and funcList\n",
      "INFO:tensorflow:Saver not created because there are no variables in the graph to restore\n",
      "AttributeError showed up\n",
      "Found file with Default values\n",
      "Found nodeDict and funcList\n",
      "INFO:tensorflow:Saver not created because there are no variables in the graph to restore\n",
      "AttributeError showed up\n",
      "Found file with Default values\n",
      "Found nodeDict and funcList\n",
      "INFO:tensorflow:Saver not created because there are no variables in the graph to restore\n",
      "AttributeError showed up\n",
      "Found file with Default values\n",
      "Found nodeDict and funcList\n",
      "INFO:tensorflow:Saver not created because there are no variables in the graph to restore\n",
      "AttributeError showed up\n",
      "Found file with Default values\n",
      "Found nodeDict and funcList\n",
      "INFO:tensorflow:Saver not created because there are no variables in the graph to restore\n",
      "AttributeError showed up\n",
      "Found file with Default values\n",
      "Found nodeDict and funcList\n",
      "INFO:tensorflow:Saver not created because there are no variables in the graph to restore\n",
      "AttributeError showed up\n",
      "Found file with Default values\n",
      "Found nodeDict and funcList\n",
      "INFO:tensorflow:Saver not created because there are no variables in the graph to restore\n",
      "AttributeError showed up\n",
      "Found file with Default values\n",
      "Found nodeDict and funcList\n",
      "INFO:tensorflow:Saver not created because there are no variables in the graph to restore\n",
      "AttributeError showed up\n",
      "Found file with Default values\n",
      "Found nodeDict and funcList\n",
      "INFO:tensorflow:Saver not created because there are no variables in the graph to restore\n",
      "AttributeError showed up\n",
      "Found file with Default values\n",
      "Found nodeDict and funcList\n",
      "INFO:tensorflow:Saver not created because there are no variables in the graph to restore\n",
      "AttributeError showed up\n",
      "Found file with Default values\n",
      "Found nodeDict and funcList\n",
      "INFO:tensorflow:Saver not created because there are no variables in the graph to restore\n",
      "AttributeError showed up\n",
      "Found file with Default values\n",
      "Found nodeDict and funcList\n",
      "INFO:tensorflow:Saver not created because there are no variables in the graph to restore\n",
      "AttributeError showed up\n",
      "Found file with Default values\n",
      "Found nodeDict and funcList\n",
      "INFO:tensorflow:Saver not created because there are no variables in the graph to restore\n",
      "AttributeError showed up\n",
      "Found file with Default values\n",
      "Found nodeDict and funcList\n",
      "INFO:tensorflow:Saver not created because there are no variables in the graph to restore\n",
      "AttributeError showed up\n",
      "Found file with Default values\n",
      "Found nodeDict and funcList\n",
      "INFO:tensorflow:Saver not created because there are no variables in the graph to restore\n",
      "AttributeError showed up\n",
      "Found file with Default values\n",
      "Found nodeDict and funcList\n",
      "INFO:tensorflow:Saver not created because there are no variables in the graph to restore\n",
      "AttributeError showed up\n",
      "Found file with Default values\n",
      "Found nodeDict and funcList\n",
      "INFO:tensorflow:Saver not created because there are no variables in the graph to restore\n",
      "AttributeError showed up\n",
      "Found file with Default values\n",
      "Found nodeDict and funcList\n",
      "INFO:tensorflow:Saver not created because there are no variables in the graph to restore\n",
      "AttributeError showed up\n",
      "Found file with Default values\n",
      "Found nodeDict and funcList\n",
      "INFO:tensorflow:Saver not created because there are no variables in the graph to restore\n",
      "AttributeError showed up\n",
      "Found file with Default values\n",
      "Found nodeDict and funcList\n",
      "INFO:tensorflow:Saver not created because there are no variables in the graph to restore\n",
      "AttributeError showed up\n",
      "Found file with Default values\n",
      "Found nodeDict and funcList\n",
      "INFO:tensorflow:Saver not created because there are no variables in the graph to restore\n",
      "AttributeError showed up\n",
      "Found file with Default values\n",
      "Found nodeDict and funcList\n",
      "INFO:tensorflow:Saver not created because there are no variables in the graph to restore\n",
      "AttributeError showed up\n",
      "Found file with Default values\n",
      "Found nodeDict and funcList\n",
      "INFO:tensorflow:Saver not created because there are no variables in the graph to restore\n",
      "AttributeError showed up\n",
      "Found file with Default values\n",
      "Found nodeDict and funcList\n",
      "INFO:tensorflow:Saver not created because there are no variables in the graph to restore\n",
      "AttributeError showed up\n",
      "Found file with Default values\n",
      "Found nodeDict and funcList\n",
      "INFO:tensorflow:Saver not created because there are no variables in the graph to restore\n",
      "AttributeError showed up\n",
      "Found file with Default values\n",
      "Found nodeDict and funcList\n",
      "INFO:tensorflow:Saver not created because there are no variables in the graph to restore\n",
      "AttributeError showed up\n",
      "Found file with Default values\n",
      "Found nodeDict and funcList\n",
      "INFO:tensorflow:Saver not created because there are no variables in the graph to restore\n",
      "AttributeError showed up\n",
      "Found file with Default values\n",
      "Found nodeDict and funcList\n",
      "INFO:tensorflow:Saver not created because there are no variables in the graph to restore\n",
      "AttributeError showed up\n",
      "Found file with Default values\n",
      "Found nodeDict and funcList\n",
      "INFO:tensorflow:Saver not created because there are no variables in the graph to restore\n",
      "AttributeError showed up\n",
      "Found file with Default values\n",
      "Found nodeDict and funcList\n",
      "INFO:tensorflow:Saver not created because there are no variables in the graph to restore\n",
      "AttributeError showed up\n",
      "Found file with Default values\n",
      "Found nodeDict and funcList\n",
      "INFO:tensorflow:Saver not created because there are no variables in the graph to restore\n",
      "AttributeError showed up\n",
      "Found file with Default values\n",
      "Found nodeDict and funcList\n",
      "INFO:tensorflow:Saver not created because there are no variables in the graph to restore\n",
      "AttributeError showed up\n",
      "Found file with Default values\n",
      "Found nodeDict and funcList\n",
      "INFO:tensorflow:Saver not created because there are no variables in the graph to restore\n",
      "AttributeError showed up\n",
      "Found file with Default values\n",
      "Found nodeDict and funcList\n",
      "INFO:tensorflow:Saver not created because there are no variables in the graph to restore\n",
      "AttributeError showed up\n",
      "Found file with Default values\n",
      "Found nodeDict and funcList\n",
      "INFO:tensorflow:Saver not created because there are no variables in the graph to restore\n",
      "AttributeError showed up\n",
      "Found file with Default values\n",
      "Found nodeDict and funcList\n",
      "INFO:tensorflow:Saver not created because there are no variables in the graph to restore\n",
      "AttributeError showed up\n",
      "Found file with Default values\n",
      "Found nodeDict and funcList\n",
      "INFO:tensorflow:Saver not created because there are no variables in the graph to restore\n",
      "AttributeError showed up\n",
      "Found file with Default values\n",
      "Found nodeDict and funcList\n",
      "INFO:tensorflow:Saver not created because there are no variables in the graph to restore\n",
      "AttributeError showed up\n",
      "Found file with Default values\n",
      "Found nodeDict and funcList\n",
      "INFO:tensorflow:Saver not created because there are no variables in the graph to restore\n",
      "AttributeError showed up\n",
      "Found file with Default values\n",
      "Found nodeDict and funcList\n",
      "INFO:tensorflow:Saver not created because there are no variables in the graph to restore\n",
      "AttributeError showed up\n",
      "Found file with Default values\n",
      "(array([304.88457966]), 0.6953399999999874, [{'name': 'T', 'type': 'double', 'minValue': 100, 'maxValue': 1000, 'value': '304.88457965516477'}], [{'name': 'a', 'type': 'double', 'value': '[349.30466]'}], [{'name': 'theta', 'value': '3056.0'}, {'name': 'R', 'value': '286.0'}, {'name': 'Cv', 'value': '1.0'}, {'name': 'Cp', 'value': '1.4'}], '')\n"
     ]
    }
   ],
   "source": [
    "inputVar = [\n",
    "    {\n",
    "        \"name\": \"T\",\n",
    "        \"type\": \"double\",\n",
    "        \"minValue\": 100,\n",
    "        \"maxValue\": 1000\n",
    "    }\n",
    "]\n",
    "outputVar = [\n",
    "    {\n",
    "        \"name\": \"a\",\n",
    "        \"type\": \"double\",\n",
    "        \"value\": \"350.0\"\n",
    "    }\n",
    "]\n",
    "mdlName = 'speedOfSound'\n",
    "\n",
    "ko = kc.kChainModel(debug=False)\n",
    "r = ko.evaluateInverse(inputVar = inputVar, outputVar = outputVar, mdlName = mdlName)\n",
    "print(r)"
   ]
  },
  {
   "cell_type": "code",
   "execution_count": null,
   "metadata": {},
   "outputs": [],
   "source": [
    "ko._getDefaultValues()"
   ]
  },
  {
   "cell_type": "code",
   "execution_count": null,
   "metadata": {},
   "outputs": [],
   "source": [
    "constraints = []\n",
    "domain = [{'name': 'T', 'type': 'continuous', 'domain': (100,500)},\n",
    "          {'name': 'gamma', 'type': 'continuous', 'domain': (1.3,1.5)}]\n",
    "feasible_region = Design_space(space = domain, constraints = constraints)\n",
    "initial_design = experiment_design.initial_design('random', feasible_region, 1)\n",
    "initial_design[0]"
   ]
  },
  {
   "cell_type": "code",
   "execution_count": null,
   "metadata": {},
   "outputs": [],
   "source": []
  },
  {
   "cell_type": "code",
   "execution_count": null,
   "metadata": {},
   "outputs": [],
   "source": []
  }
 ],
 "metadata": {
  "kernelspec": {
   "display_name": "Python 3",
   "language": "python",
   "name": "python3"
  },
  "language_info": {
   "codemirror_mode": {
    "name": "ipython",
    "version": 3
   },
   "file_extension": ".py",
   "mimetype": "text/x-python",
   "name": "python",
   "nbconvert_exporter": "python",
   "pygments_lexer": "ipython3",
   "version": "3.6.7"
  }
 },
 "nbformat": 4,
 "nbformat_minor": 4
}
