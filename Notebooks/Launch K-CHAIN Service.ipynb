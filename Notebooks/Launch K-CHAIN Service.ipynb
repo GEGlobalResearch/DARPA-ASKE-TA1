{
 "cells": [
  {
   "cell_type": "markdown",
   "metadata": {},
   "source": [
    "********************************************************************** \n",
    "  Note: This license has also been called the \"New BSD License\" or \n",
    "  \"Modified BSD License\". See also the 2-clause BSD License.\n",
    " \n",
    "  Copyright © 2018-2019 - General Electric Company, All Rights Reserved\n",
    "  \n",
    "  Project: ANSWER, developed with the support of the Defense Advanced \n",
    "  Research Projects Agency (DARPA) under Agreement  No.  HR00111990006. \n",
    " \n",
    "  Redistribution and use in source and binary forms, with or without \n",
    "  modification, are permitted provided that the following conditions are met:\n",
    "  1. Redistributions of source code must retain the above copyright notice, \n",
    "     this list of conditions and the following disclaimer.\n",
    " \n",
    "  2. Redistributions in binary form must reproduce the above copyright notice, \n",
    "     this list of conditions and the following disclaimer in the documentation \n",
    "     and/or other materials provided with the distribution.\n",
    " \n",
    "  3. Neither the name of the copyright holder nor the names of its \n",
    "     contributors may be used to endorse or promote products derived \n",
    "     from this software without specific prior written permission.\n",
    " \n",
    "  THIS SOFTWARE IS PROVIDED BY THE COPYRIGHT HOLDERS AND CONTRIBUTORS \"AS IS\" \n",
    "  AND ANY EXPRESS OR IMPLIED WARRANTIES, INCLUDING, BUT NOT LIMITED TO, THE \n",
    "  IMPLIED WARRANTIES OF MERCHANTABILITY AND FITNESS FOR A PARTICULAR PURPOSE \n",
    "  ARE DISCLAIMED. IN NO EVENT SHALL THE COPYRIGHT HOLDER OR CONTRIBUTORS BE \n",
    "  LIABLE FOR ANY DIRECT, INDIRECT, INCIDENTAL, SPECIAL, EXEMPLARY, OR \n",
    "  CONSEQUENTIAL DAMAGES (INCLUDING, BUT NOT LIMITED TO, PROCUREMENT OF \n",
    "  SUBSTITUTE GOODS OR SERVICES; LOSS OF USE, DATA, OR PROFITS; OR BUSINESS \n",
    "  INTERRUPTION) HOWEVER CAUSED AND ON ANY THEORY OF LIABILITY, WHETHER IN \n",
    "  CONTRACT, STRICT LIABILITY, OR TORT (INCLUDING NEGLIGENCE OR OTHERWISE) \n",
    "  ARISING IN ANY WAY OUT OF THE USE OF THIS SOFTWARE, EVEN IF ADVISED OF \n",
    "  THE POSSIBILITY OF SUCH DAMAGE.\n",
    "\n",
    " ***********************************************************************"
   ]
  },
  {
   "cell_type": "markdown",
   "metadata": {},
   "source": [
    "This code will just launch the K-CHAIN service. Please use \"Demo for KCHAIN Services\" Notebook for interactive demonstrations of using this service."
   ]
  },
  {
   "cell_type": "code",
   "execution_count": null,
   "metadata": {},
   "outputs": [
    {
     "name": "stdout",
     "output_type": "stream",
     "text": [
      " * Serving Flask app \"app\" (lazy loading)\n",
      " * Environment: production\n",
      "   WARNING: This is a development server. Do not use it in a production deployment.\n",
      "   Use a production WSGI server instead.\n",
      " * Debug mode: off\n"
     ]
    },
    {
     "name": "stderr",
     "output_type": "stream",
     "text": [
      " * Running on http://0.0.0.0:12345/ (Press CTRL+C to quit)\n"
     ]
    },
    {
     "name": "stdout",
     "output_type": "stream",
     "text": [
      "{'inputVariables': [{'name': 'Mass', 'type': 'double'}, {'name': 'Acceleration', 'type': 'double'}], 'outputVariables': [{'name': 'Force', 'type': 'double'}], 'equationModel': 'Force = Mass * Acceleration', 'modelName': 'Newtons2LawModel'}\n",
      "import tensorflow as tf\n",
      "def Newtons2LawModel(inArg):\n",
      "    Mass = inArg[0]\n",
      "    Acceleration = inArg[1]\n",
      "    Force = Mass * Acceleration\n",
      "    return Force\n",
      "\n",
      "\n",
      "{'modelType': 'Physics', 'trainedState': 0, 'metagraphLocation': '../models/Newtons2LawModel'}"
     ]
    },
    {
     "name": "stderr",
     "output_type": "stream",
     "text": [
      "127.0.0.1 - - [28/Oct/2019 15:52:58] \"\u001b[37mPOST /darpa/aske/kchain/build HTTP/1.1\u001b[0m\" 200 -\n"
     ]
    },
    {
     "name": "stdout",
     "output_type": "stream",
     "text": [
      "\n",
      "{'inputVariables': [{'name': 'gamma', 'type': 'double', 'value': '1.4'}, {'name': 'R', 'type': 'double', 'value': '286.0'}, {'name': 'theta', 'type': 'double', 'value': '3056.0'}, {'name': 'T', 'type': 'double'}], 'outputVariables': [{'name': 'a', 'type': 'double'}], 'equationModel': 'a = tf.math.pow( R * T *  (  1 + ( gamma-1 ) / ( 1 + ( gamma-1 ) *  (  ( theta/T ) ** 2 *  tf.math.exp( theta/T ) / (  tf.math.exp( theta/T ) - 1 ) ** 2 )  ) ) , 1/2)', 'modelName': 'SpeedOfSound'}\n",
      "import tensorflow as tf\n",
      "def SpeedOfSound(inArg):\n",
      "    gamma = inArg[0]\n",
      "    R = inArg[1]\n",
      "    theta = inArg[2]\n",
      "    T = inArg[3]\n",
      "    a = tf.math.pow( R * T *  (  1 + ( gamma-1 ) / ( 1 + ( gamma-1 ) *  (  ( theta/T ) ** 2 *  tf.math.exp( theta/T ) / (  tf.math.exp( theta/T ) - 1 ) ** 2 )  ) ) , 1/2)\n",
      "    return a\n",
      "\n",
      "\n"
     ]
    },
    {
     "name": "stderr",
     "output_type": "stream",
     "text": [
      "127.0.0.1 - - [28/Oct/2019 15:52:58] \"\u001b[37mPOST /darpa/aske/kchain/build HTTP/1.1\u001b[0m\" 200 -\n"
     ]
    },
    {
     "name": "stdout",
     "output_type": "stream",
     "text": [
      "{'modelType': 'Physics', 'trainedState': 0, 'metagraphLocation': '../models/SpeedOfSound'}\n",
      "{'dataLocation': '../Datasets/Force_dataset.csv', 'inputVariables': [{'name': 'Mass', 'type': 'double'}, {'name': 'Acceleration', 'type': 'double'}], 'modelName': 'ForceModel', 'outputVariables': [{'name': 'Force', 'type': 'double'}]}\n",
      "WARNING:tensorflow:From C:\\Users\\212613144\\AppData\\Local\\Continuum\\anaconda3\\envs\\py36\\lib\\site-packages\\tensorflow\\python\\framework\\op_def_library.py:263: colocate_with (from tensorflow.python.framework.ops) is deprecated and will be removed in a future version.\n",
      "Instructions for updating:\n",
      "Colocations handled automatically by placer.\n",
      "WARNING:tensorflow:From C:\\Users\\212613144\\AppData\\Local\\Continuum\\anaconda3\\envs\\py36\\lib\\site-packages\\tensorflow\\python\\ops\\losses\\losses_impl.py:667: to_float (from tensorflow.python.ops.math_ops) is deprecated and will be removed in a future version.\n",
      "Instructions for updating:\n",
      "Use tf.cast instead.\n"
     ]
    },
    {
     "name": "stderr",
     "output_type": "stream",
     "text": [
      "127.0.0.1 - - [28/Oct/2019 15:53:06] \"\u001b[37mPOST /darpa/aske/kchain/build HTTP/1.1\u001b[0m\" 200 -\n"
     ]
    },
    {
     "name": "stdout",
     "output_type": "stream",
     "text": [
      "{'modelType': 'NN', 'trainedState': 1, 'metagraphLocation': '../models/ForceModel'}\n",
      "{'inputVariables': [{'name': 'T', 'type': 'double', 'value': '300.0'}, {'name': 'R', 'type': 'double', 'value': '286.0'}, {'name': 'gamma', 'type': 'double', 'value': '1.4'}, {'name': 'theta', 'type': 'double', 'value': '3056.0'}], 'modelName': 'SpeedOfSound', 'outputVariables': [{'name': 'a', 'type': 'double'}]}\n",
      "INFO:tensorflow:Saver not created because there are no variables in the graph to restore\n"
     ]
    },
    {
     "name": "stderr",
     "output_type": "stream",
     "text": [
      "127.0.0.1 - - [28/Oct/2019 15:53:07] \"\u001b[37mPOST /darpa/aske/kchain/evaluate HTTP/1.1\u001b[0m\" 200 -\n"
     ]
    },
    {
     "name": "stdout",
     "output_type": "stream",
     "text": [
      "AttributeError showed up\n",
      "{'outputVariables': [{'name': 'a', 'type': 'double', 'value': '[346.50601552]'}]}\n",
      "{'inputVariables': [{'name': 'T', 'type': 'double', 'value': '[300.00, 273.00]'}], 'modelName': 'SpeedOfSound', 'outputVariables': [{'name': 'a', 'type': 'double'}]}\n",
      "INFO:tensorflow:Saver not created because there are no variables in the graph to restore\n",
      "AttributeError showed up\n"
     ]
    },
    {
     "name": "stderr",
     "output_type": "stream",
     "text": [
      "127.0.0.1 - - [28/Oct/2019 15:53:07] \"\u001b[37mPOST /darpa/aske/kchain/evaluate HTTP/1.1\u001b[0m\" 200 -\n",
      "http://localhost:12345/darpa/aske/kchain/evaluate validation error: 'value' is a required property\n",
      "127.0.0.1 - - [28/Oct/2019 15:53:07] \"\u001b[1m\u001b[31mPOST /darpa/aske/kchain/evaluate HTTP/1.1\u001b[0m\" 400 -\n"
     ]
    },
    {
     "name": "stdout",
     "output_type": "stream",
     "text": [
      "Default Values Used:  [{'name': 'theta', 'value': '3056.0'}, {'name': 'gamma', 'value': '1.4'}, {'name': 'R', 'value': '286.0'}]\n",
      "{'outputVariables': [{'name': 'a', 'type': 'double', 'value': '[346.50601552,330.58687602]'}], 'defaultsUsed': [{'name': 'theta', 'value': '3056.0'}, {'name': 'gamma', 'value': '1.4'}, {'name': 'R', 'value': '286.0'}]}\n",
      "{'inputVariables': [], 'modelName': 'SpeedOfSound', 'outputVariables': [{'name': 'a', 'type': 'double'}]}\n",
      "INFO:tensorflow:Saver not created because there are no variables in the graph to restore\n",
      "AttributeError showed up\n",
      "Please provide value for : T"
     ]
    },
    {
     "name": "stderr",
     "output_type": "stream",
     "text": [
      "127.0.0.1 - - [28/Oct/2019 15:53:07] \"\u001b[37mPOST /darpa/aske/kchain/evaluate HTTP/1.1\u001b[0m\" 200 -\n"
     ]
    },
    {
     "name": "stdout",
     "output_type": "stream",
     "text": [
      "\n",
      "Default Values Used:  [{'name': 'R', 'value': '286.0'}]\n",
      "Need Value For:  T\n",
      "{'outputVariables': [{'name': 'a', 'type': 'double', 'value': None}], 'defaultsUsed': [{'name': 'R', 'value': '286.0'}], 'missingVar': 'T'}\n",
      "{'inputVariables': [{'name': 'Mass', 'type': 'double', 'value': '[2.0]'}, {'name': 'Acceleration', 'type': 'double', 'value': '[0.1]'}], 'modelName': 'ForceModel', 'outputVariables': [{'name': 'Force', 'type': 'double'}]}\n",
      "WARNING:tensorflow:From C:\\Users\\212613144\\AppData\\Local\\Continuum\\anaconda3\\envs\\py36\\lib\\site-packages\\tensorflow\\python\\training\\saver.py:1266: checkpoint_exists (from tensorflow.python.training.checkpoint_management) is deprecated and will be removed in a future version.\n",
      "Instructions for updating:\n",
      "Use standard file APIs to check for files with this prefix.\n",
      "INFO:tensorflow:Restoring parameters from ../models/ForceModel\n"
     ]
    },
    {
     "name": "stderr",
     "output_type": "stream",
     "text": [
      "127.0.0.1 - - [28/Oct/2019 15:53:08] \"\u001b[37mPOST /darpa/aske/kchain/evaluate HTTP/1.1\u001b[0m\" 200 -\n"
     ]
    },
    {
     "name": "stdout",
     "output_type": "stream",
     "text": [
      "{'outputVariables': [{'name': 'Force', 'type': 'double', 'value': '[0.00099492]'}]}\n"
     ]
    }
   ],
   "source": [
    "#for launching the service from another python code\n",
    "import os\n",
    "os.chdir('../kchain')\n",
    "%run app.py"
   ]
  },
  {
   "cell_type": "markdown",
   "metadata": {},
   "source": [
    "The service API and interactive UI is available at: http://localhost:12345/darpa/aske/ui/#/\n",
    "\n"
   ]
  },
  {
   "cell_type": "markdown",
   "metadata": {},
   "source": [
    "When you try to open http://localhost:12345/darpa/aske/ui/#/, you might see \"Page is not working\" error shown below. In that case, please be patient as launching the service can take from a few seconds to a minute. \n",
    "<img src = \"figures for notebook/error_not_working.PNG\" style=\"width: 30%\">"
   ]
  },
  {
   "cell_type": "markdown",
   "metadata": {},
   "source": [
    "Once the service is successfully launched, you will see the swagger page and UI as follows:\n",
    "\n",
    "<img src = \"figures for notebook/swagger page snip.PNG\" style=\"width: 85%\">"
   ]
  },
  {
   "cell_type": "markdown",
   "metadata": {},
   "source": [
    "Once you open http://localhost:12345/darpa/aske/ui/#/ and come back to this Notebook you should see output equivalent to this:\n",
    "\n",
    "<img src = \"figures for notebook/K-CHAIN notebook snip.PNG\" style=\"width: 85%\">"
   ]
  },
  {
   "cell_type": "code",
   "execution_count": null,
   "metadata": {},
   "outputs": [],
   "source": []
  }
 ],
 "metadata": {
  "kernelspec": {
   "display_name": "Python 3",
   "language": "python",
   "name": "python3"
  },
  "language_info": {
   "codemirror_mode": {
    "name": "ipython",
    "version": 3
   },
   "file_extension": ".py",
   "mimetype": "text/x-python",
   "name": "python",
   "nbconvert_exporter": "python",
   "pygments_lexer": "ipython3",
   "version": "3.6.7"
  }
 },
 "nbformat": 4,
 "nbformat_minor": 2
}
