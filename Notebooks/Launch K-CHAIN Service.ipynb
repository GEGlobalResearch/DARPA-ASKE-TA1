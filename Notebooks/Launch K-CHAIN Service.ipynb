{
 "cells": [
  {
   "cell_type": "markdown",
   "metadata": {},
   "source": [
    "********************************************************************** \n",
    "  Note: This license has also been called the \"New BSD License\" or \n",
    "  \"Modified BSD License\". See also the 2-clause BSD License.\n",
    " \n",
    "  Copyright © 2018-2019 - General Electric Company, All Rights Reserved\n",
    "  \n",
    "  Project: ANSWER, developed with the support of the Defense Advanced \n",
    "  Research Projects Agency (DARPA) under Agreement  No.  HR00111990006. \n",
    " \n",
    "  Redistribution and use in source and binary forms, with or without \n",
    "  modification, are permitted provided that the following conditions are met:\n",
    "  1. Redistributions of source code must retain the above copyright notice, \n",
    "     this list of conditions and the following disclaimer.\n",
    " \n",
    "  2. Redistributions in binary form must reproduce the above copyright notice, \n",
    "     this list of conditions and the following disclaimer in the documentation \n",
    "     and/or other materials provided with the distribution.\n",
    " \n",
    "  3. Neither the name of the copyright holder nor the names of its \n",
    "     contributors may be used to endorse or promote products derived \n",
    "     from this software without specific prior written permission.\n",
    " \n",
    "  THIS SOFTWARE IS PROVIDED BY THE COPYRIGHT HOLDERS AND CONTRIBUTORS \"AS IS\" \n",
    "  AND ANY EXPRESS OR IMPLIED WARRANTIES, INCLUDING, BUT NOT LIMITED TO, THE \n",
    "  IMPLIED WARRANTIES OF MERCHANTABILITY AND FITNESS FOR A PARTICULAR PURPOSE \n",
    "  ARE DISCLAIMED. IN NO EVENT SHALL THE COPYRIGHT HOLDER OR CONTRIBUTORS BE \n",
    "  LIABLE FOR ANY DIRECT, INDIRECT, INCIDENTAL, SPECIAL, EXEMPLARY, OR \n",
    "  CONSEQUENTIAL DAMAGES (INCLUDING, BUT NOT LIMITED TO, PROCUREMENT OF \n",
    "  SUBSTITUTE GOODS OR SERVICES; LOSS OF USE, DATA, OR PROFITS; OR BUSINESS \n",
    "  INTERRUPTION) HOWEVER CAUSED AND ON ANY THEORY OF LIABILITY, WHETHER IN \n",
    "  CONTRACT, STRICT LIABILITY, OR TORT (INCLUDING NEGLIGENCE OR OTHERWISE) \n",
    "  ARISING IN ANY WAY OUT OF THE USE OF THIS SOFTWARE, EVEN IF ADVISED OF \n",
    "  THE POSSIBILITY OF SUCH DAMAGE.\n",
    "\n",
    " ***********************************************************************"
   ]
  },
  {
   "cell_type": "markdown",
   "metadata": {},
   "source": [
    "This code will just launch the K-CHAIN service. Please use \"Demo for KCHAIN Services\" Notebook for interactive demonstrations of using this service."
   ]
  },
  {
   "cell_type": "code",
   "execution_count": null,
   "metadata": {},
   "outputs": [],
   "source": [
    "#for launching the service from another python code\n",
    "import os\n",
    "os.chdir('../kchain')\n",
    "%run kchain_app.py"
   ]
  },
  {
   "cell_type": "markdown",
   "metadata": {},
   "source": [
    "The service API and interactive UI is available at: http://localhost:12345/darpa/aske/ui/#/\n",
    "\n"
   ]
  },
  {
   "cell_type": "markdown",
   "metadata": {},
   "source": [
    "When you try to open http://localhost:12345/darpa/aske/ui/#/, you might see \"Page is not working\" error shown below. In that case, please be patient as launching the service can take from a few seconds to a minute. \n",
    "<img src = \"figures for notebook/error_not_working.PNG\" style=\"width: 30%\">"
   ]
  },
  {
   "cell_type": "markdown",
   "metadata": {},
   "source": [
    "Once the service is successfully launched, you will see the swagger page and UI as follows:\n",
    "\n",
    "<p><img src = \"figures for notebook/swagger page snip.PNG\" style=\"width: 85%\">"
   ]
  },
  {
   "cell_type": "code",
   "execution_count": null,
   "metadata": {},
   "outputs": [],
   "source": []
  }
 ],
 "metadata": {
  "kernelspec": {
   "display_name": "Python 3",
   "language": "python",
   "name": "python3"
  },
  "language_info": {
   "codemirror_mode": {
    "name": "ipython",
    "version": 3
   },
   "file_extension": ".py",
   "mimetype": "text/x-python",
   "name": "python",
   "nbconvert_exporter": "python",
   "pygments_lexer": "ipython3",
   "version": "3.6.7"
  }
 },
 "nbformat": 4,
 "nbformat_minor": 4
}
