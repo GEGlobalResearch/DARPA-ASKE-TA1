{
 "cells": [
  {
   "cell_type": "markdown",
   "metadata": {},
   "source": [
    "This code will just launch the K-CHAIN service. Please use \"Demo for KCHAIN Services\" Notebook for interactive demonstrations of using this service."
   ]
  },
  {
   "cell_type": "code",
   "execution_count": null,
   "metadata": {},
   "outputs": [],
   "source": [
    "#for launching the service from another python code\n",
    "import os\n",
    "os.chdir('../kchain')\n",
    "%run app.py"
   ]
  },
  {
   "cell_type": "markdown",
   "metadata": {},
   "source": [
    "The service API and interactive UI is available at: http://localhost:12345/darpa/aske/ui/#/\n",
    "\n"
   ]
  },
  {
   "cell_type": "markdown",
   "metadata": {},
   "source": [
    "When you try to open http://localhost:12345/darpa/aske/ui/#/, you might see \"Page is not working\" error shown below. In that case, please be patient as launching the service can take from a few seconds to a minute. \n",
    "<img src = \"figures for notebook/error_not_working.PNG\" style=\"width: 30%\">"
   ]
  },
  {
   "cell_type": "markdown",
   "metadata": {},
   "source": [
    "Once the service is successfully launched, you will see the swagger page and UI as follows:\n",
    "\n",
    "<img src = \"figures for notebook/swagger page snip.PNG\" style=\"width: 85%\">"
   ]
  },
  {
   "cell_type": "markdown",
   "metadata": {},
   "source": [
    "Once you open http://localhost:12345/darpa/aske/ui/#/ and come back to this Notebook you should see output equivalent to this:\n",
    "\n",
    "<img src = \"figures for notebook/K-CHAIN notebook snip.PNG\" style=\"width: 85%\">"
   ]
  },
  {
   "cell_type": "code",
   "execution_count": null,
   "metadata": {},
   "outputs": [],
   "source": []
  }
 ],
 "metadata": {
  "kernelspec": {
   "display_name": "Python 3",
   "language": "python",
   "name": "python3"
  },
  "language_info": {
   "codemirror_mode": {
    "name": "ipython",
    "version": 3
   },
   "file_extension": ".py",
   "mimetype": "text/x-python",
   "name": "python",
   "nbconvert_exporter": "python",
   "pygments_lexer": "ipython3",
   "version": "3.6.4"
  }
 },
 "nbformat": 4,
 "nbformat_minor": 2
}
