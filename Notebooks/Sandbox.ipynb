{
 "cells": [
  {
   "cell_type": "code",
   "execution_count": 2,
   "metadata": {},
   "outputs": [],
   "source": [
    "#imports needed for demonstration\n",
    "\n",
    "#for communicating with services\n",
    "import requests"
   ]
  },
  {
   "cell_type": "markdown",
   "metadata": {},
   "source": [
    "This code demonstrates the use of K-CHAIN service. Please use \"Launch K-CHAIN Service\" Notebook for launching this service before proceeding to the following demonstrations. The code below assumes that service has been launched. \n",
    "\n",
    "The \"Launch K-CHAIN Service\" Notebook is available [here](Launch%20K-CHAIN%20Service.ipynb)."
   ]
  },
  {
   "cell_type": "code",
   "execution_count": 3,
   "metadata": {},
   "outputs": [],
   "source": [
    "#URL to interact with build\n",
    "url_build = 'http://localhost:12345/darpa/aske/kchain/build'\n",
    "\n",
    "#URL to interact with evaluate service\n",
    "url_append = 'http://localhost:12345/darpa/aske/kchain/append'\n",
    "\n",
    "#URL to interact with evaluate service\n",
    "url_evaluate = 'http://localhost:12345/darpa/aske/kchain/evaluate'"
   ]
  },
  {
   "cell_type": "code",
   "execution_count": 6,
   "metadata": {},
   "outputs": [
    {
     "name": "stdout",
     "output_type": "stream",
     "text": [
      "def tf__foo(x, opt):\n",
      "  do_return = False\n",
      "  retval_ = ag__.UndefinedReturnValue()\n",
      "  with ag__.FunctionScope('foo', 'foo_scope', ag__.ConversionOptions(recursive=True, user_requested=True, optional_features=(), internal_convert_user_code=True)) as foo_scope:\n",
      "\n",
      "    def get_state():\n",
      "      return ()\n",
      "\n",
      "    def set_state(_):\n",
      "      pass\n",
      "\n",
      "    def if_true():\n",
      "      y = x * x\n",
      "      return y\n",
      "\n",
      "    def if_false():\n",
      "      y = -x\n",
      "      return y\n",
      "    cond = opt == 0\n",
      "    y = ag__.if_stmt(cond, if_true, if_false, get_state, set_state, ('y',), ())\n",
      "    do_return = True\n",
      "    retval_ = foo_scope.mark_return_value(y)\n",
      "  do_return,\n",
      "  return ag__.retval(retval_)\n",
      "\n",
      "output for opt = 0 is 16.0\n",
      "output for opt = 1 is -4.0\n"
     ]
    }
   ],
   "source": [
    "import tensorflow as tf\n",
    "from tensorflow import autograph as ag\n",
    "\n",
    "#minimal code for method to demonstrate issue\n",
    "def foo(x, opt):\n",
    "    if opt == 0:\n",
    "        y = x * x\n",
    "    else:\n",
    "        y = -x\n",
    "    return y\n",
    "\n",
    "#graph construction\n",
    "mdl = tf.Graph()\n",
    "with mdl.as_default():\n",
    "    #tf.compat.v1.enable_tensor_equality()\n",
    "    converted_foo = ag.to_graph(foo, experimental_optional_features=ag.experimental.Feature.EQUALITY_OPERATORS)\n",
    "    print(ag.to_code(foo))\n",
    "    x = tf.placeholder(tf.float64, name='x')\n",
    "    opt = tf.placeholder(tf.float64, name='opt')\n",
    "    y = converted_foo(x, opt)\n",
    "\n",
    "#graph execution\n",
    "with tf.Session(graph=mdl) as sess:\n",
    "    aval = sess.run(y, feed_dict={x:4, opt:0})\n",
    "    print('output for opt = 0 is ' + str(aval))\n",
    "    aval = sess.run(y, feed_dict={x:4, opt:1})\n",
    "    print('output for opt = 1 is ' + str(aval))\n",
    "    mdlName = \"foo\"\n",
    "    writer = tf.summary.FileWriter(\"../kchain/log/example/model/\"+mdlName, sess.graph, filename_suffix=mdlName)\n",
    "        \n",
    "    # Close the writer\n",
    "    writer.close()"
   ]
  },
  {
   "cell_type": "markdown",
   "metadata": {},
   "source": [
    "## Batch evaluation and individual inference:"
   ]
  },
  {
   "cell_type": "code",
   "execution_count": 8,
   "metadata": {},
   "outputs": [
    {
     "name": "stdout",
     "output_type": "stream",
     "text": [
      "def tf__foo(x, opt):\n",
      "  do_return = False\n",
      "  retval_ = ag__.UndefinedReturnValue()\n",
      "  with ag__.FunctionScope('foo', 'foo_scope', ag__.ConversionOptions(recursive=True, user_requested=True, optional_features=(), internal_convert_user_code=True)) as foo_scope:\n",
      "\n",
      "    def get_state():\n",
      "      return ()\n",
      "\n",
      "    def set_state(_):\n",
      "      pass\n",
      "\n",
      "    def if_true():\n",
      "      y = x * x\n",
      "      return y\n",
      "\n",
      "    def if_false():\n",
      "      y = -x\n",
      "      return y\n",
      "    cond = opt > 0\n",
      "    y = ag__.if_stmt(cond, if_true, if_false, get_state, set_state, ('y',), ())\n",
      "    do_return = True\n",
      "    retval_ = foo_scope.mark_return_value(y)\n",
      "  do_return,\n",
      "  return ag__.retval(retval_)\n",
      "\n",
      "output for opt = 1 is [ 16. 100.]\n",
      "output for opt = 0 is [-4. 10.]\n"
     ]
    },
    {
     "ename": "InvalidArgumentError",
     "evalue": "The second input must be a scalar, but it has shape [2]\n\t [[node cond/mul/Switch (defined at C:\\Users\\212613144\\AppData\\Local\\Continuum\\anaconda3\\envs\\kchain\\lib\\site-packages\\tensorflow_core\\python\\framework\\ops.py:1748) ]]\n\nOriginal stack trace for 'cond/mul/Switch':\n  File \"C:\\Users\\212613144\\AppData\\Local\\Continuum\\anaconda3\\envs\\kchain\\lib\\runpy.py\", line 193, in _run_module_as_main\n    \"__main__\", mod_spec)\n  File \"C:\\Users\\212613144\\AppData\\Local\\Continuum\\anaconda3\\envs\\kchain\\lib\\runpy.py\", line 85, in _run_code\n    exec(code, run_globals)\n  File \"C:\\Users\\212613144\\AppData\\Local\\Continuum\\anaconda3\\envs\\kchain\\lib\\site-packages\\ipykernel_launcher.py\", line 16, in <module>\n    app.launch_new_instance()\n  File \"C:\\Users\\212613144\\AppData\\Local\\Continuum\\anaconda3\\envs\\kchain\\lib\\site-packages\\traitlets\\config\\application.py\", line 664, in launch_instance\n    app.start()\n  File \"C:\\Users\\212613144\\AppData\\Local\\Continuum\\anaconda3\\envs\\kchain\\lib\\site-packages\\ipykernel\\kernelapp.py\", line 563, in start\n    self.io_loop.start()\n  File \"C:\\Users\\212613144\\AppData\\Local\\Continuum\\anaconda3\\envs\\kchain\\lib\\site-packages\\tornado\\platform\\asyncio.py\", line 148, in start\n    self.asyncio_loop.run_forever()\n  File \"C:\\Users\\212613144\\AppData\\Local\\Continuum\\anaconda3\\envs\\kchain\\lib\\asyncio\\base_events.py\", line 427, in run_forever\n    self._run_once()\n  File \"C:\\Users\\212613144\\AppData\\Local\\Continuum\\anaconda3\\envs\\kchain\\lib\\asyncio\\base_events.py\", line 1440, in _run_once\n    handle._run()\n  File \"C:\\Users\\212613144\\AppData\\Local\\Continuum\\anaconda3\\envs\\kchain\\lib\\asyncio\\events.py\", line 145, in _run\n    self._callback(*self._args)\n  File \"C:\\Users\\212613144\\AppData\\Local\\Continuum\\anaconda3\\envs\\kchain\\lib\\site-packages\\tornado\\ioloop.py\", line 690, in <lambda>\n    lambda f: self._run_callback(functools.partial(callback, future))\n  File \"C:\\Users\\212613144\\AppData\\Local\\Continuum\\anaconda3\\envs\\kchain\\lib\\site-packages\\tornado\\ioloop.py\", line 743, in _run_callback\n    ret = callback()\n  File \"C:\\Users\\212613144\\AppData\\Local\\Continuum\\anaconda3\\envs\\kchain\\lib\\site-packages\\tornado\\gen.py\", line 787, in inner\n    self.run()\n  File \"C:\\Users\\212613144\\AppData\\Local\\Continuum\\anaconda3\\envs\\kchain\\lib\\site-packages\\tornado\\gen.py\", line 748, in run\n    yielded = self.gen.send(value)\n  File \"C:\\Users\\212613144\\AppData\\Local\\Continuum\\anaconda3\\envs\\kchain\\lib\\site-packages\\ipykernel\\kernelbase.py\", line 361, in process_one\n    yield gen.maybe_future(dispatch(*args))\n  File \"C:\\Users\\212613144\\AppData\\Local\\Continuum\\anaconda3\\envs\\kchain\\lib\\site-packages\\tornado\\gen.py\", line 209, in wrapper\n    yielded = next(result)\n  File \"C:\\Users\\212613144\\AppData\\Local\\Continuum\\anaconda3\\envs\\kchain\\lib\\site-packages\\ipykernel\\kernelbase.py\", line 268, in dispatch_shell\n    yield gen.maybe_future(handler(stream, idents, msg))\n  File \"C:\\Users\\212613144\\AppData\\Local\\Continuum\\anaconda3\\envs\\kchain\\lib\\site-packages\\tornado\\gen.py\", line 209, in wrapper\n    yielded = next(result)\n  File \"C:\\Users\\212613144\\AppData\\Local\\Continuum\\anaconda3\\envs\\kchain\\lib\\site-packages\\ipykernel\\kernelbase.py\", line 541, in execute_request\n    user_expressions, allow_stdin,\n  File \"C:\\Users\\212613144\\AppData\\Local\\Continuum\\anaconda3\\envs\\kchain\\lib\\site-packages\\tornado\\gen.py\", line 209, in wrapper\n    yielded = next(result)\n  File \"C:\\Users\\212613144\\AppData\\Local\\Continuum\\anaconda3\\envs\\kchain\\lib\\site-packages\\ipykernel\\ipkernel.py\", line 300, in do_execute\n    res = shell.run_cell(code, store_history=store_history, silent=silent)\n  File \"C:\\Users\\212613144\\AppData\\Local\\Continuum\\anaconda3\\envs\\kchain\\lib\\site-packages\\ipykernel\\zmqshell.py\", line 536, in run_cell\n    return super(ZMQInteractiveShell, self).run_cell(*args, **kwargs)\n  File \"C:\\Users\\212613144\\AppData\\Local\\Continuum\\anaconda3\\envs\\kchain\\lib\\site-packages\\IPython\\core\\interactiveshell.py\", line 2848, in run_cell\n    raw_cell, store_history, silent, shell_futures)\n  File \"C:\\Users\\212613144\\AppData\\Local\\Continuum\\anaconda3\\envs\\kchain\\lib\\site-packages\\IPython\\core\\interactiveshell.py\", line 2874, in _run_cell\n    return runner(coro)\n  File \"C:\\Users\\212613144\\AppData\\Local\\Continuum\\anaconda3\\envs\\kchain\\lib\\site-packages\\IPython\\core\\async_helpers.py\", line 68, in _pseudo_sync_runner\n    coro.send(None)\n  File \"C:\\Users\\212613144\\AppData\\Local\\Continuum\\anaconda3\\envs\\kchain\\lib\\site-packages\\IPython\\core\\interactiveshell.py\", line 3051, in run_cell_async\n    interactivity=interactivity, compiler=compiler, result=result)\n  File \"C:\\Users\\212613144\\AppData\\Local\\Continuum\\anaconda3\\envs\\kchain\\lib\\site-packages\\IPython\\core\\interactiveshell.py\", line 3242, in run_ast_nodes\n    if (await self.run_code(code, result,  async_=asy)):\n  File \"C:\\Users\\212613144\\AppData\\Local\\Continuum\\anaconda3\\envs\\kchain\\lib\\site-packages\\IPython\\core\\interactiveshell.py\", line 3319, in run_code\n    exec(code_obj, self.user_global_ns, self.user_ns)\n  File \"<ipython-input-8-1811f6595983>\", line 19, in <module>\n    y = converted_foo(x, opt)\n  File \"C:\\Users\\212613~1\\AppData\\Local\\Temp\\tmprjl4pto0.py\", line 25, in tf__foo\n    y = ag__.if_stmt(cond, if_true, if_false, get_state, set_state, ('y',), ())\n  File \"C:\\Users\\212613144\\AppData\\Local\\Continuum\\anaconda3\\envs\\kchain\\lib\\site-packages\\tensorflow_core\\python\\autograph\\operators\\control_flow.py\", line 893, in if_stmt\n    basic_symbol_names, composite_symbol_names)\n  File \"C:\\Users\\212613144\\AppData\\Local\\Continuum\\anaconda3\\envs\\kchain\\lib\\site-packages\\tensorflow_core\\python\\autograph\\operators\\control_flow.py\", line 931, in tf_if_stmt\n    error_checking_orelse)\n  File \"C:\\Users\\212613144\\AppData\\Local\\Continuum\\anaconda3\\envs\\kchain\\lib\\site-packages\\tensorflow_core\\python\\util\\deprecation.py\", line 507, in new_func\n    return func(*args, **kwargs)\n  File \"C:\\Users\\212613144\\AppData\\Local\\Continuum\\anaconda3\\envs\\kchain\\lib\\site-packages\\tensorflow_core\\python\\ops\\control_flow_ops.py\", line 1224, in cond\n    orig_res_t, res_t = context_t.BuildCondBranch(true_fn)\n  File \"C:\\Users\\212613144\\AppData\\Local\\Continuum\\anaconda3\\envs\\kchain\\lib\\site-packages\\tensorflow_core\\python\\ops\\control_flow_ops.py\", line 1061, in BuildCondBranch\n    original_result = fn()\n  File \"C:\\Users\\212613144\\AppData\\Local\\Continuum\\anaconda3\\envs\\kchain\\lib\\site-packages\\tensorflow_core\\python\\autograph\\operators\\control_flow.py\", line 917, in error_checking_body\n    result[body_branch] = body()\n  File \"C:\\Users\\212613144\\AppData\\Local\\Continuum\\anaconda3\\envs\\kchain\\lib\\site-packages\\tensorflow_core\\python\\autograph\\operators\\control_flow.py\", line 962, in wrapper\n    new_vars = func()\n  File \"C:\\Users\\212613144\\AppData\\Local\\Continuum\\anaconda3\\envs\\kchain\\lib\\site-packages\\tensorflow_core\\python\\autograph\\operators\\control_flow.py\", line 976, in wrapper\n    results = func()\n  File \"C:\\Users\\212613~1\\AppData\\Local\\Temp\\tmprjl4pto0.py\", line 18, in if_true\n    y = x * x\n  File \"C:\\Users\\212613144\\AppData\\Local\\Continuum\\anaconda3\\envs\\kchain\\lib\\site-packages\\tensorflow_core\\python\\ops\\math_ops.py\", line 899, in binary_op_wrapper\n    return func(x, y, name=name)\n  File \"C:\\Users\\212613144\\AppData\\Local\\Continuum\\anaconda3\\envs\\kchain\\lib\\site-packages\\tensorflow_core\\python\\ops\\math_ops.py\", line 1206, in _mul_dispatch\n    return gen_math_ops.mul(x, y, name=name)\n  File \"C:\\Users\\212613144\\AppData\\Local\\Continuum\\anaconda3\\envs\\kchain\\lib\\site-packages\\tensorflow_core\\python\\ops\\gen_math_ops.py\", line 6701, in mul\n    \"Mul\", x=x, y=y, name=name)\n  File \"C:\\Users\\212613144\\AppData\\Local\\Continuum\\anaconda3\\envs\\kchain\\lib\\site-packages\\tensorflow_core\\python\\framework\\op_def_library.py\", line 794, in _apply_op_helper\n    op_def=op_def)\n  File \"C:\\Users\\212613144\\AppData\\Local\\Continuum\\anaconda3\\envs\\kchain\\lib\\site-packages\\tensorflow_core\\python\\util\\deprecation.py\", line 507, in new_func\n    return func(*args, **kwargs)\n  File \"C:\\Users\\212613144\\AppData\\Local\\Continuum\\anaconda3\\envs\\kchain\\lib\\site-packages\\tensorflow_core\\python\\framework\\ops.py\", line 3357, in create_op\n    attrs, op_def, compute_device)\n  File \"C:\\Users\\212613144\\AppData\\Local\\Continuum\\anaconda3\\envs\\kchain\\lib\\site-packages\\tensorflow_core\\python\\framework\\ops.py\", line 3426, in _create_op_internal\n    op_def=op_def)\n  File \"C:\\Users\\212613144\\AppData\\Local\\Continuum\\anaconda3\\envs\\kchain\\lib\\site-packages\\tensorflow_core\\python\\framework\\ops.py\", line 1789, in __init__\n    self._control_flow_post_processing()\n  File \"C:\\Users\\212613144\\AppData\\Local\\Continuum\\anaconda3\\envs\\kchain\\lib\\site-packages\\tensorflow_core\\python\\framework\\ops.py\", line 1800, in _control_flow_post_processing\n    self._control_flow_context.AddOp(self)\n  File \"C:\\Users\\212613144\\AppData\\Local\\Continuum\\anaconda3\\envs\\kchain\\lib\\site-packages\\tensorflow_core\\python\\ops\\control_flow_ops.py\", line 972, in AddOp\n    self._AddOpInternal(op)\n  File \"C:\\Users\\212613144\\AppData\\Local\\Continuum\\anaconda3\\envs\\kchain\\lib\\site-packages\\tensorflow_core\\python\\ops\\control_flow_ops.py\", line 1004, in _AddOpInternal\n    real_x = self.AddValue(x)\n  File \"C:\\Users\\212613144\\AppData\\Local\\Continuum\\anaconda3\\envs\\kchain\\lib\\site-packages\\tensorflow_core\\python\\ops\\control_flow_ops.py\", line 950, in AddValue\n    result = _SwitchRefOrTensor(result, self._pred)[self._branch]\n  File \"C:\\Users\\212613144\\AppData\\Local\\Continuum\\anaconda3\\envs\\kchain\\lib\\site-packages\\tensorflow_core\\python\\ops\\control_flow_ops.py\", line 362, in _SwitchRefOrTensor\n    return switch(data, pred, name=name)\n  File \"C:\\Users\\212613144\\AppData\\Local\\Continuum\\anaconda3\\envs\\kchain\\lib\\site-packages\\tensorflow_core\\python\\ops\\control_flow_ops.py\", line 310, in switch\n    return gen_control_flow_ops.switch(data, pred, name=name)\n  File \"C:\\Users\\212613144\\AppData\\Local\\Continuum\\anaconda3\\envs\\kchain\\lib\\site-packages\\tensorflow_core\\python\\ops\\gen_control_flow_ops.py\", line 937, in switch\n    \"Switch\", data=data, pred=pred, name=name)\n  File \"C:\\Users\\212613144\\AppData\\Local\\Continuum\\anaconda3\\envs\\kchain\\lib\\site-packages\\tensorflow_core\\python\\framework\\op_def_library.py\", line 794, in _apply_op_helper\n    op_def=op_def)\n  File \"C:\\Users\\212613144\\AppData\\Local\\Continuum\\anaconda3\\envs\\kchain\\lib\\site-packages\\tensorflow_core\\python\\util\\deprecation.py\", line 507, in new_func\n    return func(*args, **kwargs)\n  File \"C:\\Users\\212613144\\AppData\\Local\\Continuum\\anaconda3\\envs\\kchain\\lib\\site-packages\\tensorflow_core\\python\\framework\\ops.py\", line 3357, in create_op\n    attrs, op_def, compute_device)\n  File \"C:\\Users\\212613144\\AppData\\Local\\Continuum\\anaconda3\\envs\\kchain\\lib\\site-packages\\tensorflow_core\\python\\framework\\ops.py\", line 3426, in _create_op_internal\n    op_def=op_def)\n  File \"C:\\Users\\212613144\\AppData\\Local\\Continuum\\anaconda3\\envs\\kchain\\lib\\site-packages\\tensorflow_core\\python\\framework\\ops.py\", line 1748, in __init__\n    self._traceback = tf_stack.extract_stack()\n",
     "output_type": "error",
     "traceback": [
      "\u001b[1;31m---------------------------------------------------------------------------\u001b[0m",
      "\u001b[1;31mInvalidArgumentError\u001b[0m                      Traceback (most recent call last)",
      "\u001b[1;32m~\\AppData\\Local\\Continuum\\anaconda3\\envs\\kchain\\lib\\site-packages\\tensorflow_core\\python\\client\\session.py\u001b[0m in \u001b[0;36m_do_call\u001b[1;34m(self, fn, *args)\u001b[0m\n\u001b[0;32m   1364\u001b[0m     \u001b[1;32mtry\u001b[0m\u001b[1;33m:\u001b[0m\u001b[1;33m\u001b[0m\u001b[1;33m\u001b[0m\u001b[0m\n\u001b[1;32m-> 1365\u001b[1;33m       \u001b[1;32mreturn\u001b[0m \u001b[0mfn\u001b[0m\u001b[1;33m(\u001b[0m\u001b[1;33m*\u001b[0m\u001b[0margs\u001b[0m\u001b[1;33m)\u001b[0m\u001b[1;33m\u001b[0m\u001b[1;33m\u001b[0m\u001b[0m\n\u001b[0m\u001b[0;32m   1366\u001b[0m     \u001b[1;32mexcept\u001b[0m \u001b[0merrors\u001b[0m\u001b[1;33m.\u001b[0m\u001b[0mOpError\u001b[0m \u001b[1;32mas\u001b[0m \u001b[0me\u001b[0m\u001b[1;33m:\u001b[0m\u001b[1;33m\u001b[0m\u001b[1;33m\u001b[0m\u001b[0m\n",
      "\u001b[1;32m~\\AppData\\Local\\Continuum\\anaconda3\\envs\\kchain\\lib\\site-packages\\tensorflow_core\\python\\client\\session.py\u001b[0m in \u001b[0;36m_run_fn\u001b[1;34m(feed_dict, fetch_list, target_list, options, run_metadata)\u001b[0m\n\u001b[0;32m   1349\u001b[0m       return self._call_tf_sessionrun(options, feed_dict, fetch_list,\n\u001b[1;32m-> 1350\u001b[1;33m                                       target_list, run_metadata)\n\u001b[0m\u001b[0;32m   1351\u001b[0m \u001b[1;33m\u001b[0m\u001b[0m\n",
      "\u001b[1;32m~\\AppData\\Local\\Continuum\\anaconda3\\envs\\kchain\\lib\\site-packages\\tensorflow_core\\python\\client\\session.py\u001b[0m in \u001b[0;36m_call_tf_sessionrun\u001b[1;34m(self, options, feed_dict, fetch_list, target_list, run_metadata)\u001b[0m\n\u001b[0;32m   1442\u001b[0m                                             \u001b[0mfetch_list\u001b[0m\u001b[1;33m,\u001b[0m \u001b[0mtarget_list\u001b[0m\u001b[1;33m,\u001b[0m\u001b[1;33m\u001b[0m\u001b[1;33m\u001b[0m\u001b[0m\n\u001b[1;32m-> 1443\u001b[1;33m                                             run_metadata)\n\u001b[0m\u001b[0;32m   1444\u001b[0m \u001b[1;33m\u001b[0m\u001b[0m\n",
      "\u001b[1;31mInvalidArgumentError\u001b[0m: The second input must be a scalar, but it has shape [2]\n\t [[{{node cond/mul/Switch}}]]",
      "\nDuring handling of the above exception, another exception occurred:\n",
      "\u001b[1;31mInvalidArgumentError\u001b[0m                      Traceback (most recent call last)",
      "\u001b[1;32m<ipython-input-8-1811f6595983>\u001b[0m in \u001b[0;36m<module>\u001b[1;34m\u001b[0m\n\u001b[0;32m     28\u001b[0m     \u001b[0maval\u001b[0m \u001b[1;33m=\u001b[0m \u001b[0msess\u001b[0m\u001b[1;33m.\u001b[0m\u001b[0mrun\u001b[0m\u001b[1;33m(\u001b[0m\u001b[0my\u001b[0m\u001b[1;33m,\u001b[0m \u001b[0mfeed_dict\u001b[0m\u001b[1;33m=\u001b[0m\u001b[1;33m{\u001b[0m\u001b[0mx\u001b[0m\u001b[1;33m:\u001b[0m\u001b[0mxval\u001b[0m\u001b[1;33m,\u001b[0m \u001b[0mopt\u001b[0m\u001b[1;33m:\u001b[0m\u001b[1;36m0\u001b[0m\u001b[1;33m}\u001b[0m\u001b[1;33m)\u001b[0m\u001b[1;33m\u001b[0m\u001b[1;33m\u001b[0m\u001b[0m\n\u001b[0;32m     29\u001b[0m     \u001b[0mprint\u001b[0m\u001b[1;33m(\u001b[0m\u001b[1;34m'output for opt = 0 is '\u001b[0m \u001b[1;33m+\u001b[0m \u001b[0mstr\u001b[0m\u001b[1;33m(\u001b[0m\u001b[0maval\u001b[0m\u001b[1;33m)\u001b[0m\u001b[1;33m)\u001b[0m\u001b[1;33m\u001b[0m\u001b[1;33m\u001b[0m\u001b[0m\n\u001b[1;32m---> 30\u001b[1;33m     \u001b[0maval\u001b[0m \u001b[1;33m=\u001b[0m \u001b[0msess\u001b[0m\u001b[1;33m.\u001b[0m\u001b[0mrun\u001b[0m\u001b[1;33m(\u001b[0m\u001b[0my\u001b[0m\u001b[1;33m,\u001b[0m \u001b[0mfeed_dict\u001b[0m\u001b[1;33m=\u001b[0m\u001b[1;33m{\u001b[0m\u001b[0mx\u001b[0m\u001b[1;33m:\u001b[0m\u001b[0mxval\u001b[0m\u001b[1;33m,\u001b[0m \u001b[0mopt\u001b[0m\u001b[1;33m:\u001b[0m\u001b[1;33m[\u001b[0m\u001b[1;36m0\u001b[0m\u001b[1;33m,\u001b[0m \u001b[1;36m1\u001b[0m\u001b[1;33m]\u001b[0m\u001b[1;33m}\u001b[0m\u001b[1;33m)\u001b[0m\u001b[1;33m\u001b[0m\u001b[1;33m\u001b[0m\u001b[0m\n\u001b[0m\u001b[0;32m     31\u001b[0m     \u001b[0mprint\u001b[0m\u001b[1;33m(\u001b[0m\u001b[1;34m'output for opt = [0, 1] is '\u001b[0m \u001b[1;33m+\u001b[0m \u001b[0mstr\u001b[0m\u001b[1;33m(\u001b[0m\u001b[0maval\u001b[0m\u001b[1;33m)\u001b[0m\u001b[1;33m)\u001b[0m\u001b[1;33m\u001b[0m\u001b[1;33m\u001b[0m\u001b[0m\n\u001b[0;32m     32\u001b[0m     \u001b[0maval\u001b[0m \u001b[1;33m=\u001b[0m \u001b[0msess\u001b[0m\u001b[1;33m.\u001b[0m\u001b[0mrun\u001b[0m\u001b[1;33m(\u001b[0m\u001b[0my\u001b[0m\u001b[1;33m,\u001b[0m \u001b[0mfeed_dict\u001b[0m\u001b[1;33m=\u001b[0m\u001b[1;33m{\u001b[0m\u001b[0mx\u001b[0m\u001b[1;33m:\u001b[0m\u001b[0mxval\u001b[0m\u001b[1;33m,\u001b[0m \u001b[0mopt\u001b[0m\u001b[1;33m:\u001b[0m\u001b[0moptval\u001b[0m\u001b[1;33m}\u001b[0m\u001b[1;33m)\u001b[0m\u001b[1;33m\u001b[0m\u001b[1;33m\u001b[0m\u001b[0m\n",
      "\u001b[1;32m~\\AppData\\Local\\Continuum\\anaconda3\\envs\\kchain\\lib\\site-packages\\tensorflow_core\\python\\client\\session.py\u001b[0m in \u001b[0;36mrun\u001b[1;34m(self, fetches, feed_dict, options, run_metadata)\u001b[0m\n\u001b[0;32m    954\u001b[0m     \u001b[1;32mtry\u001b[0m\u001b[1;33m:\u001b[0m\u001b[1;33m\u001b[0m\u001b[1;33m\u001b[0m\u001b[0m\n\u001b[0;32m    955\u001b[0m       result = self._run(None, fetches, feed_dict, options_ptr,\n\u001b[1;32m--> 956\u001b[1;33m                          run_metadata_ptr)\n\u001b[0m\u001b[0;32m    957\u001b[0m       \u001b[1;32mif\u001b[0m \u001b[0mrun_metadata\u001b[0m\u001b[1;33m:\u001b[0m\u001b[1;33m\u001b[0m\u001b[1;33m\u001b[0m\u001b[0m\n\u001b[0;32m    958\u001b[0m         \u001b[0mproto_data\u001b[0m \u001b[1;33m=\u001b[0m \u001b[0mtf_session\u001b[0m\u001b[1;33m.\u001b[0m\u001b[0mTF_GetBuffer\u001b[0m\u001b[1;33m(\u001b[0m\u001b[0mrun_metadata_ptr\u001b[0m\u001b[1;33m)\u001b[0m\u001b[1;33m\u001b[0m\u001b[1;33m\u001b[0m\u001b[0m\n",
      "\u001b[1;32m~\\AppData\\Local\\Continuum\\anaconda3\\envs\\kchain\\lib\\site-packages\\tensorflow_core\\python\\client\\session.py\u001b[0m in \u001b[0;36m_run\u001b[1;34m(self, handle, fetches, feed_dict, options, run_metadata)\u001b[0m\n\u001b[0;32m   1178\u001b[0m     \u001b[1;32mif\u001b[0m \u001b[0mfinal_fetches\u001b[0m \u001b[1;32mor\u001b[0m \u001b[0mfinal_targets\u001b[0m \u001b[1;32mor\u001b[0m \u001b[1;33m(\u001b[0m\u001b[0mhandle\u001b[0m \u001b[1;32mand\u001b[0m \u001b[0mfeed_dict_tensor\u001b[0m\u001b[1;33m)\u001b[0m\u001b[1;33m:\u001b[0m\u001b[1;33m\u001b[0m\u001b[1;33m\u001b[0m\u001b[0m\n\u001b[0;32m   1179\u001b[0m       results = self._do_run(handle, final_targets, final_fetches,\n\u001b[1;32m-> 1180\u001b[1;33m                              feed_dict_tensor, options, run_metadata)\n\u001b[0m\u001b[0;32m   1181\u001b[0m     \u001b[1;32melse\u001b[0m\u001b[1;33m:\u001b[0m\u001b[1;33m\u001b[0m\u001b[1;33m\u001b[0m\u001b[0m\n\u001b[0;32m   1182\u001b[0m       \u001b[0mresults\u001b[0m \u001b[1;33m=\u001b[0m \u001b[1;33m[\u001b[0m\u001b[1;33m]\u001b[0m\u001b[1;33m\u001b[0m\u001b[1;33m\u001b[0m\u001b[0m\n",
      "\u001b[1;32m~\\AppData\\Local\\Continuum\\anaconda3\\envs\\kchain\\lib\\site-packages\\tensorflow_core\\python\\client\\session.py\u001b[0m in \u001b[0;36m_do_run\u001b[1;34m(self, handle, target_list, fetch_list, feed_dict, options, run_metadata)\u001b[0m\n\u001b[0;32m   1357\u001b[0m     \u001b[1;32mif\u001b[0m \u001b[0mhandle\u001b[0m \u001b[1;32mis\u001b[0m \u001b[1;32mNone\u001b[0m\u001b[1;33m:\u001b[0m\u001b[1;33m\u001b[0m\u001b[1;33m\u001b[0m\u001b[0m\n\u001b[0;32m   1358\u001b[0m       return self._do_call(_run_fn, feeds, fetches, targets, options,\n\u001b[1;32m-> 1359\u001b[1;33m                            run_metadata)\n\u001b[0m\u001b[0;32m   1360\u001b[0m     \u001b[1;32melse\u001b[0m\u001b[1;33m:\u001b[0m\u001b[1;33m\u001b[0m\u001b[1;33m\u001b[0m\u001b[0m\n\u001b[0;32m   1361\u001b[0m       \u001b[1;32mreturn\u001b[0m \u001b[0mself\u001b[0m\u001b[1;33m.\u001b[0m\u001b[0m_do_call\u001b[0m\u001b[1;33m(\u001b[0m\u001b[0m_prun_fn\u001b[0m\u001b[1;33m,\u001b[0m \u001b[0mhandle\u001b[0m\u001b[1;33m,\u001b[0m \u001b[0mfeeds\u001b[0m\u001b[1;33m,\u001b[0m \u001b[0mfetches\u001b[0m\u001b[1;33m)\u001b[0m\u001b[1;33m\u001b[0m\u001b[1;33m\u001b[0m\u001b[0m\n",
      "\u001b[1;32m~\\AppData\\Local\\Continuum\\anaconda3\\envs\\kchain\\lib\\site-packages\\tensorflow_core\\python\\client\\session.py\u001b[0m in \u001b[0;36m_do_call\u001b[1;34m(self, fn, *args)\u001b[0m\n\u001b[0;32m   1382\u001b[0m                     \u001b[1;34m'\\nsession_config.graph_options.rewrite_options.'\u001b[0m\u001b[1;33m\u001b[0m\u001b[1;33m\u001b[0m\u001b[0m\n\u001b[0;32m   1383\u001b[0m                     'disable_meta_optimizer = True')\n\u001b[1;32m-> 1384\u001b[1;33m       \u001b[1;32mraise\u001b[0m \u001b[0mtype\u001b[0m\u001b[1;33m(\u001b[0m\u001b[0me\u001b[0m\u001b[1;33m)\u001b[0m\u001b[1;33m(\u001b[0m\u001b[0mnode_def\u001b[0m\u001b[1;33m,\u001b[0m \u001b[0mop\u001b[0m\u001b[1;33m,\u001b[0m \u001b[0mmessage\u001b[0m\u001b[1;33m)\u001b[0m\u001b[1;33m\u001b[0m\u001b[1;33m\u001b[0m\u001b[0m\n\u001b[0m\u001b[0;32m   1385\u001b[0m \u001b[1;33m\u001b[0m\u001b[0m\n\u001b[0;32m   1386\u001b[0m   \u001b[1;32mdef\u001b[0m \u001b[0m_extend_graph\u001b[0m\u001b[1;33m(\u001b[0m\u001b[0mself\u001b[0m\u001b[1;33m)\u001b[0m\u001b[1;33m:\u001b[0m\u001b[1;33m\u001b[0m\u001b[1;33m\u001b[0m\u001b[0m\n",
      "\u001b[1;31mInvalidArgumentError\u001b[0m: The second input must be a scalar, but it has shape [2]\n\t [[node cond/mul/Switch (defined at C:\\Users\\212613144\\AppData\\Local\\Continuum\\anaconda3\\envs\\kchain\\lib\\site-packages\\tensorflow_core\\python\\framework\\ops.py:1748) ]]\n\nOriginal stack trace for 'cond/mul/Switch':\n  File \"C:\\Users\\212613144\\AppData\\Local\\Continuum\\anaconda3\\envs\\kchain\\lib\\runpy.py\", line 193, in _run_module_as_main\n    \"__main__\", mod_spec)\n  File \"C:\\Users\\212613144\\AppData\\Local\\Continuum\\anaconda3\\envs\\kchain\\lib\\runpy.py\", line 85, in _run_code\n    exec(code, run_globals)\n  File \"C:\\Users\\212613144\\AppData\\Local\\Continuum\\anaconda3\\envs\\kchain\\lib\\site-packages\\ipykernel_launcher.py\", line 16, in <module>\n    app.launch_new_instance()\n  File \"C:\\Users\\212613144\\AppData\\Local\\Continuum\\anaconda3\\envs\\kchain\\lib\\site-packages\\traitlets\\config\\application.py\", line 664, in launch_instance\n    app.start()\n  File \"C:\\Users\\212613144\\AppData\\Local\\Continuum\\anaconda3\\envs\\kchain\\lib\\site-packages\\ipykernel\\kernelapp.py\", line 563, in start\n    self.io_loop.start()\n  File \"C:\\Users\\212613144\\AppData\\Local\\Continuum\\anaconda3\\envs\\kchain\\lib\\site-packages\\tornado\\platform\\asyncio.py\", line 148, in start\n    self.asyncio_loop.run_forever()\n  File \"C:\\Users\\212613144\\AppData\\Local\\Continuum\\anaconda3\\envs\\kchain\\lib\\asyncio\\base_events.py\", line 427, in run_forever\n    self._run_once()\n  File \"C:\\Users\\212613144\\AppData\\Local\\Continuum\\anaconda3\\envs\\kchain\\lib\\asyncio\\base_events.py\", line 1440, in _run_once\n    handle._run()\n  File \"C:\\Users\\212613144\\AppData\\Local\\Continuum\\anaconda3\\envs\\kchain\\lib\\asyncio\\events.py\", line 145, in _run\n    self._callback(*self._args)\n  File \"C:\\Users\\212613144\\AppData\\Local\\Continuum\\anaconda3\\envs\\kchain\\lib\\site-packages\\tornado\\ioloop.py\", line 690, in <lambda>\n    lambda f: self._run_callback(functools.partial(callback, future))\n  File \"C:\\Users\\212613144\\AppData\\Local\\Continuum\\anaconda3\\envs\\kchain\\lib\\site-packages\\tornado\\ioloop.py\", line 743, in _run_callback\n    ret = callback()\n  File \"C:\\Users\\212613144\\AppData\\Local\\Continuum\\anaconda3\\envs\\kchain\\lib\\site-packages\\tornado\\gen.py\", line 787, in inner\n    self.run()\n  File \"C:\\Users\\212613144\\AppData\\Local\\Continuum\\anaconda3\\envs\\kchain\\lib\\site-packages\\tornado\\gen.py\", line 748, in run\n    yielded = self.gen.send(value)\n  File \"C:\\Users\\212613144\\AppData\\Local\\Continuum\\anaconda3\\envs\\kchain\\lib\\site-packages\\ipykernel\\kernelbase.py\", line 361, in process_one\n    yield gen.maybe_future(dispatch(*args))\n  File \"C:\\Users\\212613144\\AppData\\Local\\Continuum\\anaconda3\\envs\\kchain\\lib\\site-packages\\tornado\\gen.py\", line 209, in wrapper\n    yielded = next(result)\n  File \"C:\\Users\\212613144\\AppData\\Local\\Continuum\\anaconda3\\envs\\kchain\\lib\\site-packages\\ipykernel\\kernelbase.py\", line 268, in dispatch_shell\n    yield gen.maybe_future(handler(stream, idents, msg))\n  File \"C:\\Users\\212613144\\AppData\\Local\\Continuum\\anaconda3\\envs\\kchain\\lib\\site-packages\\tornado\\gen.py\", line 209, in wrapper\n    yielded = next(result)\n  File \"C:\\Users\\212613144\\AppData\\Local\\Continuum\\anaconda3\\envs\\kchain\\lib\\site-packages\\ipykernel\\kernelbase.py\", line 541, in execute_request\n    user_expressions, allow_stdin,\n  File \"C:\\Users\\212613144\\AppData\\Local\\Continuum\\anaconda3\\envs\\kchain\\lib\\site-packages\\tornado\\gen.py\", line 209, in wrapper\n    yielded = next(result)\n  File \"C:\\Users\\212613144\\AppData\\Local\\Continuum\\anaconda3\\envs\\kchain\\lib\\site-packages\\ipykernel\\ipkernel.py\", line 300, in do_execute\n    res = shell.run_cell(code, store_history=store_history, silent=silent)\n  File \"C:\\Users\\212613144\\AppData\\Local\\Continuum\\anaconda3\\envs\\kchain\\lib\\site-packages\\ipykernel\\zmqshell.py\", line 536, in run_cell\n    return super(ZMQInteractiveShell, self).run_cell(*args, **kwargs)\n  File \"C:\\Users\\212613144\\AppData\\Local\\Continuum\\anaconda3\\envs\\kchain\\lib\\site-packages\\IPython\\core\\interactiveshell.py\", line 2848, in run_cell\n    raw_cell, store_history, silent, shell_futures)\n  File \"C:\\Users\\212613144\\AppData\\Local\\Continuum\\anaconda3\\envs\\kchain\\lib\\site-packages\\IPython\\core\\interactiveshell.py\", line 2874, in _run_cell\n    return runner(coro)\n  File \"C:\\Users\\212613144\\AppData\\Local\\Continuum\\anaconda3\\envs\\kchain\\lib\\site-packages\\IPython\\core\\async_helpers.py\", line 68, in _pseudo_sync_runner\n    coro.send(None)\n  File \"C:\\Users\\212613144\\AppData\\Local\\Continuum\\anaconda3\\envs\\kchain\\lib\\site-packages\\IPython\\core\\interactiveshell.py\", line 3051, in run_cell_async\n    interactivity=interactivity, compiler=compiler, result=result)\n  File \"C:\\Users\\212613144\\AppData\\Local\\Continuum\\anaconda3\\envs\\kchain\\lib\\site-packages\\IPython\\core\\interactiveshell.py\", line 3242, in run_ast_nodes\n    if (await self.run_code(code, result,  async_=asy)):\n  File \"C:\\Users\\212613144\\AppData\\Local\\Continuum\\anaconda3\\envs\\kchain\\lib\\site-packages\\IPython\\core\\interactiveshell.py\", line 3319, in run_code\n    exec(code_obj, self.user_global_ns, self.user_ns)\n  File \"<ipython-input-8-1811f6595983>\", line 19, in <module>\n    y = converted_foo(x, opt)\n  File \"C:\\Users\\212613~1\\AppData\\Local\\Temp\\tmprjl4pto0.py\", line 25, in tf__foo\n    y = ag__.if_stmt(cond, if_true, if_false, get_state, set_state, ('y',), ())\n  File \"C:\\Users\\212613144\\AppData\\Local\\Continuum\\anaconda3\\envs\\kchain\\lib\\site-packages\\tensorflow_core\\python\\autograph\\operators\\control_flow.py\", line 893, in if_stmt\n    basic_symbol_names, composite_symbol_names)\n  File \"C:\\Users\\212613144\\AppData\\Local\\Continuum\\anaconda3\\envs\\kchain\\lib\\site-packages\\tensorflow_core\\python\\autograph\\operators\\control_flow.py\", line 931, in tf_if_stmt\n    error_checking_orelse)\n  File \"C:\\Users\\212613144\\AppData\\Local\\Continuum\\anaconda3\\envs\\kchain\\lib\\site-packages\\tensorflow_core\\python\\util\\deprecation.py\", line 507, in new_func\n    return func(*args, **kwargs)\n  File \"C:\\Users\\212613144\\AppData\\Local\\Continuum\\anaconda3\\envs\\kchain\\lib\\site-packages\\tensorflow_core\\python\\ops\\control_flow_ops.py\", line 1224, in cond\n    orig_res_t, res_t = context_t.BuildCondBranch(true_fn)\n  File \"C:\\Users\\212613144\\AppData\\Local\\Continuum\\anaconda3\\envs\\kchain\\lib\\site-packages\\tensorflow_core\\python\\ops\\control_flow_ops.py\", line 1061, in BuildCondBranch\n    original_result = fn()\n  File \"C:\\Users\\212613144\\AppData\\Local\\Continuum\\anaconda3\\envs\\kchain\\lib\\site-packages\\tensorflow_core\\python\\autograph\\operators\\control_flow.py\", line 917, in error_checking_body\n    result[body_branch] = body()\n  File \"C:\\Users\\212613144\\AppData\\Local\\Continuum\\anaconda3\\envs\\kchain\\lib\\site-packages\\tensorflow_core\\python\\autograph\\operators\\control_flow.py\", line 962, in wrapper\n    new_vars = func()\n  File \"C:\\Users\\212613144\\AppData\\Local\\Continuum\\anaconda3\\envs\\kchain\\lib\\site-packages\\tensorflow_core\\python\\autograph\\operators\\control_flow.py\", line 976, in wrapper\n    results = func()\n  File \"C:\\Users\\212613~1\\AppData\\Local\\Temp\\tmprjl4pto0.py\", line 18, in if_true\n    y = x * x\n  File \"C:\\Users\\212613144\\AppData\\Local\\Continuum\\anaconda3\\envs\\kchain\\lib\\site-packages\\tensorflow_core\\python\\ops\\math_ops.py\", line 899, in binary_op_wrapper\n    return func(x, y, name=name)\n  File \"C:\\Users\\212613144\\AppData\\Local\\Continuum\\anaconda3\\envs\\kchain\\lib\\site-packages\\tensorflow_core\\python\\ops\\math_ops.py\", line 1206, in _mul_dispatch\n    return gen_math_ops.mul(x, y, name=name)\n  File \"C:\\Users\\212613144\\AppData\\Local\\Continuum\\anaconda3\\envs\\kchain\\lib\\site-packages\\tensorflow_core\\python\\ops\\gen_math_ops.py\", line 6701, in mul\n    \"Mul\", x=x, y=y, name=name)\n  File \"C:\\Users\\212613144\\AppData\\Local\\Continuum\\anaconda3\\envs\\kchain\\lib\\site-packages\\tensorflow_core\\python\\framework\\op_def_library.py\", line 794, in _apply_op_helper\n    op_def=op_def)\n  File \"C:\\Users\\212613144\\AppData\\Local\\Continuum\\anaconda3\\envs\\kchain\\lib\\site-packages\\tensorflow_core\\python\\util\\deprecation.py\", line 507, in new_func\n    return func(*args, **kwargs)\n  File \"C:\\Users\\212613144\\AppData\\Local\\Continuum\\anaconda3\\envs\\kchain\\lib\\site-packages\\tensorflow_core\\python\\framework\\ops.py\", line 3357, in create_op\n    attrs, op_def, compute_device)\n  File \"C:\\Users\\212613144\\AppData\\Local\\Continuum\\anaconda3\\envs\\kchain\\lib\\site-packages\\tensorflow_core\\python\\framework\\ops.py\", line 3426, in _create_op_internal\n    op_def=op_def)\n  File \"C:\\Users\\212613144\\AppData\\Local\\Continuum\\anaconda3\\envs\\kchain\\lib\\site-packages\\tensorflow_core\\python\\framework\\ops.py\", line 1789, in __init__\n    self._control_flow_post_processing()\n  File \"C:\\Users\\212613144\\AppData\\Local\\Continuum\\anaconda3\\envs\\kchain\\lib\\site-packages\\tensorflow_core\\python\\framework\\ops.py\", line 1800, in _control_flow_post_processing\n    self._control_flow_context.AddOp(self)\n  File \"C:\\Users\\212613144\\AppData\\Local\\Continuum\\anaconda3\\envs\\kchain\\lib\\site-packages\\tensorflow_core\\python\\ops\\control_flow_ops.py\", line 972, in AddOp\n    self._AddOpInternal(op)\n  File \"C:\\Users\\212613144\\AppData\\Local\\Continuum\\anaconda3\\envs\\kchain\\lib\\site-packages\\tensorflow_core\\python\\ops\\control_flow_ops.py\", line 1004, in _AddOpInternal\n    real_x = self.AddValue(x)\n  File \"C:\\Users\\212613144\\AppData\\Local\\Continuum\\anaconda3\\envs\\kchain\\lib\\site-packages\\tensorflow_core\\python\\ops\\control_flow_ops.py\", line 950, in AddValue\n    result = _SwitchRefOrTensor(result, self._pred)[self._branch]\n  File \"C:\\Users\\212613144\\AppData\\Local\\Continuum\\anaconda3\\envs\\kchain\\lib\\site-packages\\tensorflow_core\\python\\ops\\control_flow_ops.py\", line 362, in _SwitchRefOrTensor\n    return switch(data, pred, name=name)\n  File \"C:\\Users\\212613144\\AppData\\Local\\Continuum\\anaconda3\\envs\\kchain\\lib\\site-packages\\tensorflow_core\\python\\ops\\control_flow_ops.py\", line 310, in switch\n    return gen_control_flow_ops.switch(data, pred, name=name)\n  File \"C:\\Users\\212613144\\AppData\\Local\\Continuum\\anaconda3\\envs\\kchain\\lib\\site-packages\\tensorflow_core\\python\\ops\\gen_control_flow_ops.py\", line 937, in switch\n    \"Switch\", data=data, pred=pred, name=name)\n  File \"C:\\Users\\212613144\\AppData\\Local\\Continuum\\anaconda3\\envs\\kchain\\lib\\site-packages\\tensorflow_core\\python\\framework\\op_def_library.py\", line 794, in _apply_op_helper\n    op_def=op_def)\n  File \"C:\\Users\\212613144\\AppData\\Local\\Continuum\\anaconda3\\envs\\kchain\\lib\\site-packages\\tensorflow_core\\python\\util\\deprecation.py\", line 507, in new_func\n    return func(*args, **kwargs)\n  File \"C:\\Users\\212613144\\AppData\\Local\\Continuum\\anaconda3\\envs\\kchain\\lib\\site-packages\\tensorflow_core\\python\\framework\\ops.py\", line 3357, in create_op\n    attrs, op_def, compute_device)\n  File \"C:\\Users\\212613144\\AppData\\Local\\Continuum\\anaconda3\\envs\\kchain\\lib\\site-packages\\tensorflow_core\\python\\framework\\ops.py\", line 3426, in _create_op_internal\n    op_def=op_def)\n  File \"C:\\Users\\212613144\\AppData\\Local\\Continuum\\anaconda3\\envs\\kchain\\lib\\site-packages\\tensorflow_core\\python\\framework\\ops.py\", line 1748, in __init__\n    self._traceback = tf_stack.extract_stack()\n"
     ]
    }
   ],
   "source": [
    "import numpy as np\n",
    "\n",
    "#minimal code for method to demonstrate issue\n",
    "def foo(x, opt):\n",
    "    if opt > 0:\n",
    "        y = x * x\n",
    "    else:\n",
    "        y = -x\n",
    "    return y\n",
    "\n",
    "\n",
    "#graph construction\n",
    "mdl = tf.Graph()\n",
    "with mdl.as_default():\n",
    "    converted_foo = ag.to_graph(foo)\n",
    "    print(ag.to_code(foo))\n",
    "    x = tf.placeholder(tf.float64, name='x')\n",
    "    opt = tf.placeholder(tf.float64, name='opt')\n",
    "    y = converted_foo(x, opt)\n",
    "\n",
    "#graph execution\n",
    "with tf.Session(graph=mdl) as sess:\n",
    "    xval = np.fromstring(\"4.0, -10.0\", sep=',')\n",
    "    optval = np.fromstring(\"0\", sep=',').tolist()\n",
    "    optval\n",
    "    aval = sess.run(y, feed_dict={x:xval, opt:1})\n",
    "    print('output for opt = 1 is ' + str(aval))\n",
    "    aval = sess.run(y, feed_dict={x:xval, opt:0})\n",
    "    print('output for opt = 0 is ' + str(aval))\n",
    "    aval = sess.run(y, feed_dict={x:xval, opt:[0, 1]})\n",
    "    print('output for opt = [0, 1] is ' + str(aval))\n",
    "    aval = sess.run(y, feed_dict={x:xval, opt:optval})\n",
    "    print('output for opt = 0 is ' + str(aval))\n",
    "\n",
    "    #mdlName = \"foo\"\n",
    "    #writer = tf.summary.FileWriter(\"../kchain/log/example/model/\"+mdlName, sess.graph, filename_suffix=mdlName)\n",
    "        \n",
    "    ## Close the writer\n",
    "    #writer.close()"
   ]
  },
  {
   "cell_type": "code",
   "execution_count": 9,
   "metadata": {},
   "outputs": [
    {
     "name": "stdout",
     "output_type": "stream",
     "text": [
      "Cannot handle batch of data\n",
      "Cannot handle batch of data\n",
      "[ 10.           7.77777778   5.55555556   3.33333333   1.11111111\n",
      "  -1.11111111  -3.33333333  -5.55555556  -7.77777778 -10.        ]\n",
      "[100.          60.49382716  30.86419753  11.11111111   1.2345679\n",
      "   1.2345679   11.11111111  30.86419753  60.49382716 100.        ]\n",
      "Cannot handle batch of data\n"
     ]
    }
   ],
   "source": [
    "try:\n",
    "    foo(x = [4, -10], opt = 0)\n",
    "except:\n",
    "    print('Cannot handle batch of data')\n",
    "\n",
    "try:\n",
    "    foo(x = 4, opt = [0, 1])\n",
    "except:\n",
    "    print('Cannot handle batch of data')\n",
    "\n",
    "with tf.Session(graph=mdl) as sess:\n",
    "    try:\n",
    "        print(sess.run(y, feed_dict={x:np.linspace(-10,10,10), opt:0}))\n",
    "    except:\n",
    "        print('Cannot handle batch of data')\n",
    "    try: \n",
    "        print(sess.run(y, feed_dict={x:np.linspace(-10,10,10), opt:1}))\n",
    "    except:\n",
    "        print('Cannot handle batch of data')\n",
    "    try:\n",
    "        print(sess.run(y, feed_dict={x:np.linspace(-10,10,10), opt:np.random.randint(0,2,(10,))}))\n",
    "    except:\n",
    "        print('Cannot handle batch of data')"
   ]
  },
  {
   "cell_type": "code",
   "execution_count": 10,
   "metadata": {},
   "outputs": [
    {
     "name": "stderr",
     "output_type": "stream",
     "text": [
      "WARNING:tensorflow:From C:\\Users\\212613144\\AppData\\Local\\Continuum\\anaconda3\\envs\\kchain\\lib\\site-packages\\tensorflow_core\\python\\autograph\\converters\\directives.py:119: The name tf.where_v2 is deprecated. Please use tf.compat.v2.where instead.\n",
      "\n"
     ]
    },
    {
     "name": "stdout",
     "output_type": "stream",
     "text": [
      "def tf__foo2(x, opt):\n",
      "  do_return = False\n",
      "  retval_ = ag__.UndefinedReturnValue()\n",
      "  with ag__.FunctionScope('foo2', 'foo2_scope', ag__.ConversionOptions(recursive=True, user_requested=True, optional_features=(), internal_convert_user_code=True)) as foo2_scope:\n",
      "    y2 = ag__.converted_call(tf.where_v2, foo2_scope.callopts, (opt > 0, x * x, -x), None, foo2_scope)\n",
      "    do_return = True\n",
      "    retval_ = foo2_scope.mark_return_value(y2)\n",
      "  do_return,\n",
      "  return ag__.retval(retval_)\n",
      "\n",
      "output for opt = 1 is [ 16. 100.]\n",
      "output for opt = 0 is [-4. 10.]\n",
      "output for opt = [0, 1] is [ -4. 100.]\n",
      "output for opt = [0.0, 1.0] is [ -4. 100.]\n"
     ]
    }
   ],
   "source": [
    "#minimal code for method to demonstrate issue\n",
    "def foo2(x, opt):\n",
    "    y2 = tf.where_v2(opt>0, x*x, -x)\n",
    "    return y2\n",
    "\n",
    "#graph construction\n",
    "mdl2 = tf.Graph()\n",
    "with mdl2.as_default():\n",
    "    converted_foo2 = ag.to_graph(foo2)\n",
    "    print(ag.to_code(foo2))\n",
    "    x2 = tf.placeholder(tf.float64, name='x')\n",
    "    opt2 = tf.placeholder(tf.int32, name='opt')\n",
    "    y2 = converted_foo2(x2, opt2)\n",
    "    \n",
    "#graph execution\n",
    "with tf.Session(graph=mdl2) as sess:\n",
    "    xval = np.fromstring(\"4.0, -10.0\", sep=',')\n",
    "    optval = np.fromstring(\"0, 1\", sep=',').tolist()\n",
    "    optval\n",
    "    aval = sess.run(y2, feed_dict={x2:xval, opt2:1})\n",
    "    print('output for opt = 1 is ' + str(aval))\n",
    "    aval = sess.run(y2, feed_dict={x2:xval, opt2:0})\n",
    "    print('output for opt = 0 is ' + str(aval))\n",
    "    aval = sess.run(y2, feed_dict={x2:xval, opt2:[0, 1]})\n",
    "    print('output for opt = [0, 1] is ' + str(aval))\n",
    "    aval = sess.run(y2, feed_dict={x2:xval, opt2:optval})\n",
    "    print('output for opt = ' + str(optval) + ' is ' + str(aval))\n",
    "\n",
    "    #mdlName = \"foo\"\n",
    "    #writer = tf.summary.FileWriter(\"../kchain/log/example/model/\"+mdlName, sess.graph, filename_suffix=mdlName)\n",
    "        \n",
    "    ## Close the writer\n",
    "    #writer.close()"
   ]
  },
  {
   "cell_type": "code",
   "execution_count": 11,
   "metadata": {},
   "outputs": [
    {
     "name": "stdout",
     "output_type": "stream",
     "text": [
      "[ 10.           7.77777778   5.55555556   3.33333333   1.11111111\n",
      "  -1.11111111  -3.33333333  -5.55555556  -7.77777778 -10.        ]\n",
      "[100.          60.49382716  30.86419753  11.11111111   1.2345679\n",
      "   1.2345679   11.11111111  30.86419753  60.49382716 100.        ]\n",
      "[100.          60.49382716  30.86419753  11.11111111   1.2345679\n",
      "   1.2345679   11.11111111  30.86419753  -7.77777778 -10.        ]\n"
     ]
    }
   ],
   "source": [
    "with tf.Session(graph=mdl2) as sess:\n",
    "    try:\n",
    "        print(sess.run(y2, feed_dict={x2:np.linspace(-10,10,10), opt2:0}))\n",
    "    except:\n",
    "        print('Cannot handle batch of data')\n",
    "    try: \n",
    "        print(sess.run(y2, feed_dict={x2:np.linspace(-10,10,10), opt2:1}))\n",
    "    except:\n",
    "        print('Cannot handle batch of data')\n",
    "    try:\n",
    "        print(sess.run(y2, feed_dict={x2:np.linspace(-10,10,10), opt2:np.random.randint(0,2,(10,))}))\n",
    "    except:\n",
    "        print('Cannot handle batch of data')"
   ]
  },
  {
   "cell_type": "markdown",
   "metadata": {},
   "source": [
    "# While loop examples"
   ]
  },
  {
   "cell_type": "code",
   "execution_count": null,
   "metadata": {},
   "outputs": [],
   "source": [
    "import tensorflow as tf\n",
    "from tensorflow import autograph as ag\n",
    "\n",
    "def xsquare(a):\n",
    "    return a**2\n",
    "\n",
    "def loop_example(b):\n",
    "    a0 = 1.2\n",
    "    b0 = xsquare(a0)\n",
    "    a1 = 1.5\n",
    "    if tf.abs(b-b0) < 0.01:\n",
    "        b1 = xsquare(a1)\n",
    "        print(a0,a1,b0,b1)\n",
    "        dx = ((b1-b0)/(a1-a0))\n",
    "        b0 = b1\n",
    "        a0 = a1\n",
    "        a1 = a0 + (b-b0)/dx\n",
    "        if tf.abs(b-b0) < 0.01:\n",
    "            b1 = xsquare(a1)\n",
    "            print(a0,a1,b0,b1)\n",
    "            dx = ((b1-b0)/(a1-a0))\n",
    "            b0 = b1\n",
    "            a0 = a1\n",
    "            a1 = a0 + (b-b0)/dx\n",
    "            while tf.abs(b-b0) < 0.01:\n",
    "                b1 = xsquare(a1)\n",
    "                print(a0,a1,b0,b1)\n",
    "                dx = ((b1-b0)/(a1-a0))\n",
    "                b0 = b1\n",
    "                a0 = a1\n",
    "                a1 = a0 + (b-b0)/dx\n",
    "    return a0\n",
    "\n",
    "#def loop_example():\n",
    "#    b = 1.0\n",
    "#    e = b - 10.0\n",
    "#    while e < 0.0:\n",
    "#        e = b - 10.0\n",
    "#        b = b + 1.0\n",
    "#    return b\n",
    "\n",
    "#graph construction\n",
    "mdl = tf.Graph()\n",
    "with mdl.as_default():\n",
    "    converted_loop_example = ag.to_graph(loop_example, experimental_optional_features=ag.experimental.Feature.EQUALITY_OPERATORS)\n",
    "    print(ag.to_code(loop_example))\n",
    "    b = tf.placeholder(tf.float32, name='b')\n",
    "    a = converted_loop_example(b)\n",
    "\n",
    "#graph execution\n",
    "with tf.Session(graph=mdl) as sess:\n",
    "    aval = sess.run(a, feed_dict={b:25.0})\n",
    "    print(aval)"
   ]
  },
  {
   "cell_type": "markdown",
   "metadata": {},
   "source": [
    "# Other Examples"
   ]
  },
  {
   "cell_type": "code",
   "execution_count": null,
   "metadata": {},
   "outputs": [],
   "source": [
    "import tensorflow as tf\n",
    "from tensorflow import autograph as ag\n",
    "\n",
    "#minimal code for method to demonstrate issue\n",
    "def foo(x):\n",
    "    if x > 0:\n",
    "        y = x * x\n",
    "    else:\n",
    "        y = -x\n",
    "    return y\n",
    "\n",
    "#graph construction\n",
    "mdl = tf.Graph()\n",
    "with mdl.as_default():\n",
    "    converted_foo = ag.to_graph(foo)\n",
    "    print(ag.to_code(foo))\n",
    "    x = tf.placeholder(tf.float32, name='x')\n",
    "    y = converted_foo(x)\n",
    "\n",
    "#graph execution\n",
    "with tf.Session(graph=mdl) as sess:\n",
    "    aval = sess.run(y, feed_dict={x:4})\n",
    "    print('output for x>0 is ' + str(aval))\n",
    "    aval = sess.run(y, feed_dict={x:-4})\n",
    "    print('output for x<=0 is ' + str(aval))\n",
    "    mdlName = \"foo\"\n",
    "    writer = tf.summary.FileWriter(\"../kchain/log/example/model/\"+mdlName, sess.graph, filename_suffix=mdlName)\n",
    "        \n",
    "    # Close the writer\n",
    "    writer.close()"
   ]
  },
  {
   "cell_type": "code",
   "execution_count": null,
   "metadata": {},
   "outputs": [],
   "source": [
    "inputPacket = {\n",
    "                  \"inputVariables\": [\n",
    "                    {\n",
    "                        \"name\": \"x\",\n",
    "                        \"type\": \"double\"\n",
    "                    }\n",
    "                  ],\n",
    "                  \"outputVariables\": [\n",
    "                    {\n",
    "                      \"name\": \"y\",\n",
    "                      \"type\": \"double\"\n",
    "                    }\n",
    "                  ],\n",
    "                   \"equationModel\" : \"\"\"\n",
    "    if x > 0:\n",
    "        y = x * x\n",
    "    else:\n",
    "        y = -x\n",
    "\"\"\",\n",
    "                   \"modelName\" : \"foo\"\n",
    "                 }\n",
    "r = requests.post(url_build, json=inputPacket)\n",
    "r.json()\n"
   ]
  },
  {
   "cell_type": "code",
   "execution_count": null,
   "metadata": {},
   "outputs": [],
   "source": [
    "evalPacket = {\n",
    "  \"inputVariables\": [\n",
    "    {\n",
    "      \"name\": \"x\",\n",
    "      \"type\": \"double\",\n",
    "      \"value\": \"-10\"\n",
    "    }\n",
    "  ],\n",
    "  \"modelName\": \"foo\",\n",
    "  \"outputVariables\": [\n",
    "    {\n",
    "      \"name\": \"y\",\n",
    "      \"type\": \"double\"\n",
    "    }\n",
    "  ]\n",
    "}\n",
    "r = requests.post(url_evaluate, json=evalPacket)\n",
    "r.json()"
   ]
  },
  {
   "cell_type": "markdown",
   "metadata": {},
   "source": [
    "# Engine Sim Examples"
   ]
  },
  {
   "cell_type": "code",
   "execution_count": null,
   "metadata": {},
   "outputs": [],
   "source": [
    "inputPacket = {\n",
    "                  \"inputVariables\": [\n",
    "                    {\n",
    "                        \"name\": \"temp\",\n",
    "                        \"type\": \"float\"\n",
    "                    },\n",
    "                    {\n",
    "                        \"name\": \"opt\",\n",
    "                        \"type\": \"integer\",\n",
    "                        \"value\":\"0\"\n",
    "                    }\n",
    "                  ],\n",
    "                  \"outputVariables\": [\n",
    "                    {\n",
    "                      \"name\": \"Turbo_getGama\",\n",
    "                      \"type\": \"float\"\n",
    "                    }\n",
    "                  ],\n",
    "                   \"equationModel\" : \"\"\"#Utility to get gamma as a function of temp\\n    a = -7.6942651e-13\\n    b = 1.3764661e-08\\n    c = -7.8185709e-05\\n    d = 1.436914\\n    if opt == 0:\\n        number = 1.4000\\n    else:\\n        number = a * temp * temp * temp + b * temp * temp + c * temp + d\\n    Turbo_getGama = number\\n\"\"\",\n",
    "                   \"modelName\" : \"Turbo_getGama\"\n",
    "                 }\n",
    "r = requests.post(url_build, json=inputPacket)\n",
    "r.json()"
   ]
  },
  {
   "cell_type": "code",
   "execution_count": null,
   "metadata": {},
   "outputs": [],
   "source": [
    "inputPacket = {\"modelName\":\"Turbo_getGama\",\"equationModel\":\"#  Utility to get gamma as a function of temp\\n    a = -7.6942651e-13\\n    b = 1.3764661e-08\\n    c = -7.8185709e-05\\n    d = 1.436914\\n    if opt == 0:\\n        number = 1.4\\n    else:\\n        number = a * temp * temp * temp + b * temp * temp + c * temp + d\\n    Turbo_getGama = number\\n\",\"inputVariables\":[{\"name\":\"temp\",\"type\":\"float\"},{\"name\":\"opt\",\"type\":\"integer\"}],\"outputVariables\":[{\"name\":\"Turbo_getGama\",\"type\":\"float\"}]}\n",
    "r = requests.post(url_build, json=inputPacket)\n",
    "r.json()"
   ]
  },
  {
   "cell_type": "code",
   "execution_count": null,
   "metadata": {},
   "outputs": [],
   "source": [
    "evalPacket = {\n",
    "  \"inputVariables\": [\n",
    "    {\n",
    "      \"name\": \"temp\",\n",
    "      \"type\": \"float\",\n",
    "      \"value\": \"[600.00, 660.00]\"\n",
    "    },\n",
    "    {\n",
    "        \"name\": \"opt\",\n",
    "        \"type\": \"integer\",\n",
    "        \"value\": \"0\"\n",
    "    }\n",
    "  ],\n",
    "  \"modelName\": \"Turbo_getGama\",\n",
    "  \"outputVariables\": [\n",
    "    {\n",
    "      \"name\": \"Turbo_getGama\",\n",
    "      \"type\": \"float\"\n",
    "    }\n",
    "  ]\n",
    "}\n",
    "r = requests.post(url_evaluate, json=evalPacket)\n",
    "r.json()"
   ]
  },
  {
   "cell_type": "markdown",
   "metadata": {},
   "source": [
    "# AST-based Code Transformation:"
   ]
  },
  {
   "cell_type": "code",
   "execution_count": null,
   "metadata": {},
   "outputs": [],
   "source": [
    "import ast\n",
    "import astor"
   ]
  },
  {
   "cell_type": "code",
   "execution_count": 6,
   "metadata": {},
   "outputs": [
    {
     "name": "stdout",
     "output_type": "stream",
     "text": [
      "<_ast.Module object at 0x000001C275229160>\n",
      "if opt == 0:\n",
      "    y = x ** 2\n",
      "else:\n",
      "    y = -x\n",
      "\n",
      "<_ast.Compare object at 0x000001C2752292E8>\n",
      "opt == 0\n",
      "\n",
      "<_ast.Assign object at 0x000001C275229390>\n",
      "y = x ** 2\n",
      "\n",
      "<_ast.Name object at 0x000001C2752293C8>\n",
      "y\n",
      "\n",
      "<_ast.BinOp object at 0x000001C275229400>\n",
      "x ** 2\n",
      "\n",
      "<_ast.Assign object at 0x000001C2752294A8>\n",
      "y = -x\n",
      "\n",
      "<_ast.Name object at 0x000001C2752294E0>\n",
      "y\n",
      "\n",
      "<_ast.UnaryOp object at 0x000001C275229518>\n",
      "-x\n",
      "\n"
     ]
    },
    {
     "data": {
      "text/plain": [
       "\"Module(body=[FunctionDef(name='foo', args=arguments(args=[arg(arg='x', annotation=None), arg(arg='opt', annotation=None)], vararg=None, kwonlyargs=[], kw_defaults=[], kwarg=None, defaults=[]), body=[If(test=Compare(left=Name(id='opt', ctx=Load()), ops=[Eq()], comparators=[Num(n=0)]), body=[Assign(targets=[Name(id='y', ctx=Store())], value=BinOp(left=Name(id='x', ctx=Load()), op=Pow(), right=Num(n=2)))], orelse=[Assign(targets=[Name(id='y', ctx=Store())], value=UnaryOp(op=USub(), operand=Name(id='x', ctx=Load())))]), Return(value=Name(id='y', ctx=Load()))], decorator_list=[], returns=None)])\""
      ]
     },
     "execution_count": 6,
     "metadata": {},
     "output_type": "execute_result"
    }
   ],
   "source": [
    "\n",
    "\n",
    "codeStr = '''\n",
    "def foo(x, opt):\n",
    "    if opt == 0:\n",
    "        y = x ** 2\n",
    "    else:\n",
    "        y = -x\n",
    "    return y\n",
    "'''\n",
    "\n",
    "tree = ast.parse(codeStr)\n",
    "\n",
    "print(tree)\n",
    "for node in ast.walk(tree):\n",
    "    if isinstance(node, ast.If):\n",
    "        print(astor.to_source(node))\n",
    "        for n in ast.iter_child_nodes(node):\n",
    "            print(n)\n",
    "            print(astor.to_source(n))\n",
    "            if isinstance(n, ast.Assign):\n",
    "                for n2 in ast.iter_child_nodes(n):\n",
    "                    print(n2)\n",
    "                    print(astor.to_source(n2))\n",
    "        \n",
    "\n",
    "ast.dump(tree)\n",
    "\n"
   ]
  },
  {
   "cell_type": "markdown",
   "metadata": {},
   "source": [
    "Code in Autograph Tensorflow for If statement:\n",
    "```\n",
    "class ConditionalExpressionTransformer(ast.NodeTransformer):\n",
    "  \"\"\"Converts contitional expressions to functional form.\"\"\"\n",
    "\n",
    "  def visit_IfExp(self, node):\n",
    "    return templates.replace_as_expression(\n",
    "        '''tf.where_v2(\n",
    "            test,\n",
    "            lambda: true_expr,\n",
    "            lambda: false_expr)\n",
    "        ''',\n",
    "        test=node.test,\n",
    "        true_expr=node.body,\n",
    "        false_expr=node.orelse)\n",
    "\n",
    "\n",
    "def transform(node, ctx):\n",
    "  node = ConditionalExpressionTransformer(ctx).visit(node)\n",
    "  return node\n",
    "```"
   ]
  },
  {
   "cell_type": "code",
   "execution_count": null,
   "metadata": {},
   "outputs": [],
   "source": [
    "pow_func = ast.parse(\"tf.math.pow\", mode=\"eval\").body\n",
    "for node in ast.walk(tree):\n",
    "    if isinstance(node, ast.BinOp):\n",
    "        print(astor.to_source(node))\n",
    "        print(node.left)\n",
    "        print(astor.to_source(node.left))\n",
    "        print(node.right)\n",
    "        print(astor.to_source(node.right))\n",
    "        print(node.op)\n",
    "        if isinstance(node.op, ast.Pow):\n",
    "            node = ast.copy_location(\n",
    "                       ast.Call(func=pow_func,\n",
    "                                args=[node.left, node.right],\n",
    "                                keywords=[]\n",
    "                               ),\n",
    "                       node\n",
    "                   )\n",
    "            print(astor.to_source(node))      \n",
    "            \n"
   ]
  },
  {
   "cell_type": "markdown",
   "metadata": {},
   "source": [
    "```\n",
    "import ast\n",
    "\n",
    "pow_func = ast.parse(\"math.pow\", mode=\"eval\").body\n",
    "\n",
    "class PowForDoubleStar(ast.NodeTransformer):\n",
    "    def visit_BinOp(self, node):\n",
    "        node.left = self.visit(node.left)\n",
    "        node.right = self.visit(node.right)\n",
    "\n",
    "        if isinstance(node.op, ast.Pow):\n",
    "            node = ast.copy_location(\n",
    "                       ast.Call(func=pow_func,\n",
    "                                args=[node.left, node.right],\n",
    "                                keywords=[]\n",
    "                               ),\n",
    "                       node\n",
    "                   )\n",
    "\n",
    "        return node\n",
    "```"
   ]
  },
  {
   "cell_type": "code",
   "execution_count": null,
   "metadata": {},
   "outputs": [],
   "source": [
    "pow_func = ast.parse(\"tf.math.pow\", mode=\"eval\").body\n",
    "class PowForDoubleStar(ast.NodeTransformer):\n",
    "    def visit_BinOp(self, node):\n",
    "        node.left = self.visit(node.left)\n",
    "        node.right = self.visit(node.right)\n",
    "\n",
    "        if isinstance(node.op, ast.Pow):\n",
    "            node = ast.copy_location(\n",
    "                       ast.Call(func=pow_func,\n",
    "                                args=[node.left, node.right],\n",
    "                                keywords=[]\n",
    "                               ),\n",
    "                       node\n",
    "                   )\n",
    "\n",
    "        return node"
   ]
  },
  {
   "cell_type": "code",
   "execution_count": null,
   "metadata": {},
   "outputs": [],
   "source": [
    "tree = PowForDoubleStar().visit(tree)"
   ]
  },
  {
   "cell_type": "code",
   "execution_count": null,
   "metadata": {},
   "outputs": [],
   "source": [
    "print(astor.to_source(tree))    "
   ]
  },
  {
   "cell_type": "code",
   "execution_count": null,
   "metadata": {},
   "outputs": [],
   "source": [
    "batchCond_func = ast.parse(\"tf.where_v2\", mode=\"eval\").body\n",
    "class BatchProcessingForConditionals(ast.NodeTransformer):\n",
    "    def visit_If(self, node):      \n",
    "        if isinstance(node.body[0], ast.Assign) and isinstance(node.orelse[0], ast.Assign):\n",
    "            node = ast.copy_location(ast.Call(func=batchCond_func,\n",
    "                                              args=[node.test, node.body, node.orelse],\n",
    "                                              keywords=[]\n",
    "                                             ),\n",
    "                                     node\n",
    "                                    )\n",
    "            ast.fix_missing_locations(node)\n",
    "        return node"
   ]
  },
  {
   "cell_type": "code",
   "execution_count": null,
   "metadata": {},
   "outputs": [],
   "source": [
    "tree = BatchProcessingForConditionals().visit(tree)\n"
   ]
  },
  {
   "cell_type": "code",
   "execution_count": null,
   "metadata": {},
   "outputs": [],
   "source": [
    "print(astor.to_source(tree))  \n",
    "print(ast.dump(tree))"
   ]
  },
  {
   "cell_type": "code",
   "execution_count": null,
   "metadata": {},
   "outputs": [],
   "source": [
    "import ast\n",
    "import astor\n",
    "codeStr =\"\"\"\n",
    "def getMach(sub, corair, gamma):\n",
    "    #  Utility to get the Mach number given the corrected airflow per area \n",
    "    # /* iterate for mach number */\n",
    "    chokair = getAir(1.0, gamma)\n",
    "    if corair > chokair:\n",
    "        number = 1.0\n",
    "        return number\n",
    "    else:\n",
    "        airo = 0.25618\n",
    "        # /* initial guess */\n",
    "        if sub == 1:\n",
    "            macho = 1.0\n",
    "        else:\n",
    "            # /* sonic */\n",
    "            if sub == 2:\n",
    "                macho = 1.703\n",
    "            else:\n",
    "                macho = 0.5\n",
    "            # /* subsonic */\n",
    "            iter = 1\n",
    "            machn = macho - 0.2\n",
    "            while tf.math.abs(corair - airo) > 0.0001 and iter < 20:\n",
    "                airn = getAir(machn, gamma)\n",
    "                deriv = (airn - airo) / (machn - macho)\n",
    "                airo = airn\n",
    "                macho = machn\n",
    "                machn = macho + (corair - airo) / deriv\n",
    "                iter += 1\n",
    "        number = macho\n",
    "    return number\n",
    "\"\"\""
   ]
  },
  {
   "cell_type": "code",
   "execution_count": 2,
   "metadata": {},
   "outputs": [
    {
     "data": {
      "text/plain": [
       "\"Module(body=[FunctionDef(name='getMach', args=arguments(args=[arg(arg='sub', annotation=None), arg(arg='corair', annotation=None), arg(arg='gamma', annotation=None)], vararg=None, kwonlyargs=[], kw_defaults=[], kwarg=None, defaults=[]), body=[Assign(targets=[Name(id='chokair', ctx=Store())], value=Call(func=Name(id='getAir', ctx=Load()), args=[Num(n=1.0), Name(id='gamma', ctx=Load())], keywords=[])), If(test=Compare(left=Name(id='corair', ctx=Load()), ops=[Gt()], comparators=[Name(id='chokair', ctx=Load())]), body=[Assign(targets=[Name(id='number', ctx=Store())], value=Num(n=1.0)), Return(value=Name(id='number', ctx=Load()))], orelse=[Assign(targets=[Name(id='airo', ctx=Store())], value=Num(n=0.25618)), If(test=Compare(left=Name(id='sub', ctx=Load()), ops=[Eq()], comparators=[Num(n=1)]), body=[Assign(targets=[Name(id='macho', ctx=Store())], value=Num(n=1.0))], orelse=[If(test=Compare(left=Name(id='sub', ctx=Load()), ops=[Eq()], comparators=[Num(n=2)]), body=[Assign(targets=[Name(id='macho', ctx=Store())], value=Num(n=1.703))], orelse=[Assign(targets=[Name(id='macho', ctx=Store())], value=Num(n=0.5))]), Assign(targets=[Name(id='iter', ctx=Store())], value=Num(n=1)), Assign(targets=[Name(id='machn', ctx=Store())], value=BinOp(left=Name(id='macho', ctx=Load()), op=Sub(), right=Num(n=0.2))), While(test=BoolOp(op=And(), values=[Compare(left=Call(func=Attribute(value=Attribute(value=Name(id='tf', ctx=Load()), attr='math', ctx=Load()), attr='abs', ctx=Load()), args=[BinOp(left=Name(id='corair', ctx=Load()), op=Sub(), right=Name(id='airo', ctx=Load()))], keywords=[]), ops=[Gt()], comparators=[Num(n=0.0001)]), Compare(left=Name(id='iter', ctx=Load()), ops=[Lt()], comparators=[Num(n=20)])]), body=[Assign(targets=[Name(id='airn', ctx=Store())], value=Call(func=Name(id='getAir', ctx=Load()), args=[Name(id='machn', ctx=Load()), Name(id='gamma', ctx=Load())], keywords=[])), Assign(targets=[Name(id='deriv', ctx=Store())], value=BinOp(left=BinOp(left=Name(id='airn', ctx=Load()), op=Sub(), right=Name(id='airo', ctx=Load())), op=Div(), right=BinOp(left=Name(id='machn', ctx=Load()), op=Sub(), right=Name(id='macho', ctx=Load())))), Assign(targets=[Name(id='airo', ctx=Store())], value=Name(id='airn', ctx=Load())), Assign(targets=[Name(id='macho', ctx=Store())], value=Name(id='machn', ctx=Load())), Assign(targets=[Name(id='machn', ctx=Store())], value=BinOp(left=Name(id='macho', ctx=Load()), op=Add(), right=BinOp(left=BinOp(left=Name(id='corair', ctx=Load()), op=Sub(), right=Name(id='airo', ctx=Load())), op=Div(), right=Name(id='deriv', ctx=Load())))), AugAssign(target=Name(id='iter', ctx=Store()), op=Add(), value=Num(n=1))], orelse=[])]), Assign(targets=[Name(id='number', ctx=Store())], value=Name(id='macho', ctx=Load()))]), Return(value=Name(id='number', ctx=Load()))], decorator_list=[], returns=None)])\""
      ]
     },
     "execution_count": 2,
     "metadata": {},
     "output_type": "execute_result"
    }
   ],
   "source": [
    "tree = ast.parse(codeStr)\n",
    "\n",
    "ast.dump(tree)"
   ]
  },
  {
   "cell_type": "code",
   "execution_count": 3,
   "metadata": {},
   "outputs": [],
   "source": [
    "import copy\n",
    "class WhileLoopTransformation(ast.NodeTransformer):\n",
    "    def visit_While(self, node):\n",
    "        print(astor.to_source(node))\n",
    "        #print(ast.dump(node))\n",
    "        l1 = copy.deepcopy(node.body)\n",
    "        l1.append(ast.While(test=node.test, body=node.body, orelse = []))\n",
    "        print(l1)\n",
    "        l2 = copy.deepcopy(node.body)\n",
    "        l2.append(ast.If(test = node.test, body = l1, orelse = []))\n",
    "        print(l1)\n",
    "        node = ast.copy_location(ast.If(test = node.test, body = l2, orelse = []), node)\n",
    "        ast.fix_missing_locations(node)\n",
    "        print(astor.to_source(node))\n",
    "        return node"
   ]
  },
  {
   "cell_type": "code",
   "execution_count": 7,
   "metadata": {},
   "outputs": [],
   "source": [
    "tree = WhileLoopTransformation().visit(tree)"
   ]
  },
  {
   "cell_type": "code",
   "execution_count": 8,
   "metadata": {},
   "outputs": [
    {
     "name": "stdout",
     "output_type": "stream",
     "text": [
      "def foo(x, opt):\n",
      "    if opt == 0:\n",
      "        y = x ** 2\n",
      "    else:\n",
      "        y = -x\n",
      "    return y\n",
      "\n"
     ]
    }
   ],
   "source": [
    "print(astor.to_source(tree))"
   ]
  },
  {
   "cell_type": "code",
   "execution_count": null,
   "metadata": {},
   "outputs": [],
   "source": []
  },
  {
   "cell_type": "code",
   "execution_count": null,
   "metadata": {},
   "outputs": [],
   "source": []
  }
 ],
 "metadata": {
  "kernelspec": {
   "display_name": "Python 3",
   "language": "python",
   "name": "python3"
  },
  "language_info": {
   "codemirror_mode": {
    "name": "ipython",
    "version": 3
   },
   "file_extension": ".py",
   "mimetype": "text/x-python",
   "name": "python",
   "nbconvert_exporter": "python",
   "pygments_lexer": "ipython3",
   "version": "3.6.7"
  }
 },
 "nbformat": 4,
 "nbformat_minor": 2
}
