{
 "cells": [
  {
   "cell_type": "markdown",
   "metadata": {},
   "source": [
    "This notebook explores examples and demonstrates creation and visualization of computational graphs. We also leverage automatic differentiation of TensorFlow to capture known physics equations with derivatives.  "
   ]
  },
  {
   "cell_type": "code",
   "execution_count": 1,
   "metadata": {},
   "outputs": [],
   "source": [
    "import tensorflow as tf\n",
    "import tensorflow_probability as tfp"
   ]
  },
  {
   "cell_type": "markdown",
   "metadata": {},
   "source": [
    "# Constructing computational graph in a TensorFlow session"
   ]
  },
  {
   "cell_type": "code",
   "execution_count": 2,
   "metadata": {},
   "outputs": [],
   "source": [
    "mdl1 = tf.Graph()\n",
    "\n",
    "with mdl1.as_default():\n",
    "    a = tf.placeholder(tf.float32, name=\"a\")\n",
    "    b = tf.multiply(2.0, a, name=\"b\")\n",
    "    c = tf.add(a, b, name=\"c\")\n",
    "\n",
    "# Intialize the Session\n",
    "sess_1 = tf.Session(graph=mdl1)   \n",
    "\n",
    "# Initialize writer\n",
    "writer = tf.summary.FileWriter(\"./log/example/1\", sess_1.graph)\n",
    "\n",
    "# Close the writer\n",
    "writer.close()\n",
    "\n",
    "# Close the session\n",
    "sess_1.close()"
   ]
  },
  {
   "attachments": {},
   "cell_type": "markdown",
   "metadata": {},
   "source": [
    "Note that these codes weere put manually, but eventually a transalator will create tthese codes from the semantic knowledge graphs. The attribute of name of the v\n",
    "The graph constructed by the above TensorFlow session can be visualized in TensorBoard. One can open TensorBoard as follows:\n",
    "\n",
    "Type the following in cmd prompt:\n",
    "\n",
    "    tensorboard --logdir=\"./log/example\"\n",
    "\n",
    "The resulting computational graph is available under Graph tab of TensorBoard or by going to http://localhost:6006/#graphs\n",
    "in your browser after running TensorBoard:\n",
    "<img src=\"TensorBoard_overview.PNG\" width=\"600\"/>\n",
    "\n",
    "As shown in the above figure the computational graph depicted by the above code is as follows:\n",
    "<img src=\"example_1.png\"/>"
   ]
  },
  {
   "attachments": {},
   "cell_type": "markdown",
   "metadata": {},
   "source": [
    "# Constructing computational graph with symbolic derivative in a TensorFlow session\n",
    "\n",
    "For the ScientificConcept of Derivative from the semantic model, we plan to add a symbolic derivative using tf.gradients which will be incorporated in the tensorFlow computational graph.\n",
    "\n",
    "The definition of Derivative as a ScientificConcept in semantic modelo is given here:\n",
    "\n",
    "<img src=\"Figures\\def_derivative_ex.PNG\"/>\n",
    "\n",
    "As an example, we show the definition of ScientificConcept of Velocity\n",
    "<img src=\"Figures\\vel_derivative_ex.PNG\"/>\n",
    "\n",
    "\n",
    "The Derivative is encoded in graph model using tf.gradients for Velocity example as follows:\n",
    "```\n",
    "Velocity = tf.gradients(Position, [time], stop_gradients=[time],name=\"Velocity\")\n",
    "```\n",
    "\n",
    "In general, we can use the followwing during translation:\n",
    "```\n",
    "Output ScientificConcept = tf.gradients(derivativeOf ScientificConcept, [withRespectTo class], stop_gradients=[withRespectTo class],name=\"Output\")\n",
    "```\n",
    "\n",
    "We show a TensorFlow code and the resulting computational graph with example 1 and the symbolic derivative:"
   ]
  },
  {
   "cell_type": "code",
   "execution_count": 7,
   "metadata": {},
   "outputs": [],
   "source": [
    "mdl2 = tf.Graph()\n",
    "with mdl2.as_default():\n",
    "    a = tf.placeholder(tf.float32, name=\"a\")\n",
    "    d = tf.constant(2.0)\n",
    "    b = tf.multiply(d, a, name=\"b\")\n",
    "    c = tf.add(a, b, name=\"c\")\n",
    "    g = tf.gradients(c, [a], stop_gradients=[a],name=\"g\")\n",
    "\n",
    "# Intialize the Session\n",
    "sess_2 = tf.Session(graph=mdl2)\n",
    "\n",
    "# Initialize writer\n",
    "writer = tf.summary.FileWriter(\"./log/example/2\", sess_2.graph)\n",
    "\n",
    "# Close the writer\n",
    "writer.close()\n",
    "\n",
    "# Close the session\n",
    "sess_2.close()"
   ]
  },
  {
   "attachments": {},
   "cell_type": "markdown",
   "metadata": {},
   "source": [
    "The computational graph depicted by the above code as visualized by TensorBoard is as follows:\n",
    "\n",
    "<img src=\"Figures\\example_2.png\" width=\"400\"/>"
   ]
  },
  {
   "cell_type": "markdown",
   "metadata": {},
   "source": [
    "# Creating knowledge-consistent graph models in chosen domain "
   ]
  },
  {
   "cell_type": "markdown",
   "metadata": {},
   "source": [
    "When exact knowledge of relationships via equations is available, the translator needs to use correct Python/TensorFlow syntax to encode that knowledge as a computational graph. "
   ]
  },
  {
   "cell_type": "code",
   "execution_count": 8,
   "metadata": {},
   "outputs": [],
   "source": [
    "mdl3 = tf.Graph()\n",
    "with mdl3.as_default():\n",
    "    t = tf.placeholder(tf.float32, name=\"time\")\n",
    "    \n",
    "    with tf.name_scope(\"position\", [\"x0\", \"v0\", \"a0\", \"x\"]) as scope:\n",
    "        x0 = tf.constant([0.0], name=\"x0\")\n",
    "        v0 = tf.constant([0.5], name=\"v0\")\n",
    "        a0 = tf.constant([0.5], name=\"a0\")\n",
    "        x = tf.placeholder(tf.float32, name=\"x\")\n",
    "        x = x0 + v0*t + 0.5*a0* t**2\n",
    "\n",
    "    with tf.name_scope(\"mass\", [\"r0\", \"m0\", \"m\"]) as scope:\n",
    "        r0 = tf.constant([-0.001], name=\"r0\")\n",
    "        m0 = tf.constant([10.0], name=\"m0\")\n",
    "        m = tf.placeholder(tf.float32, name=\"mass\")\n",
    "        m = m0 + r0*t\n",
    "\n",
    "    v = tf.gradients(x, [t], stop_gradients=[t], name=\"velocity\")\n",
    "    P = tf.multiply(m,v, name=\"momentum\")\n",
    "    F = tf.gradients(P, [t], stop_gradients=[t], name=\"force\")\n",
    "\n",
    "# Intialize the Session\n",
    "with tf.Session(graph=mdl3) as sess:    \n",
    "    # Initialize writer\n",
    "    writer = tf.summary.FileWriter(\"./log/example/3\", sess.graph)\n",
    "    # Close the writer\n",
    "    writer.close()"
   ]
  },
  {
   "attachments": {},
   "cell_type": "markdown",
   "metadata": {},
   "source": [
    "The computational graph depicted by the above code as visualized by TensorBoard is as follows:\n",
    "\n",
    "<img src=\"Figures\\example_3.png\" width=\"400\"/>\n",
    "\n",
    "This computational graph is hierarchical and details of computation under each node can be seen as follows:\n",
    "<img src=\"Figures\\example_3_2.png\" width=\"600\"/>"
   ]
  },
  {
   "cell_type": "markdown",
   "metadata": {},
   "source": [
    "However, if we have partial knowledge that _position is time-varying_, then we might want to use a data-driven model to change incomplete knowledge to model uncertainty. In this example we define a neural network to capture that position is an unknown function of time"
   ]
  },
  {
   "cell_type": "code",
   "execution_count": 9,
   "metadata": {},
   "outputs": [],
   "source": [
    "def neural_network(X, W, b):\n",
    "    h = X\n",
    "    for ii in range(len(W)-1):\n",
    "        h = tf.nn.relu(tf.matmul(h, W[ii]) + b[ii])\n",
    "\n",
    "    h = tf.matmul(h, W[-1]) + b[-1]\n",
    "    return tf.reshape(h, [-1]) "
   ]
  },
  {
   "cell_type": "code",
   "execution_count": 10,
   "metadata": {},
   "outputs": [],
   "source": [
    "mdl4 = tf.Graph()\n",
    "with mdl4.as_default():\n",
    "    t = tf.placeholder(tf.float32, name=\"time\")\n",
    "    \n",
    "    with tf.name_scope(\"position\") as scope:\n",
    "        x = tf.placeholder(tf.float32, name=\"x\")\n",
    "        \n",
    "        #the structure of neural_network is hard-coded\n",
    "        W = []\n",
    "        W.append(tf.Variable(tf.random_uniform([1,3]), name=\"W_1\"))\n",
    "        W.append(tf.Variable(tf.random_uniform([3,1]), name=\"W_2\"))\n",
    "        b = []\n",
    "        b.append(tf.Variable(tf.random_uniform([3]), name=\"b_1\"))\n",
    "        b.append(tf.Variable(tf.random_uniform([1]), name=\"b_2\"))\n",
    "        \n",
    "        x = neural_network(t, W, b)\n",
    "\n",
    "    with tf.name_scope(\"mass\", [\"r0\", \"m0\", \"m\"]) as scope:\n",
    "        r0 = tf.constant([-0.001], name=\"r0\")\n",
    "        m0 = tf.constant([10.0], name=\"m0\")\n",
    "        m = tf.placeholder(tf.float32, name=\"mass\")\n",
    "        m = m0 + r0*t\n",
    "\n",
    "    v = tf.gradients(x, [t], stop_gradients=[t], name=\"velocity\")\n",
    "    P = tf.multiply(m,v, name=\"momentum\")\n",
    "    F = tf.gradients(P, [t], stop_gradients=[t], name=\"force\")\n",
    "\n",
    "# Intialize the Session\n",
    "with tf.Session(graph=mdl4) as sess:    \n",
    "    # Initialize writer\n",
    "    writer = tf.summary.FileWriter(\"./log/example/4\", sess.graph)\n",
    "    # Close the writer\n",
    "    writer.close()"
   ]
  },
  {
   "attachments": {},
   "cell_type": "markdown",
   "metadata": {},
   "source": [
    "The computational graph depicted by the above code as visualized by TensorBoard is as follows:\n",
    "\n",
    "<img src=\"Figures\\example_4.png\" width=\"400\"/>\n",
    "\n",
    "Note that the figure is this level is similar, but the hierarchical graph under position has a neural network instead of the physics-based equation of example 3 as shown below:\n",
    "\n",
    "<img src=\"Figures\\example_4_2.png\" width=\"600\"/>\n"
   ]
  },
  {
   "cell_type": "markdown",
   "metadata": {},
   "source": [
    "This shows modularity and that the graph can be refined locally to include hybrid models"
   ]
  },
  {
   "cell_type": "markdown",
   "metadata": {},
   "source": [
    "### References:\n",
    "\n",
    "TensorFlow gradients <br>\n",
    "https://www.tensorflow.org/api_docs/python/tf/gradients"
   ]
  },
  {
   "cell_type": "code",
   "execution_count": null,
   "metadata": {},
   "outputs": [],
   "source": []
  }
 ],
 "metadata": {
  "kernelspec": {
   "display_name": "Python 3",
   "language": "python",
   "name": "python3"
  },
  "language_info": {
   "codemirror_mode": {
    "name": "ipython",
    "version": 3
   },
   "file_extension": ".py",
   "mimetype": "text/x-python",
   "name": "python",
   "nbconvert_exporter": "python",
   "pygments_lexer": "ipython3",
   "version": "3.6.4"
  }
 },
 "nbformat": 4,
 "nbformat_minor": 2
}
